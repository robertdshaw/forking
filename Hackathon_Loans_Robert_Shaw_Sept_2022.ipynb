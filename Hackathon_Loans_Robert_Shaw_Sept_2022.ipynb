{
  "cells": [
    {
      "cell_type": "markdown",
      "metadata": {
        "id": "view-in-github",
        "colab_type": "text"
      },
      "source": [
        "<a href=\"https://colab.research.google.com/github/robertdshaw/forking/blob/main/Hackathon_Loans_Robert_Shaw_Sept_2022.ipynb\" target=\"_parent\"><img src=\"https://colab.research.google.com/assets/colab-badge.svg\" alt=\"Open In Colab\"/></a>"
      ]
    },
    {
      "cell_type": "markdown",
      "metadata": {
        "id": "5SADM5QsteXR"
      },
      "source": [
        "<center><p float=\"center\">\n",
        "  <img src=\"https://upload.wikimedia.org/wikipedia/commons/e/e9/4_RGB_McCombs_School_Brand_Branded.png\" width=\"300\" height=\"100\"/>\n",
        "  <img src=\"https://mma.prnewswire.com/media/1458111/Great_Learning_Logo.jpg?p=facebook\" width=\"200\" height=\"100\"/>\n",
        "</p></center>\n",
        "\n",
        "<h1><center><font size=10>Data Science and Business Analytics</center></font></h1>\n",
        "<h1><center>Supervised Learning Classification: Decision Tree </center></h1>"
      ]
    },
    {
      "cell_type": "markdown",
      "metadata": {
        "id": "Eo0h6UMuwmDU"
      },
      "source": [
        "<center><img src=\"https://img.freepik.com/free-vector/bank-credit-finance-management-loan-agreement-signing-mortgage-money-credit_335657-3136.jpg?w=826&t=st=1653911422~exp=1653912022~hmac=0f4ff8a8a443e542f79b51f8a572e5d9cf2d39e6eca18b749419db75be96c4c9\" width=\"700\" height=\"400\"></center>\n",
        "\n",
        "<b><h2><center>Hackathon: NBFC Loan Default</center></h2></b>"
      ]
    },
    {
      "cell_type": "markdown",
      "metadata": {
        "id": "5KIc3T1j5fK5"
      },
      "source": [
        "## Problem Statement"
      ]
    },
    {
      "cell_type": "markdown",
      "metadata": {
        "id": "pI92aFMWtHOi"
      },
      "source": [
        "### Context\n",
        "A non-banking financial institution (NBFI) or non-bank financial company (NBFC) is a Financial Institution that does not have a full banking license or is not supervised by a national or international banking regulatory agency. NBFC facilitates bank-related financial services, such as investment, risk pooling, contractual savings, and market brokering.\n",
        "\n",
        "The following is the story of a challenge faced by DHDL Ltd. (Name Changed), an NBFC in India. In recent times, the company is struggling to mark profits due to an increase in Loan Defaults. The company aims to determine the relative importance of each parameter with regards to their contribution as to whether a loan is going to default or not. Provided is a sample that contains the data of 90,000 + clients who have taken a loan from the company in the past with the information on whether the loan defaulted. \n",
        "\n",
        "### Objective\n",
        "The goal of the problem is to predict whether a client will default on the loan payment or not. For each ID in the test_data, you must predict the “default” level.\n",
        "\n",
        "### Dataset\n",
        "The problem contains two datasets, Train Data, and Test Data. Model building is to be done on Train Dataset and the Model testing is to be done on Test Dataset. The output from the Test Data is to be submitted in the Hackathon platform.\n",
        "Metric to measure\n",
        "Your score is the percentage of all correct predictions made by you. This is simply known as accuracy. The best accuracy is 1 whereas the worst is 0. It will be calculated as the total number of two correct predictions (True positive + True negative) divided by the total number of observations in the dataset.\n",
        "\n",
        "\n",
        "* ID: unique ID assigned to each applicant\n",
        "* loan_amnt: loan amount ($) applied each applicant\n",
        "* loan_term: Loan duration in years\n",
        "* interest_rate: Applicable interest rate on Loan in %\n",
        "* loan_grade: Loan Grade Assigned by the bank\n",
        "* loan_subgrade: Loan SubGrade Assigned by the bank\n",
        "* job_experience: Number of years job experience \n",
        "* home_ownership: Status of House Ownership\n",
        "* annual_income: Annual income of the applicant\n",
        "* income_verification_status: Status of Income verification by the bank\n",
        "* loan_purpose: Purpose of loan\n",
        "* state_code: State code of the applicant's residence \n",
        "* debt_to_income: Ratio to total debt to income (total debt might include other loan aswell)\n",
        "* delinq_2yrs: number of 30+ days delinquency in past 2 years\n",
        "* public_records: number of legal cases against the applicant\n",
        "* revolving_balance: total credit revolving balance\n",
        "* total_acc: total number of credit lines available in members credit line\n",
        "* interest_receive: total interest received by the bank on the loan\n",
        "* application_type: Whether the applicant has applied the loan by creating individuall or joint account\n",
        "* last_week_pay: How many months have the applicant paid the loan EMI already\n",
        "* total_current_balance: total current balance of all the accounts of applicant\n",
        "* total_revolving_limit: total revolving credit limit\n",
        "* default: \"status of loan amount:  1 = Defaulter:  0 = Non Defaulters\"\n"
      ]
    },
    {
      "cell_type": "markdown",
      "metadata": {
        "id": "tC574UFUD4A4"
      },
      "source": [
        "## Loading Libraries"
      ]
    },
    {
      "cell_type": "code",
      "execution_count": null,
      "metadata": {
        "id": "QGpj_K5-tHOu"
      },
      "outputs": [],
      "source": [
        "# this will help in making the Python code more structured automatically (good coding practice)\n",
        "#%load_ext nb_black\n",
        "\n",
        "# Library to suppress warnings or deprecation notes\n",
        "import warnings\n",
        "\n",
        "warnings.filterwarnings(\"ignore\")\n",
        "\n",
        "# Libraries to help with reading and manipulating data\n",
        "\n",
        "import pandas as pd\n",
        "import numpy as np\n",
        "\n",
        "# Library to split data\n",
        "from sklearn.model_selection import train_test_split\n",
        "\n",
        "# libaries to help with data visualization\n",
        "import matplotlib.pyplot as plt\n",
        "import seaborn as sns\n",
        "\n",
        "# Removes the limit for the number of displayed columns\n",
        "pd.set_option(\"display.max_columns\", None)\n",
        "# Sets the limit for the number of displayed rows\n",
        "pd.set_option(\"display.max_rows\", 200)\n",
        "\n",
        "# Libraries to build decision tree classifier\n",
        "from sklearn.tree import DecisionTreeClassifier\n",
        "from sklearn import tree\n",
        "\n",
        "# To tune different models\n",
        "from sklearn.model_selection import GridSearchCV\n",
        "\n",
        "# To perform statistical analysis\n",
        "import scipy.stats as stats\n",
        "\n",
        "# To get diferent metric scores\n",
        "from sklearn.metrics import (\n",
        "    f1_score,\n",
        "    accuracy_score,\n",
        "    recall_score,\n",
        "    precision_score,\n",
        "    confusion_matrix,\n",
        "    plot_confusion_matrix,\n",
        "    make_scorer,\n",
        ")"
      ]
    },
    {
      "cell_type": "markdown",
      "metadata": {
        "id": "a9ZMNfUNhU14"
      },
      "source": [
        "## Loading data"
      ]
    },
    {
      "cell_type": "code",
      "execution_count": null,
      "metadata": {
        "id": "5gFhiltUtHOx"
      },
      "outputs": [],
      "source": [
        "data_train = pd.read_csv(\"/content/Train_set.csv\")"
      ]
    },
    {
      "cell_type": "code",
      "execution_count": null,
      "metadata": {
        "id": "HckxqH5EtHOy"
      },
      "outputs": [],
      "source": [
        "# copying data to another varaible to avoid any changes to original data\n",
        "loan = data_train.copy()"
      ]
    },
    {
      "cell_type": "markdown",
      "metadata": {
        "id": "2bPpyK_cEHzq"
      },
      "source": [
        "## Overview of the data"
      ]
    },
    {
      "cell_type": "markdown",
      "metadata": {
        "id": "r8omfzv0tHOz"
      },
      "source": [
        "### View the first and last 5 rows of the dataset."
      ]
    },
    {
      "cell_type": "code",
      "source": [
        "# checking the distribution of the target variable\n",
        "loan[\"default\"].value_counts(1)"
      ],
      "metadata": {
        "colab": {
          "base_uri": "https://localhost:8080/"
        },
        "id": "hGZtXFc6xDXj",
        "outputId": "6d41a3a3-c8a4-4cc4-a745-df3be7bdc129"
      },
      "execution_count": null,
      "outputs": [
        {
          "output_type": "execute_result",
          "data": {
            "text/plain": [
              "0.0    0.761011\n",
              "1.0    0.238989\n",
              "Name: default, dtype: float64"
            ]
          },
          "metadata": {},
          "execution_count": 4
        }
      ]
    },
    {
      "cell_type": "code",
      "execution_count": null,
      "metadata": {
        "colab": {
          "base_uri": "https://localhost:8080/",
          "height": 270
        },
        "id": "x2Rq37zptHO0",
        "scrolled": true,
        "outputId": "e158d6e8-0b74-4601-ff83-32e059462f6f"
      },
      "outputs": [
        {
          "output_type": "execute_result",
          "data": {
            "text/plain": [
              "         ID  loan_amnt loan_term  interest_rate loan_grade loan_subgrade  \\\n",
              "0  72199369       9000   3 years           9.17          B            B2   \n",
              "1  14257956      18000   3 years          13.65          C            C1   \n",
              "2  66216451      16000   3 years           7.26          A            A4   \n",
              "3  46974169      25000   3 years          13.99          C            C4   \n",
              "4  46725961      17000   3 years           6.39          A            A2   \n",
              "\n",
              "  job_experience home_ownership  annual_income income_verification_status  \\\n",
              "0       <5 Years            OWN        85000.0               Not Verified   \n",
              "1       <5 Years            OWN        64000.0                   Verified   \n",
              "2       <5 Years       MORTGAGE       150000.0            Source Verified   \n",
              "3            NaN       MORTGAGE        59800.0                   Verified   \n",
              "4      10+ years       MORTGAGE        72000.0            Source Verified   \n",
              "\n",
              "         loan_purpose state_code  debt_to_income  delinq_2yrs  public_records  \\\n",
              "0  debt_consolidation         NC           26.68          0.0             0.0   \n",
              "1  debt_consolidation         SC           31.67          0.0             1.0   \n",
              "2  debt_consolidation         TX           19.70          2.0             0.0   \n",
              "3  debt_consolidation         MO           37.39          0.0             0.0   \n",
              "4         credit_card         TX            8.92          0.0             0.0   \n",
              "\n",
              "   revolving_balance  total_acc  interest_receive application_type  \\\n",
              "0            39519.0       20.0             59.60       INDIVIDUAL   \n",
              "1             9783.0       24.0           3348.25       INDIVIDUAL   \n",
              "2            13641.0       27.0            276.69       INDIVIDUAL   \n",
              "3            35020.0       35.0           1106.72       INDIVIDUAL   \n",
              "4            23990.0       26.0            725.29       INDIVIDUAL   \n",
              "\n",
              "   last_week_pay  total_current_balance  total_revolving_limit  default  \n",
              "0            4.0                95493.0                84100.0      0.0  \n",
              "1           95.0               185433.0                13500.0      0.0  \n",
              "2           13.0               180519.0                19300.0      0.0  \n",
              "3           17.0               183208.0                55400.0      0.0  \n",
              "4           39.0                23990.0                81300.0      0.0  "
            ],
            "text/html": [
              "\n",
              "  <div id=\"df-e3d961d4-972a-45ad-ada7-9f75ef30f019\">\n",
              "    <div class=\"colab-df-container\">\n",
              "      <div>\n",
              "<style scoped>\n",
              "    .dataframe tbody tr th:only-of-type {\n",
              "        vertical-align: middle;\n",
              "    }\n",
              "\n",
              "    .dataframe tbody tr th {\n",
              "        vertical-align: top;\n",
              "    }\n",
              "\n",
              "    .dataframe thead th {\n",
              "        text-align: right;\n",
              "    }\n",
              "</style>\n",
              "<table border=\"1\" class=\"dataframe\">\n",
              "  <thead>\n",
              "    <tr style=\"text-align: right;\">\n",
              "      <th></th>\n",
              "      <th>ID</th>\n",
              "      <th>loan_amnt</th>\n",
              "      <th>loan_term</th>\n",
              "      <th>interest_rate</th>\n",
              "      <th>loan_grade</th>\n",
              "      <th>loan_subgrade</th>\n",
              "      <th>job_experience</th>\n",
              "      <th>home_ownership</th>\n",
              "      <th>annual_income</th>\n",
              "      <th>income_verification_status</th>\n",
              "      <th>loan_purpose</th>\n",
              "      <th>state_code</th>\n",
              "      <th>debt_to_income</th>\n",
              "      <th>delinq_2yrs</th>\n",
              "      <th>public_records</th>\n",
              "      <th>revolving_balance</th>\n",
              "      <th>total_acc</th>\n",
              "      <th>interest_receive</th>\n",
              "      <th>application_type</th>\n",
              "      <th>last_week_pay</th>\n",
              "      <th>total_current_balance</th>\n",
              "      <th>total_revolving_limit</th>\n",
              "      <th>default</th>\n",
              "    </tr>\n",
              "  </thead>\n",
              "  <tbody>\n",
              "    <tr>\n",
              "      <th>0</th>\n",
              "      <td>72199369</td>\n",
              "      <td>9000</td>\n",
              "      <td>3 years</td>\n",
              "      <td>9.17</td>\n",
              "      <td>B</td>\n",
              "      <td>B2</td>\n",
              "      <td>&lt;5 Years</td>\n",
              "      <td>OWN</td>\n",
              "      <td>85000.0</td>\n",
              "      <td>Not Verified</td>\n",
              "      <td>debt_consolidation</td>\n",
              "      <td>NC</td>\n",
              "      <td>26.68</td>\n",
              "      <td>0.0</td>\n",
              "      <td>0.0</td>\n",
              "      <td>39519.0</td>\n",
              "      <td>20.0</td>\n",
              "      <td>59.60</td>\n",
              "      <td>INDIVIDUAL</td>\n",
              "      <td>4.0</td>\n",
              "      <td>95493.0</td>\n",
              "      <td>84100.0</td>\n",
              "      <td>0.0</td>\n",
              "    </tr>\n",
              "    <tr>\n",
              "      <th>1</th>\n",
              "      <td>14257956</td>\n",
              "      <td>18000</td>\n",
              "      <td>3 years</td>\n",
              "      <td>13.65</td>\n",
              "      <td>C</td>\n",
              "      <td>C1</td>\n",
              "      <td>&lt;5 Years</td>\n",
              "      <td>OWN</td>\n",
              "      <td>64000.0</td>\n",
              "      <td>Verified</td>\n",
              "      <td>debt_consolidation</td>\n",
              "      <td>SC</td>\n",
              "      <td>31.67</td>\n",
              "      <td>0.0</td>\n",
              "      <td>1.0</td>\n",
              "      <td>9783.0</td>\n",
              "      <td>24.0</td>\n",
              "      <td>3348.25</td>\n",
              "      <td>INDIVIDUAL</td>\n",
              "      <td>95.0</td>\n",
              "      <td>185433.0</td>\n",
              "      <td>13500.0</td>\n",
              "      <td>0.0</td>\n",
              "    </tr>\n",
              "    <tr>\n",
              "      <th>2</th>\n",
              "      <td>66216451</td>\n",
              "      <td>16000</td>\n",
              "      <td>3 years</td>\n",
              "      <td>7.26</td>\n",
              "      <td>A</td>\n",
              "      <td>A4</td>\n",
              "      <td>&lt;5 Years</td>\n",
              "      <td>MORTGAGE</td>\n",
              "      <td>150000.0</td>\n",
              "      <td>Source Verified</td>\n",
              "      <td>debt_consolidation</td>\n",
              "      <td>TX</td>\n",
              "      <td>19.70</td>\n",
              "      <td>2.0</td>\n",
              "      <td>0.0</td>\n",
              "      <td>13641.0</td>\n",
              "      <td>27.0</td>\n",
              "      <td>276.69</td>\n",
              "      <td>INDIVIDUAL</td>\n",
              "      <td>13.0</td>\n",
              "      <td>180519.0</td>\n",
              "      <td>19300.0</td>\n",
              "      <td>0.0</td>\n",
              "    </tr>\n",
              "    <tr>\n",
              "      <th>3</th>\n",
              "      <td>46974169</td>\n",
              "      <td>25000</td>\n",
              "      <td>3 years</td>\n",
              "      <td>13.99</td>\n",
              "      <td>C</td>\n",
              "      <td>C4</td>\n",
              "      <td>NaN</td>\n",
              "      <td>MORTGAGE</td>\n",
              "      <td>59800.0</td>\n",
              "      <td>Verified</td>\n",
              "      <td>debt_consolidation</td>\n",
              "      <td>MO</td>\n",
              "      <td>37.39</td>\n",
              "      <td>0.0</td>\n",
              "      <td>0.0</td>\n",
              "      <td>35020.0</td>\n",
              "      <td>35.0</td>\n",
              "      <td>1106.72</td>\n",
              "      <td>INDIVIDUAL</td>\n",
              "      <td>17.0</td>\n",
              "      <td>183208.0</td>\n",
              "      <td>55400.0</td>\n",
              "      <td>0.0</td>\n",
              "    </tr>\n",
              "    <tr>\n",
              "      <th>4</th>\n",
              "      <td>46725961</td>\n",
              "      <td>17000</td>\n",
              "      <td>3 years</td>\n",
              "      <td>6.39</td>\n",
              "      <td>A</td>\n",
              "      <td>A2</td>\n",
              "      <td>10+ years</td>\n",
              "      <td>MORTGAGE</td>\n",
              "      <td>72000.0</td>\n",
              "      <td>Source Verified</td>\n",
              "      <td>credit_card</td>\n",
              "      <td>TX</td>\n",
              "      <td>8.92</td>\n",
              "      <td>0.0</td>\n",
              "      <td>0.0</td>\n",
              "      <td>23990.0</td>\n",
              "      <td>26.0</td>\n",
              "      <td>725.29</td>\n",
              "      <td>INDIVIDUAL</td>\n",
              "      <td>39.0</td>\n",
              "      <td>23990.0</td>\n",
              "      <td>81300.0</td>\n",
              "      <td>0.0</td>\n",
              "    </tr>\n",
              "  </tbody>\n",
              "</table>\n",
              "</div>\n",
              "      <button class=\"colab-df-convert\" onclick=\"convertToInteractive('df-e3d961d4-972a-45ad-ada7-9f75ef30f019')\"\n",
              "              title=\"Convert this dataframe to an interactive table.\"\n",
              "              style=\"display:none;\">\n",
              "        \n",
              "  <svg xmlns=\"http://www.w3.org/2000/svg\" height=\"24px\"viewBox=\"0 0 24 24\"\n",
              "       width=\"24px\">\n",
              "    <path d=\"M0 0h24v24H0V0z\" fill=\"none\"/>\n",
              "    <path d=\"M18.56 5.44l.94 2.06.94-2.06 2.06-.94-2.06-.94-.94-2.06-.94 2.06-2.06.94zm-11 1L8.5 8.5l.94-2.06 2.06-.94-2.06-.94L8.5 2.5l-.94 2.06-2.06.94zm10 10l.94 2.06.94-2.06 2.06-.94-2.06-.94-.94-2.06-.94 2.06-2.06.94z\"/><path d=\"M17.41 7.96l-1.37-1.37c-.4-.4-.92-.59-1.43-.59-.52 0-1.04.2-1.43.59L10.3 9.45l-7.72 7.72c-.78.78-.78 2.05 0 2.83L4 21.41c.39.39.9.59 1.41.59.51 0 1.02-.2 1.41-.59l7.78-7.78 2.81-2.81c.8-.78.8-2.07 0-2.86zM5.41 20L4 18.59l7.72-7.72 1.47 1.35L5.41 20z\"/>\n",
              "  </svg>\n",
              "      </button>\n",
              "      \n",
              "  <style>\n",
              "    .colab-df-container {\n",
              "      display:flex;\n",
              "      flex-wrap:wrap;\n",
              "      gap: 12px;\n",
              "    }\n",
              "\n",
              "    .colab-df-convert {\n",
              "      background-color: #E8F0FE;\n",
              "      border: none;\n",
              "      border-radius: 50%;\n",
              "      cursor: pointer;\n",
              "      display: none;\n",
              "      fill: #1967D2;\n",
              "      height: 32px;\n",
              "      padding: 0 0 0 0;\n",
              "      width: 32px;\n",
              "    }\n",
              "\n",
              "    .colab-df-convert:hover {\n",
              "      background-color: #E2EBFA;\n",
              "      box-shadow: 0px 1px 2px rgba(60, 64, 67, 0.3), 0px 1px 3px 1px rgba(60, 64, 67, 0.15);\n",
              "      fill: #174EA6;\n",
              "    }\n",
              "\n",
              "    [theme=dark] .colab-df-convert {\n",
              "      background-color: #3B4455;\n",
              "      fill: #D2E3FC;\n",
              "    }\n",
              "\n",
              "    [theme=dark] .colab-df-convert:hover {\n",
              "      background-color: #434B5C;\n",
              "      box-shadow: 0px 1px 3px 1px rgba(0, 0, 0, 0.15);\n",
              "      filter: drop-shadow(0px 1px 2px rgba(0, 0, 0, 0.3));\n",
              "      fill: #FFFFFF;\n",
              "    }\n",
              "  </style>\n",
              "\n",
              "      <script>\n",
              "        const buttonEl =\n",
              "          document.querySelector('#df-e3d961d4-972a-45ad-ada7-9f75ef30f019 button.colab-df-convert');\n",
              "        buttonEl.style.display =\n",
              "          google.colab.kernel.accessAllowed ? 'block' : 'none';\n",
              "\n",
              "        async function convertToInteractive(key) {\n",
              "          const element = document.querySelector('#df-e3d961d4-972a-45ad-ada7-9f75ef30f019');\n",
              "          const dataTable =\n",
              "            await google.colab.kernel.invokeFunction('convertToInteractive',\n",
              "                                                     [key], {});\n",
              "          if (!dataTable) return;\n",
              "\n",
              "          const docLinkHtml = 'Like what you see? Visit the ' +\n",
              "            '<a target=\"_blank\" href=https://colab.research.google.com/notebooks/data_table.ipynb>data table notebook</a>'\n",
              "            + ' to learn more about interactive tables.';\n",
              "          element.innerHTML = '';\n",
              "          dataTable['output_type'] = 'display_data';\n",
              "          await google.colab.output.renderOutput(dataTable, element);\n",
              "          const docLink = document.createElement('div');\n",
              "          docLink.innerHTML = docLinkHtml;\n",
              "          element.appendChild(docLink);\n",
              "        }\n",
              "      </script>\n",
              "    </div>\n",
              "  </div>\n",
              "  "
            ]
          },
          "metadata": {},
          "execution_count": 5
        }
      ],
      "source": [
        "loan.head()"
      ]
    },
    {
      "cell_type": "code",
      "source": [
        "loan['loan_term'] = loan['loan_term'].factorize(['3 years','5 years'])[0]\n",
        "loan.head(20)"
      ],
      "metadata": {
        "colab": {
          "base_uri": "https://localhost:8080/",
          "height": 740
        },
        "id": "2kBZwZTVxyjZ",
        "outputId": "ea48f604-67e2-48fb-9126-dd3618123256"
      },
      "execution_count": null,
      "outputs": [
        {
          "output_type": "execute_result",
          "data": {
            "text/plain": [
              "          ID  loan_amnt  loan_term  interest_rate loan_grade loan_subgrade  \\\n",
              "0   72199369       9000          0           9.17          B            B2   \n",
              "1   14257956      18000          0          13.65          C            C1   \n",
              "2   66216451      16000          0           7.26          A            A4   \n",
              "3   46974169      25000          0          13.99          C            C4   \n",
              "4   46725961      17000          0           6.39          A            A2   \n",
              "5   56469197      10000          0          12.69          C            C2   \n",
              "6    3409695      15000          0          11.14          B            B2   \n",
              "7   26276447      10000          0           6.49          A            A2   \n",
              "8   48393405      12000          0          10.99          B            B4   \n",
              "9   15140624       7000          0          12.49          B            B4   \n",
              "10  72929868      30000          0          13.99          C            C4   \n",
              "11  62109062      20000          0          12.29          C            C1   \n",
              "12  39061792      28000          0           8.19          A            A5   \n",
              "13   1449627      35000          0          20.50          E            E2   \n",
              "14  47157589       5750          0          12.29          C            C1   \n",
              "15    752536       4000          1          10.75          B            B2   \n",
              "16  16552513      18000          1          13.65          C            C1   \n",
              "17  21800223      14000          0          12.49          B            B5   \n",
              "18  32118789      12975          1          19.52          E            E2   \n",
              "19  51894672      25000          0           6.89          A            A3   \n",
              "\n",
              "   job_experience home_ownership  annual_income income_verification_status  \\\n",
              "0        <5 Years            OWN        85000.0               Not Verified   \n",
              "1        <5 Years            OWN        64000.0                   Verified   \n",
              "2        <5 Years       MORTGAGE       150000.0            Source Verified   \n",
              "3             NaN       MORTGAGE        59800.0                   Verified   \n",
              "4       10+ years       MORTGAGE        72000.0            Source Verified   \n",
              "5        <5 Years            OWN        56000.0               Not Verified   \n",
              "6       10+ years           RENT       100000.0               Not Verified   \n",
              "7       10+ years       MORTGAGE       109000.0               Not Verified   \n",
              "8        <5 Years           RENT        45000.0                   Verified   \n",
              "9        <5 Years       MORTGAGE        53000.0               Not Verified   \n",
              "10       <5 Years       MORTGAGE        80000.0            Source Verified   \n",
              "11       <5 Years           RENT        55000.0                   Verified   \n",
              "12            NaN       MORTGAGE       100000.0                   Verified   \n",
              "13       <5 Years           RENT        75000.0                   Verified   \n",
              "14       <5 Years       MORTGAGE        20000.0            Source Verified   \n",
              "15            NaN           RENT        13212.0            Source Verified   \n",
              "16      10+ years       MORTGAGE        74900.0            Source Verified   \n",
              "17       <5 Years           RENT        40000.0            Source Verified   \n",
              "18      10+ years       MORTGAGE        35000.0               Not Verified   \n",
              "19       <5 Years            OWN        75000.0            Source Verified   \n",
              "\n",
              "          loan_purpose state_code  debt_to_income  delinq_2yrs  \\\n",
              "0   debt_consolidation         NC           26.68          0.0   \n",
              "1   debt_consolidation         SC           31.67          0.0   \n",
              "2   debt_consolidation         TX           19.70          2.0   \n",
              "3   debt_consolidation         MO           37.39          0.0   \n",
              "4          credit_card         TX            8.92          0.0   \n",
              "5   debt_consolidation         IL           16.16          0.0   \n",
              "6   debt_consolidation         TX           10.51          0.0   \n",
              "7          credit_card         NY           10.84          1.0   \n",
              "8          credit_card         CT            8.21          0.0   \n",
              "9   debt_consolidation         TX           18.84          0.0   \n",
              "10         credit_card         TX           35.25          2.0   \n",
              "11  debt_consolidation         CA           15.47          0.0   \n",
              "12         credit_card         TX           28.41          0.0   \n",
              "13  debt_consolidation         NY            4.44          1.0   \n",
              "14               other         NY           24.61          0.0   \n",
              "15               other         CA            6.27          0.0   \n",
              "16  debt_consolidation         VA           21.78          0.0   \n",
              "17  debt_consolidation         MO           20.25          1.0   \n",
              "18  debt_consolidation         CA           22.94          0.0   \n",
              "19    home_improvement         VA           26.78          1.0   \n",
              "\n",
              "    public_records  revolving_balance  total_acc  interest_receive  \\\n",
              "0              0.0            39519.0       20.0             59.60   \n",
              "1              1.0             9783.0       24.0           3348.25   \n",
              "2              0.0            13641.0       27.0            276.69   \n",
              "3              0.0            35020.0       35.0           1106.72   \n",
              "4              0.0            23990.0       26.0            725.29   \n",
              "5              1.0             6643.0       48.0            590.50   \n",
              "6              1.0            14088.0       14.0           1020.57   \n",
              "7              0.0            12337.0       26.0            728.68   \n",
              "8              0.0            10550.0       12.0            879.15   \n",
              "9              0.0            12108.0       20.0           1186.80   \n",
              "10             0.0            29489.0       26.0              0.00   \n",
              "11             0.0            10287.0        8.0            763.43   \n",
              "12             0.0            35522.0       28.0           1963.03   \n",
              "13             0.0             9993.0       18.0           5398.08   \n",
              "14             1.0             2676.0       14.0            475.89   \n",
              "15             0.0             1058.0        8.0            363.77   \n",
              "16             0.0             2549.0       29.0            607.03   \n",
              "17             0.0             5479.0       14.0           1995.92   \n",
              "18             0.0             7852.0       17.0           2893.61   \n",
              "19             0.0            21932.0       19.0            436.77   \n",
              "\n",
              "   application_type  last_week_pay  total_current_balance  \\\n",
              "0        INDIVIDUAL            4.0                95493.0   \n",
              "1        INDIVIDUAL           95.0               185433.0   \n",
              "2        INDIVIDUAL           13.0               180519.0   \n",
              "3        INDIVIDUAL           17.0               183208.0   \n",
              "4        INDIVIDUAL           39.0                23990.0   \n",
              "5        INDIVIDUAL           26.0                24054.0   \n",
              "6        INDIVIDUAL           35.0                14519.0   \n",
              "7        INDIVIDUAL           74.0               210751.0   \n",
              "8        INDIVIDUAL           39.0                10550.0   \n",
              "9        INDIVIDUAL           96.0               145801.0   \n",
              "10       INDIVIDUAL            NaN               152259.0   \n",
              "11       INDIVIDUAL           17.0                22359.0   \n",
              "12       INDIVIDUAL           57.0               287228.0   \n",
              "13       INDIVIDUAL           44.0                    NaN   \n",
              "14       INDIVIDUAL           39.0                18004.0   \n",
              "15       INDIVIDUAL           61.0                    NaN   \n",
              "16       INDIVIDUAL           13.0                60454.0   \n",
              "17       INDIVIDUAL           74.0                43126.0   \n",
              "18       INDIVIDUAL           65.0                92805.0   \n",
              "19       INDIVIDUAL           13.0                37038.0   \n",
              "\n",
              "    total_revolving_limit  default  \n",
              "0                 84100.0      0.0  \n",
              "1                 13500.0      0.0  \n",
              "2                 19300.0      0.0  \n",
              "3                 55400.0      0.0  \n",
              "4                 81300.0      0.0  \n",
              "5                 25167.0      0.0  \n",
              "6                 15200.0      1.0  \n",
              "7                 18600.0      0.0  \n",
              "8                 22000.0      0.0  \n",
              "9                 16800.0      0.0  \n",
              "10                87400.0      0.0  \n",
              "11                21200.0      0.0  \n",
              "12                81000.0      0.0  \n",
              "13                    NaN      1.0  \n",
              "14                11700.0      0.0  \n",
              "15                    NaN      1.0  \n",
              "16                26700.0      1.0  \n",
              "17                 6800.0      0.0  \n",
              "18                11200.0      0.0  \n",
              "19                99500.0      1.0  "
            ],
            "text/html": [
              "\n",
              "  <div id=\"df-9973a424-53bc-4a7f-9d4e-c2c6986fe15b\">\n",
              "    <div class=\"colab-df-container\">\n",
              "      <div>\n",
              "<style scoped>\n",
              "    .dataframe tbody tr th:only-of-type {\n",
              "        vertical-align: middle;\n",
              "    }\n",
              "\n",
              "    .dataframe tbody tr th {\n",
              "        vertical-align: top;\n",
              "    }\n",
              "\n",
              "    .dataframe thead th {\n",
              "        text-align: right;\n",
              "    }\n",
              "</style>\n",
              "<table border=\"1\" class=\"dataframe\">\n",
              "  <thead>\n",
              "    <tr style=\"text-align: right;\">\n",
              "      <th></th>\n",
              "      <th>ID</th>\n",
              "      <th>loan_amnt</th>\n",
              "      <th>loan_term</th>\n",
              "      <th>interest_rate</th>\n",
              "      <th>loan_grade</th>\n",
              "      <th>loan_subgrade</th>\n",
              "      <th>job_experience</th>\n",
              "      <th>home_ownership</th>\n",
              "      <th>annual_income</th>\n",
              "      <th>income_verification_status</th>\n",
              "      <th>loan_purpose</th>\n",
              "      <th>state_code</th>\n",
              "      <th>debt_to_income</th>\n",
              "      <th>delinq_2yrs</th>\n",
              "      <th>public_records</th>\n",
              "      <th>revolving_balance</th>\n",
              "      <th>total_acc</th>\n",
              "      <th>interest_receive</th>\n",
              "      <th>application_type</th>\n",
              "      <th>last_week_pay</th>\n",
              "      <th>total_current_balance</th>\n",
              "      <th>total_revolving_limit</th>\n",
              "      <th>default</th>\n",
              "    </tr>\n",
              "  </thead>\n",
              "  <tbody>\n",
              "    <tr>\n",
              "      <th>0</th>\n",
              "      <td>72199369</td>\n",
              "      <td>9000</td>\n",
              "      <td>0</td>\n",
              "      <td>9.17</td>\n",
              "      <td>B</td>\n",
              "      <td>B2</td>\n",
              "      <td>&lt;5 Years</td>\n",
              "      <td>OWN</td>\n",
              "      <td>85000.0</td>\n",
              "      <td>Not Verified</td>\n",
              "      <td>debt_consolidation</td>\n",
              "      <td>NC</td>\n",
              "      <td>26.68</td>\n",
              "      <td>0.0</td>\n",
              "      <td>0.0</td>\n",
              "      <td>39519.0</td>\n",
              "      <td>20.0</td>\n",
              "      <td>59.60</td>\n",
              "      <td>INDIVIDUAL</td>\n",
              "      <td>4.0</td>\n",
              "      <td>95493.0</td>\n",
              "      <td>84100.0</td>\n",
              "      <td>0.0</td>\n",
              "    </tr>\n",
              "    <tr>\n",
              "      <th>1</th>\n",
              "      <td>14257956</td>\n",
              "      <td>18000</td>\n",
              "      <td>0</td>\n",
              "      <td>13.65</td>\n",
              "      <td>C</td>\n",
              "      <td>C1</td>\n",
              "      <td>&lt;5 Years</td>\n",
              "      <td>OWN</td>\n",
              "      <td>64000.0</td>\n",
              "      <td>Verified</td>\n",
              "      <td>debt_consolidation</td>\n",
              "      <td>SC</td>\n",
              "      <td>31.67</td>\n",
              "      <td>0.0</td>\n",
              "      <td>1.0</td>\n",
              "      <td>9783.0</td>\n",
              "      <td>24.0</td>\n",
              "      <td>3348.25</td>\n",
              "      <td>INDIVIDUAL</td>\n",
              "      <td>95.0</td>\n",
              "      <td>185433.0</td>\n",
              "      <td>13500.0</td>\n",
              "      <td>0.0</td>\n",
              "    </tr>\n",
              "    <tr>\n",
              "      <th>2</th>\n",
              "      <td>66216451</td>\n",
              "      <td>16000</td>\n",
              "      <td>0</td>\n",
              "      <td>7.26</td>\n",
              "      <td>A</td>\n",
              "      <td>A4</td>\n",
              "      <td>&lt;5 Years</td>\n",
              "      <td>MORTGAGE</td>\n",
              "      <td>150000.0</td>\n",
              "      <td>Source Verified</td>\n",
              "      <td>debt_consolidation</td>\n",
              "      <td>TX</td>\n",
              "      <td>19.70</td>\n",
              "      <td>2.0</td>\n",
              "      <td>0.0</td>\n",
              "      <td>13641.0</td>\n",
              "      <td>27.0</td>\n",
              "      <td>276.69</td>\n",
              "      <td>INDIVIDUAL</td>\n",
              "      <td>13.0</td>\n",
              "      <td>180519.0</td>\n",
              "      <td>19300.0</td>\n",
              "      <td>0.0</td>\n",
              "    </tr>\n",
              "    <tr>\n",
              "      <th>3</th>\n",
              "      <td>46974169</td>\n",
              "      <td>25000</td>\n",
              "      <td>0</td>\n",
              "      <td>13.99</td>\n",
              "      <td>C</td>\n",
              "      <td>C4</td>\n",
              "      <td>NaN</td>\n",
              "      <td>MORTGAGE</td>\n",
              "      <td>59800.0</td>\n",
              "      <td>Verified</td>\n",
              "      <td>debt_consolidation</td>\n",
              "      <td>MO</td>\n",
              "      <td>37.39</td>\n",
              "      <td>0.0</td>\n",
              "      <td>0.0</td>\n",
              "      <td>35020.0</td>\n",
              "      <td>35.0</td>\n",
              "      <td>1106.72</td>\n",
              "      <td>INDIVIDUAL</td>\n",
              "      <td>17.0</td>\n",
              "      <td>183208.0</td>\n",
              "      <td>55400.0</td>\n",
              "      <td>0.0</td>\n",
              "    </tr>\n",
              "    <tr>\n",
              "      <th>4</th>\n",
              "      <td>46725961</td>\n",
              "      <td>17000</td>\n",
              "      <td>0</td>\n",
              "      <td>6.39</td>\n",
              "      <td>A</td>\n",
              "      <td>A2</td>\n",
              "      <td>10+ years</td>\n",
              "      <td>MORTGAGE</td>\n",
              "      <td>72000.0</td>\n",
              "      <td>Source Verified</td>\n",
              "      <td>credit_card</td>\n",
              "      <td>TX</td>\n",
              "      <td>8.92</td>\n",
              "      <td>0.0</td>\n",
              "      <td>0.0</td>\n",
              "      <td>23990.0</td>\n",
              "      <td>26.0</td>\n",
              "      <td>725.29</td>\n",
              "      <td>INDIVIDUAL</td>\n",
              "      <td>39.0</td>\n",
              "      <td>23990.0</td>\n",
              "      <td>81300.0</td>\n",
              "      <td>0.0</td>\n",
              "    </tr>\n",
              "    <tr>\n",
              "      <th>5</th>\n",
              "      <td>56469197</td>\n",
              "      <td>10000</td>\n",
              "      <td>0</td>\n",
              "      <td>12.69</td>\n",
              "      <td>C</td>\n",
              "      <td>C2</td>\n",
              "      <td>&lt;5 Years</td>\n",
              "      <td>OWN</td>\n",
              "      <td>56000.0</td>\n",
              "      <td>Not Verified</td>\n",
              "      <td>debt_consolidation</td>\n",
              "      <td>IL</td>\n",
              "      <td>16.16</td>\n",
              "      <td>0.0</td>\n",
              "      <td>1.0</td>\n",
              "      <td>6643.0</td>\n",
              "      <td>48.0</td>\n",
              "      <td>590.50</td>\n",
              "      <td>INDIVIDUAL</td>\n",
              "      <td>26.0</td>\n",
              "      <td>24054.0</td>\n",
              "      <td>25167.0</td>\n",
              "      <td>0.0</td>\n",
              "    </tr>\n",
              "    <tr>\n",
              "      <th>6</th>\n",
              "      <td>3409695</td>\n",
              "      <td>15000</td>\n",
              "      <td>0</td>\n",
              "      <td>11.14</td>\n",
              "      <td>B</td>\n",
              "      <td>B2</td>\n",
              "      <td>10+ years</td>\n",
              "      <td>RENT</td>\n",
              "      <td>100000.0</td>\n",
              "      <td>Not Verified</td>\n",
              "      <td>debt_consolidation</td>\n",
              "      <td>TX</td>\n",
              "      <td>10.51</td>\n",
              "      <td>0.0</td>\n",
              "      <td>1.0</td>\n",
              "      <td>14088.0</td>\n",
              "      <td>14.0</td>\n",
              "      <td>1020.57</td>\n",
              "      <td>INDIVIDUAL</td>\n",
              "      <td>35.0</td>\n",
              "      <td>14519.0</td>\n",
              "      <td>15200.0</td>\n",
              "      <td>1.0</td>\n",
              "    </tr>\n",
              "    <tr>\n",
              "      <th>7</th>\n",
              "      <td>26276447</td>\n",
              "      <td>10000</td>\n",
              "      <td>0</td>\n",
              "      <td>6.49</td>\n",
              "      <td>A</td>\n",
              "      <td>A2</td>\n",
              "      <td>10+ years</td>\n",
              "      <td>MORTGAGE</td>\n",
              "      <td>109000.0</td>\n",
              "      <td>Not Verified</td>\n",
              "      <td>credit_card</td>\n",
              "      <td>NY</td>\n",
              "      <td>10.84</td>\n",
              "      <td>1.0</td>\n",
              "      <td>0.0</td>\n",
              "      <td>12337.0</td>\n",
              "      <td>26.0</td>\n",
              "      <td>728.68</td>\n",
              "      <td>INDIVIDUAL</td>\n",
              "      <td>74.0</td>\n",
              "      <td>210751.0</td>\n",
              "      <td>18600.0</td>\n",
              "      <td>0.0</td>\n",
              "    </tr>\n",
              "    <tr>\n",
              "      <th>8</th>\n",
              "      <td>48393405</td>\n",
              "      <td>12000</td>\n",
              "      <td>0</td>\n",
              "      <td>10.99</td>\n",
              "      <td>B</td>\n",
              "      <td>B4</td>\n",
              "      <td>&lt;5 Years</td>\n",
              "      <td>RENT</td>\n",
              "      <td>45000.0</td>\n",
              "      <td>Verified</td>\n",
              "      <td>credit_card</td>\n",
              "      <td>CT</td>\n",
              "      <td>8.21</td>\n",
              "      <td>0.0</td>\n",
              "      <td>0.0</td>\n",
              "      <td>10550.0</td>\n",
              "      <td>12.0</td>\n",
              "      <td>879.15</td>\n",
              "      <td>INDIVIDUAL</td>\n",
              "      <td>39.0</td>\n",
              "      <td>10550.0</td>\n",
              "      <td>22000.0</td>\n",
              "      <td>0.0</td>\n",
              "    </tr>\n",
              "    <tr>\n",
              "      <th>9</th>\n",
              "      <td>15140624</td>\n",
              "      <td>7000</td>\n",
              "      <td>0</td>\n",
              "      <td>12.49</td>\n",
              "      <td>B</td>\n",
              "      <td>B4</td>\n",
              "      <td>&lt;5 Years</td>\n",
              "      <td>MORTGAGE</td>\n",
              "      <td>53000.0</td>\n",
              "      <td>Not Verified</td>\n",
              "      <td>debt_consolidation</td>\n",
              "      <td>TX</td>\n",
              "      <td>18.84</td>\n",
              "      <td>0.0</td>\n",
              "      <td>0.0</td>\n",
              "      <td>12108.0</td>\n",
              "      <td>20.0</td>\n",
              "      <td>1186.80</td>\n",
              "      <td>INDIVIDUAL</td>\n",
              "      <td>96.0</td>\n",
              "      <td>145801.0</td>\n",
              "      <td>16800.0</td>\n",
              "      <td>0.0</td>\n",
              "    </tr>\n",
              "    <tr>\n",
              "      <th>10</th>\n",
              "      <td>72929868</td>\n",
              "      <td>30000</td>\n",
              "      <td>0</td>\n",
              "      <td>13.99</td>\n",
              "      <td>C</td>\n",
              "      <td>C4</td>\n",
              "      <td>&lt;5 Years</td>\n",
              "      <td>MORTGAGE</td>\n",
              "      <td>80000.0</td>\n",
              "      <td>Source Verified</td>\n",
              "      <td>credit_card</td>\n",
              "      <td>TX</td>\n",
              "      <td>35.25</td>\n",
              "      <td>2.0</td>\n",
              "      <td>0.0</td>\n",
              "      <td>29489.0</td>\n",
              "      <td>26.0</td>\n",
              "      <td>0.00</td>\n",
              "      <td>INDIVIDUAL</td>\n",
              "      <td>NaN</td>\n",
              "      <td>152259.0</td>\n",
              "      <td>87400.0</td>\n",
              "      <td>0.0</td>\n",
              "    </tr>\n",
              "    <tr>\n",
              "      <th>11</th>\n",
              "      <td>62109062</td>\n",
              "      <td>20000</td>\n",
              "      <td>0</td>\n",
              "      <td>12.29</td>\n",
              "      <td>C</td>\n",
              "      <td>C1</td>\n",
              "      <td>&lt;5 Years</td>\n",
              "      <td>RENT</td>\n",
              "      <td>55000.0</td>\n",
              "      <td>Verified</td>\n",
              "      <td>debt_consolidation</td>\n",
              "      <td>CA</td>\n",
              "      <td>15.47</td>\n",
              "      <td>0.0</td>\n",
              "      <td>0.0</td>\n",
              "      <td>10287.0</td>\n",
              "      <td>8.0</td>\n",
              "      <td>763.43</td>\n",
              "      <td>INDIVIDUAL</td>\n",
              "      <td>17.0</td>\n",
              "      <td>22359.0</td>\n",
              "      <td>21200.0</td>\n",
              "      <td>0.0</td>\n",
              "    </tr>\n",
              "    <tr>\n",
              "      <th>12</th>\n",
              "      <td>39061792</td>\n",
              "      <td>28000</td>\n",
              "      <td>0</td>\n",
              "      <td>8.19</td>\n",
              "      <td>A</td>\n",
              "      <td>A5</td>\n",
              "      <td>NaN</td>\n",
              "      <td>MORTGAGE</td>\n",
              "      <td>100000.0</td>\n",
              "      <td>Verified</td>\n",
              "      <td>credit_card</td>\n",
              "      <td>TX</td>\n",
              "      <td>28.41</td>\n",
              "      <td>0.0</td>\n",
              "      <td>0.0</td>\n",
              "      <td>35522.0</td>\n",
              "      <td>28.0</td>\n",
              "      <td>1963.03</td>\n",
              "      <td>INDIVIDUAL</td>\n",
              "      <td>57.0</td>\n",
              "      <td>287228.0</td>\n",
              "      <td>81000.0</td>\n",
              "      <td>0.0</td>\n",
              "    </tr>\n",
              "    <tr>\n",
              "      <th>13</th>\n",
              "      <td>1449627</td>\n",
              "      <td>35000</td>\n",
              "      <td>0</td>\n",
              "      <td>20.50</td>\n",
              "      <td>E</td>\n",
              "      <td>E2</td>\n",
              "      <td>&lt;5 Years</td>\n",
              "      <td>RENT</td>\n",
              "      <td>75000.0</td>\n",
              "      <td>Verified</td>\n",
              "      <td>debt_consolidation</td>\n",
              "      <td>NY</td>\n",
              "      <td>4.44</td>\n",
              "      <td>1.0</td>\n",
              "      <td>0.0</td>\n",
              "      <td>9993.0</td>\n",
              "      <td>18.0</td>\n",
              "      <td>5398.08</td>\n",
              "      <td>INDIVIDUAL</td>\n",
              "      <td>44.0</td>\n",
              "      <td>NaN</td>\n",
              "      <td>NaN</td>\n",
              "      <td>1.0</td>\n",
              "    </tr>\n",
              "    <tr>\n",
              "      <th>14</th>\n",
              "      <td>47157589</td>\n",
              "      <td>5750</td>\n",
              "      <td>0</td>\n",
              "      <td>12.29</td>\n",
              "      <td>C</td>\n",
              "      <td>C1</td>\n",
              "      <td>&lt;5 Years</td>\n",
              "      <td>MORTGAGE</td>\n",
              "      <td>20000.0</td>\n",
              "      <td>Source Verified</td>\n",
              "      <td>other</td>\n",
              "      <td>NY</td>\n",
              "      <td>24.61</td>\n",
              "      <td>0.0</td>\n",
              "      <td>1.0</td>\n",
              "      <td>2676.0</td>\n",
              "      <td>14.0</td>\n",
              "      <td>475.89</td>\n",
              "      <td>INDIVIDUAL</td>\n",
              "      <td>39.0</td>\n",
              "      <td>18004.0</td>\n",
              "      <td>11700.0</td>\n",
              "      <td>0.0</td>\n",
              "    </tr>\n",
              "    <tr>\n",
              "      <th>15</th>\n",
              "      <td>752536</td>\n",
              "      <td>4000</td>\n",
              "      <td>1</td>\n",
              "      <td>10.75</td>\n",
              "      <td>B</td>\n",
              "      <td>B2</td>\n",
              "      <td>NaN</td>\n",
              "      <td>RENT</td>\n",
              "      <td>13212.0</td>\n",
              "      <td>Source Verified</td>\n",
              "      <td>other</td>\n",
              "      <td>CA</td>\n",
              "      <td>6.27</td>\n",
              "      <td>0.0</td>\n",
              "      <td>0.0</td>\n",
              "      <td>1058.0</td>\n",
              "      <td>8.0</td>\n",
              "      <td>363.77</td>\n",
              "      <td>INDIVIDUAL</td>\n",
              "      <td>61.0</td>\n",
              "      <td>NaN</td>\n",
              "      <td>NaN</td>\n",
              "      <td>1.0</td>\n",
              "    </tr>\n",
              "    <tr>\n",
              "      <th>16</th>\n",
              "      <td>16552513</td>\n",
              "      <td>18000</td>\n",
              "      <td>1</td>\n",
              "      <td>13.65</td>\n",
              "      <td>C</td>\n",
              "      <td>C1</td>\n",
              "      <td>10+ years</td>\n",
              "      <td>MORTGAGE</td>\n",
              "      <td>74900.0</td>\n",
              "      <td>Source Verified</td>\n",
              "      <td>debt_consolidation</td>\n",
              "      <td>VA</td>\n",
              "      <td>21.78</td>\n",
              "      <td>0.0</td>\n",
              "      <td>0.0</td>\n",
              "      <td>2549.0</td>\n",
              "      <td>29.0</td>\n",
              "      <td>607.03</td>\n",
              "      <td>INDIVIDUAL</td>\n",
              "      <td>13.0</td>\n",
              "      <td>60454.0</td>\n",
              "      <td>26700.0</td>\n",
              "      <td>1.0</td>\n",
              "    </tr>\n",
              "    <tr>\n",
              "      <th>17</th>\n",
              "      <td>21800223</td>\n",
              "      <td>14000</td>\n",
              "      <td>0</td>\n",
              "      <td>12.49</td>\n",
              "      <td>B</td>\n",
              "      <td>B5</td>\n",
              "      <td>&lt;5 Years</td>\n",
              "      <td>RENT</td>\n",
              "      <td>40000.0</td>\n",
              "      <td>Source Verified</td>\n",
              "      <td>debt_consolidation</td>\n",
              "      <td>MO</td>\n",
              "      <td>20.25</td>\n",
              "      <td>1.0</td>\n",
              "      <td>0.0</td>\n",
              "      <td>5479.0</td>\n",
              "      <td>14.0</td>\n",
              "      <td>1995.92</td>\n",
              "      <td>INDIVIDUAL</td>\n",
              "      <td>74.0</td>\n",
              "      <td>43126.0</td>\n",
              "      <td>6800.0</td>\n",
              "      <td>0.0</td>\n",
              "    </tr>\n",
              "    <tr>\n",
              "      <th>18</th>\n",
              "      <td>32118789</td>\n",
              "      <td>12975</td>\n",
              "      <td>1</td>\n",
              "      <td>19.52</td>\n",
              "      <td>E</td>\n",
              "      <td>E2</td>\n",
              "      <td>10+ years</td>\n",
              "      <td>MORTGAGE</td>\n",
              "      <td>35000.0</td>\n",
              "      <td>Not Verified</td>\n",
              "      <td>debt_consolidation</td>\n",
              "      <td>CA</td>\n",
              "      <td>22.94</td>\n",
              "      <td>0.0</td>\n",
              "      <td>0.0</td>\n",
              "      <td>7852.0</td>\n",
              "      <td>17.0</td>\n",
              "      <td>2893.61</td>\n",
              "      <td>INDIVIDUAL</td>\n",
              "      <td>65.0</td>\n",
              "      <td>92805.0</td>\n",
              "      <td>11200.0</td>\n",
              "      <td>0.0</td>\n",
              "    </tr>\n",
              "    <tr>\n",
              "      <th>19</th>\n",
              "      <td>51894672</td>\n",
              "      <td>25000</td>\n",
              "      <td>0</td>\n",
              "      <td>6.89</td>\n",
              "      <td>A</td>\n",
              "      <td>A3</td>\n",
              "      <td>&lt;5 Years</td>\n",
              "      <td>OWN</td>\n",
              "      <td>75000.0</td>\n",
              "      <td>Source Verified</td>\n",
              "      <td>home_improvement</td>\n",
              "      <td>VA</td>\n",
              "      <td>26.78</td>\n",
              "      <td>1.0</td>\n",
              "      <td>0.0</td>\n",
              "      <td>21932.0</td>\n",
              "      <td>19.0</td>\n",
              "      <td>436.77</td>\n",
              "      <td>INDIVIDUAL</td>\n",
              "      <td>13.0</td>\n",
              "      <td>37038.0</td>\n",
              "      <td>99500.0</td>\n",
              "      <td>1.0</td>\n",
              "    </tr>\n",
              "  </tbody>\n",
              "</table>\n",
              "</div>\n",
              "      <button class=\"colab-df-convert\" onclick=\"convertToInteractive('df-9973a424-53bc-4a7f-9d4e-c2c6986fe15b')\"\n",
              "              title=\"Convert this dataframe to an interactive table.\"\n",
              "              style=\"display:none;\">\n",
              "        \n",
              "  <svg xmlns=\"http://www.w3.org/2000/svg\" height=\"24px\"viewBox=\"0 0 24 24\"\n",
              "       width=\"24px\">\n",
              "    <path d=\"M0 0h24v24H0V0z\" fill=\"none\"/>\n",
              "    <path d=\"M18.56 5.44l.94 2.06.94-2.06 2.06-.94-2.06-.94-.94-2.06-.94 2.06-2.06.94zm-11 1L8.5 8.5l.94-2.06 2.06-.94-2.06-.94L8.5 2.5l-.94 2.06-2.06.94zm10 10l.94 2.06.94-2.06 2.06-.94-2.06-.94-.94-2.06-.94 2.06-2.06.94z\"/><path d=\"M17.41 7.96l-1.37-1.37c-.4-.4-.92-.59-1.43-.59-.52 0-1.04.2-1.43.59L10.3 9.45l-7.72 7.72c-.78.78-.78 2.05 0 2.83L4 21.41c.39.39.9.59 1.41.59.51 0 1.02-.2 1.41-.59l7.78-7.78 2.81-2.81c.8-.78.8-2.07 0-2.86zM5.41 20L4 18.59l7.72-7.72 1.47 1.35L5.41 20z\"/>\n",
              "  </svg>\n",
              "      </button>\n",
              "      \n",
              "  <style>\n",
              "    .colab-df-container {\n",
              "      display:flex;\n",
              "      flex-wrap:wrap;\n",
              "      gap: 12px;\n",
              "    }\n",
              "\n",
              "    .colab-df-convert {\n",
              "      background-color: #E8F0FE;\n",
              "      border: none;\n",
              "      border-radius: 50%;\n",
              "      cursor: pointer;\n",
              "      display: none;\n",
              "      fill: #1967D2;\n",
              "      height: 32px;\n",
              "      padding: 0 0 0 0;\n",
              "      width: 32px;\n",
              "    }\n",
              "\n",
              "    .colab-df-convert:hover {\n",
              "      background-color: #E2EBFA;\n",
              "      box-shadow: 0px 1px 2px rgba(60, 64, 67, 0.3), 0px 1px 3px 1px rgba(60, 64, 67, 0.15);\n",
              "      fill: #174EA6;\n",
              "    }\n",
              "\n",
              "    [theme=dark] .colab-df-convert {\n",
              "      background-color: #3B4455;\n",
              "      fill: #D2E3FC;\n",
              "    }\n",
              "\n",
              "    [theme=dark] .colab-df-convert:hover {\n",
              "      background-color: #434B5C;\n",
              "      box-shadow: 0px 1px 3px 1px rgba(0, 0, 0, 0.15);\n",
              "      filter: drop-shadow(0px 1px 2px rgba(0, 0, 0, 0.3));\n",
              "      fill: #FFFFFF;\n",
              "    }\n",
              "  </style>\n",
              "\n",
              "      <script>\n",
              "        const buttonEl =\n",
              "          document.querySelector('#df-9973a424-53bc-4a7f-9d4e-c2c6986fe15b button.colab-df-convert');\n",
              "        buttonEl.style.display =\n",
              "          google.colab.kernel.accessAllowed ? 'block' : 'none';\n",
              "\n",
              "        async function convertToInteractive(key) {\n",
              "          const element = document.querySelector('#df-9973a424-53bc-4a7f-9d4e-c2c6986fe15b');\n",
              "          const dataTable =\n",
              "            await google.colab.kernel.invokeFunction('convertToInteractive',\n",
              "                                                     [key], {});\n",
              "          if (!dataTable) return;\n",
              "\n",
              "          const docLinkHtml = 'Like what you see? Visit the ' +\n",
              "            '<a target=\"_blank\" href=https://colab.research.google.com/notebooks/data_table.ipynb>data table notebook</a>'\n",
              "            + ' to learn more about interactive tables.';\n",
              "          element.innerHTML = '';\n",
              "          dataTable['output_type'] = 'display_data';\n",
              "          await google.colab.output.renderOutput(dataTable, element);\n",
              "          const docLink = document.createElement('div');\n",
              "          docLink.innerHTML = docLinkHtml;\n",
              "          element.appendChild(docLink);\n",
              "        }\n",
              "      </script>\n",
              "    </div>\n",
              "  </div>\n",
              "  "
            ]
          },
          "metadata": {},
          "execution_count": 10
        }
      ]
    },
    {
      "cell_type": "code",
      "source": [
        "loan.iloc[3]"
      ],
      "metadata": {
        "colab": {
          "base_uri": "https://localhost:8080/"
        },
        "id": "AmpkeSUBYmGX",
        "outputId": "18db3bfc-e58a-44b7-f6fa-5d2be93ccc11"
      },
      "execution_count": null,
      "outputs": [
        {
          "output_type": "execute_result",
          "data": {
            "text/plain": [
              "ID                                      46974169\n",
              "loan_amnt                                  25000\n",
              "loan_term                                3 years\n",
              "interest_rate                              13.99\n",
              "loan_grade                                     C\n",
              "loan_subgrade                                 C4\n",
              "job_experience                               NaN\n",
              "home_ownership                          MORTGAGE\n",
              "annual_income                            59800.0\n",
              "income_verification_status              Verified\n",
              "loan_purpose                  debt_consolidation\n",
              "state_code                                    MO\n",
              "debt_to_income                             37.39\n",
              "delinq_2yrs                                  0.0\n",
              "public_records                               0.0\n",
              "revolving_balance                          35020\n",
              "total_acc                                   35.0\n",
              "interest_receive                         1106.72\n",
              "application_type                      INDIVIDUAL\n",
              "last_week_pay                               17.0\n",
              "total_current_balance                   183208.0\n",
              "total_revolving_limit                    55400.0\n",
              "default                                        0\n",
              "Name: 3, dtype: object"
            ]
          },
          "metadata": {},
          "execution_count": 192
        }
      ]
    },
    {
      "cell_type": "code",
      "execution_count": null,
      "metadata": {
        "colab": {
          "base_uri": "https://localhost:8080/",
          "height": 270
        },
        "id": "56p-O80wtHO2",
        "outputId": "6b395a35-54ee-420c-ee5a-4560a1cfdf9f"
      },
      "outputs": [
        {
          "output_type": "execute_result",
          "data": {
            "text/plain": [
              "             ID  loan_amnt loan_term  interest_rate loan_grade loan_subgrade  \\\n",
              "93169  65577252       3200   3 years           7.26          A            A4   \n",
              "93170    836021       3500   3 years           5.42          A            A1   \n",
              "93171  33058720       8000   3 years          13.98          C            C3   \n",
              "93172   4060472      35000   3 years          17.77          D            D1   \n",
              "93173   3628127      10000   3 years          15.80          C            C3   \n",
              "\n",
              "      job_experience home_ownership  annual_income income_verification_status  \\\n",
              "93169       <5 Years           RENT        85000.0               Not Verified   \n",
              "93170            NaN       MORTGAGE        57550.0               Not Verified   \n",
              "93171      10+ years           RENT       148531.5            Source Verified   \n",
              "93172       <5 Years           RENT       100000.0                   Verified   \n",
              "93173       <5 Years           RENT        60000.0                   Verified   \n",
              "\n",
              "             loan_purpose state_code  debt_to_income  delinq_2yrs  \\\n",
              "93169  debt_consolidation         FL           17.11          0.0   \n",
              "93170               other         FL           22.64          0.0   \n",
              "93171         credit_card         AK           13.04          1.0   \n",
              "93172  debt_consolidation         CA           17.22          0.0   \n",
              "93173  debt_consolidation         NJ           11.83          0.0   \n",
              "\n",
              "       public_records  revolving_balance  total_acc  interest_receive  \\\n",
              "93169             0.0               7924       38.0             55.34   \n",
              "93170             0.0              10174       24.0            299.67   \n",
              "93171             0.0               5391       25.0           1150.58   \n",
              "93172             0.0              24609       45.0           5764.58   \n",
              "93173             0.0              11285        7.0           2279.36   \n",
              "\n",
              "      application_type  last_week_pay  total_current_balance  \\\n",
              "93169       INDIVIDUAL           13.0                64635.0   \n",
              "93170       INDIVIDUAL          161.0                    NaN   \n",
              "93171       INDIVIDUAL           65.0                94596.0   \n",
              "93172       INDIVIDUAL           56.0                33759.0   \n",
              "93173       INDIVIDUAL          104.0                25594.0   \n",
              "\n",
              "       total_revolving_limit  default  \n",
              "93169                47600.0        0  \n",
              "93170                    NaN        1  \n",
              "93171                 6500.0        0  \n",
              "93172                34900.0        1  \n",
              "93173                12300.0        0  "
            ],
            "text/html": [
              "\n",
              "  <div id=\"df-c9715926-2527-43e4-879e-ecdb67f76784\">\n",
              "    <div class=\"colab-df-container\">\n",
              "      <div>\n",
              "<style scoped>\n",
              "    .dataframe tbody tr th:only-of-type {\n",
              "        vertical-align: middle;\n",
              "    }\n",
              "\n",
              "    .dataframe tbody tr th {\n",
              "        vertical-align: top;\n",
              "    }\n",
              "\n",
              "    .dataframe thead th {\n",
              "        text-align: right;\n",
              "    }\n",
              "</style>\n",
              "<table border=\"1\" class=\"dataframe\">\n",
              "  <thead>\n",
              "    <tr style=\"text-align: right;\">\n",
              "      <th></th>\n",
              "      <th>ID</th>\n",
              "      <th>loan_amnt</th>\n",
              "      <th>loan_term</th>\n",
              "      <th>interest_rate</th>\n",
              "      <th>loan_grade</th>\n",
              "      <th>loan_subgrade</th>\n",
              "      <th>job_experience</th>\n",
              "      <th>home_ownership</th>\n",
              "      <th>annual_income</th>\n",
              "      <th>income_verification_status</th>\n",
              "      <th>loan_purpose</th>\n",
              "      <th>state_code</th>\n",
              "      <th>debt_to_income</th>\n",
              "      <th>delinq_2yrs</th>\n",
              "      <th>public_records</th>\n",
              "      <th>revolving_balance</th>\n",
              "      <th>total_acc</th>\n",
              "      <th>interest_receive</th>\n",
              "      <th>application_type</th>\n",
              "      <th>last_week_pay</th>\n",
              "      <th>total_current_balance</th>\n",
              "      <th>total_revolving_limit</th>\n",
              "      <th>default</th>\n",
              "    </tr>\n",
              "  </thead>\n",
              "  <tbody>\n",
              "    <tr>\n",
              "      <th>93169</th>\n",
              "      <td>65577252</td>\n",
              "      <td>3200</td>\n",
              "      <td>3 years</td>\n",
              "      <td>7.26</td>\n",
              "      <td>A</td>\n",
              "      <td>A4</td>\n",
              "      <td>&lt;5 Years</td>\n",
              "      <td>RENT</td>\n",
              "      <td>85000.0</td>\n",
              "      <td>Not Verified</td>\n",
              "      <td>debt_consolidation</td>\n",
              "      <td>FL</td>\n",
              "      <td>17.11</td>\n",
              "      <td>0.0</td>\n",
              "      <td>0.0</td>\n",
              "      <td>7924</td>\n",
              "      <td>38.0</td>\n",
              "      <td>55.34</td>\n",
              "      <td>INDIVIDUAL</td>\n",
              "      <td>13.0</td>\n",
              "      <td>64635.0</td>\n",
              "      <td>47600.0</td>\n",
              "      <td>0</td>\n",
              "    </tr>\n",
              "    <tr>\n",
              "      <th>93170</th>\n",
              "      <td>836021</td>\n",
              "      <td>3500</td>\n",
              "      <td>3 years</td>\n",
              "      <td>5.42</td>\n",
              "      <td>A</td>\n",
              "      <td>A1</td>\n",
              "      <td>NaN</td>\n",
              "      <td>MORTGAGE</td>\n",
              "      <td>57550.0</td>\n",
              "      <td>Not Verified</td>\n",
              "      <td>other</td>\n",
              "      <td>FL</td>\n",
              "      <td>22.64</td>\n",
              "      <td>0.0</td>\n",
              "      <td>0.0</td>\n",
              "      <td>10174</td>\n",
              "      <td>24.0</td>\n",
              "      <td>299.67</td>\n",
              "      <td>INDIVIDUAL</td>\n",
              "      <td>161.0</td>\n",
              "      <td>NaN</td>\n",
              "      <td>NaN</td>\n",
              "      <td>1</td>\n",
              "    </tr>\n",
              "    <tr>\n",
              "      <th>93171</th>\n",
              "      <td>33058720</td>\n",
              "      <td>8000</td>\n",
              "      <td>3 years</td>\n",
              "      <td>13.98</td>\n",
              "      <td>C</td>\n",
              "      <td>C3</td>\n",
              "      <td>10+ years</td>\n",
              "      <td>RENT</td>\n",
              "      <td>148531.5</td>\n",
              "      <td>Source Verified</td>\n",
              "      <td>credit_card</td>\n",
              "      <td>AK</td>\n",
              "      <td>13.04</td>\n",
              "      <td>1.0</td>\n",
              "      <td>0.0</td>\n",
              "      <td>5391</td>\n",
              "      <td>25.0</td>\n",
              "      <td>1150.58</td>\n",
              "      <td>INDIVIDUAL</td>\n",
              "      <td>65.0</td>\n",
              "      <td>94596.0</td>\n",
              "      <td>6500.0</td>\n",
              "      <td>0</td>\n",
              "    </tr>\n",
              "    <tr>\n",
              "      <th>93172</th>\n",
              "      <td>4060472</td>\n",
              "      <td>35000</td>\n",
              "      <td>3 years</td>\n",
              "      <td>17.77</td>\n",
              "      <td>D</td>\n",
              "      <td>D1</td>\n",
              "      <td>&lt;5 Years</td>\n",
              "      <td>RENT</td>\n",
              "      <td>100000.0</td>\n",
              "      <td>Verified</td>\n",
              "      <td>debt_consolidation</td>\n",
              "      <td>CA</td>\n",
              "      <td>17.22</td>\n",
              "      <td>0.0</td>\n",
              "      <td>0.0</td>\n",
              "      <td>24609</td>\n",
              "      <td>45.0</td>\n",
              "      <td>5764.58</td>\n",
              "      <td>INDIVIDUAL</td>\n",
              "      <td>56.0</td>\n",
              "      <td>33759.0</td>\n",
              "      <td>34900.0</td>\n",
              "      <td>1</td>\n",
              "    </tr>\n",
              "    <tr>\n",
              "      <th>93173</th>\n",
              "      <td>3628127</td>\n",
              "      <td>10000</td>\n",
              "      <td>3 years</td>\n",
              "      <td>15.80</td>\n",
              "      <td>C</td>\n",
              "      <td>C3</td>\n",
              "      <td>&lt;5 Years</td>\n",
              "      <td>RENT</td>\n",
              "      <td>60000.0</td>\n",
              "      <td>Verified</td>\n",
              "      <td>debt_consolidation</td>\n",
              "      <td>NJ</td>\n",
              "      <td>11.83</td>\n",
              "      <td>0.0</td>\n",
              "      <td>0.0</td>\n",
              "      <td>11285</td>\n",
              "      <td>7.0</td>\n",
              "      <td>2279.36</td>\n",
              "      <td>INDIVIDUAL</td>\n",
              "      <td>104.0</td>\n",
              "      <td>25594.0</td>\n",
              "      <td>12300.0</td>\n",
              "      <td>0</td>\n",
              "    </tr>\n",
              "  </tbody>\n",
              "</table>\n",
              "</div>\n",
              "      <button class=\"colab-df-convert\" onclick=\"convertToInteractive('df-c9715926-2527-43e4-879e-ecdb67f76784')\"\n",
              "              title=\"Convert this dataframe to an interactive table.\"\n",
              "              style=\"display:none;\">\n",
              "        \n",
              "  <svg xmlns=\"http://www.w3.org/2000/svg\" height=\"24px\"viewBox=\"0 0 24 24\"\n",
              "       width=\"24px\">\n",
              "    <path d=\"M0 0h24v24H0V0z\" fill=\"none\"/>\n",
              "    <path d=\"M18.56 5.44l.94 2.06.94-2.06 2.06-.94-2.06-.94-.94-2.06-.94 2.06-2.06.94zm-11 1L8.5 8.5l.94-2.06 2.06-.94-2.06-.94L8.5 2.5l-.94 2.06-2.06.94zm10 10l.94 2.06.94-2.06 2.06-.94-2.06-.94-.94-2.06-.94 2.06-2.06.94z\"/><path d=\"M17.41 7.96l-1.37-1.37c-.4-.4-.92-.59-1.43-.59-.52 0-1.04.2-1.43.59L10.3 9.45l-7.72 7.72c-.78.78-.78 2.05 0 2.83L4 21.41c.39.39.9.59 1.41.59.51 0 1.02-.2 1.41-.59l7.78-7.78 2.81-2.81c.8-.78.8-2.07 0-2.86zM5.41 20L4 18.59l7.72-7.72 1.47 1.35L5.41 20z\"/>\n",
              "  </svg>\n",
              "      </button>\n",
              "      \n",
              "  <style>\n",
              "    .colab-df-container {\n",
              "      display:flex;\n",
              "      flex-wrap:wrap;\n",
              "      gap: 12px;\n",
              "    }\n",
              "\n",
              "    .colab-df-convert {\n",
              "      background-color: #E8F0FE;\n",
              "      border: none;\n",
              "      border-radius: 50%;\n",
              "      cursor: pointer;\n",
              "      display: none;\n",
              "      fill: #1967D2;\n",
              "      height: 32px;\n",
              "      padding: 0 0 0 0;\n",
              "      width: 32px;\n",
              "    }\n",
              "\n",
              "    .colab-df-convert:hover {\n",
              "      background-color: #E2EBFA;\n",
              "      box-shadow: 0px 1px 2px rgba(60, 64, 67, 0.3), 0px 1px 3px 1px rgba(60, 64, 67, 0.15);\n",
              "      fill: #174EA6;\n",
              "    }\n",
              "\n",
              "    [theme=dark] .colab-df-convert {\n",
              "      background-color: #3B4455;\n",
              "      fill: #D2E3FC;\n",
              "    }\n",
              "\n",
              "    [theme=dark] .colab-df-convert:hover {\n",
              "      background-color: #434B5C;\n",
              "      box-shadow: 0px 1px 3px 1px rgba(0, 0, 0, 0.15);\n",
              "      filter: drop-shadow(0px 1px 2px rgba(0, 0, 0, 0.3));\n",
              "      fill: #FFFFFF;\n",
              "    }\n",
              "  </style>\n",
              "\n",
              "      <script>\n",
              "        const buttonEl =\n",
              "          document.querySelector('#df-c9715926-2527-43e4-879e-ecdb67f76784 button.colab-df-convert');\n",
              "        buttonEl.style.display =\n",
              "          google.colab.kernel.accessAllowed ? 'block' : 'none';\n",
              "\n",
              "        async function convertToInteractive(key) {\n",
              "          const element = document.querySelector('#df-c9715926-2527-43e4-879e-ecdb67f76784');\n",
              "          const dataTable =\n",
              "            await google.colab.kernel.invokeFunction('convertToInteractive',\n",
              "                                                     [key], {});\n",
              "          if (!dataTable) return;\n",
              "\n",
              "          const docLinkHtml = 'Like what you see? Visit the ' +\n",
              "            '<a target=\"_blank\" href=https://colab.research.google.com/notebooks/data_table.ipynb>data table notebook</a>'\n",
              "            + ' to learn more about interactive tables.';\n",
              "          element.innerHTML = '';\n",
              "          dataTable['output_type'] = 'display_data';\n",
              "          await google.colab.output.renderOutput(dataTable, element);\n",
              "          const docLink = document.createElement('div');\n",
              "          docLink.innerHTML = docLinkHtml;\n",
              "          element.appendChild(docLink);\n",
              "        }\n",
              "      </script>\n",
              "    </div>\n",
              "  </div>\n",
              "  "
            ]
          },
          "metadata": {},
          "execution_count": 193
        }
      ],
      "source": [
        "loan.tail()"
      ]
    },
    {
      "cell_type": "code",
      "source": [],
      "metadata": {
        "id": "Aku6B2GRxidK"
      },
      "execution_count": null,
      "outputs": []
    },
    {
      "cell_type": "markdown",
      "metadata": {
        "id": "dEuSu6e4hU2e"
      },
      "source": [
        "### Understand the shape of the dataset."
      ]
    },
    {
      "cell_type": "code",
      "execution_count": null,
      "metadata": {
        "colab": {
          "base_uri": "https://localhost:8080/"
        },
        "id": "qEQCDd4ZtHO5",
        "outputId": "72746c67-4cb1-46ba-9f25-249c7bc853b4"
      },
      "outputs": [
        {
          "output_type": "execute_result",
          "data": {
            "text/plain": [
              "(93174, 23)"
            ]
          },
          "metadata": {},
          "execution_count": 194
        }
      ],
      "source": [
        "loan.shape"
      ]
    },
    {
      "cell_type": "markdown",
      "metadata": {
        "id": "ZZ39-_ijtHO6"
      },
      "source": [
        "* The dataset has 11548 rows and 8 columns of data"
      ]
    },
    {
      "cell_type": "markdown",
      "metadata": {
        "id": "mwAu-vEwhU2m"
      },
      "source": [
        "### Check the data types of the columns for the dataset."
      ]
    },
    {
      "cell_type": "code",
      "execution_count": null,
      "metadata": {
        "colab": {
          "base_uri": "https://localhost:8080/"
        },
        "id": "ov2A4KVntHO6",
        "outputId": "181d1711-5d7c-4558-8d6c-00eec6342003"
      },
      "outputs": [
        {
          "output_type": "stream",
          "name": "stdout",
          "text": [
            "<class 'pandas.core.frame.DataFrame'>\n",
            "RangeIndex: 93174 entries, 0 to 93173\n",
            "Data columns (total 22 columns):\n",
            " #   Column                      Non-Null Count  Dtype  \n",
            "---  ------                      --------------  -----  \n",
            " 0   loan_amnt                   93174 non-null  int64  \n",
            " 1   loan_term                   93174 non-null  object \n",
            " 2   interest_rate               93174 non-null  float64\n",
            " 3   loan_grade                  93174 non-null  object \n",
            " 4   loan_subgrade               93174 non-null  object \n",
            " 5   job_experience              88472 non-null  object \n",
            " 6   home_ownership              93174 non-null  object \n",
            " 7   annual_income               93173 non-null  float64\n",
            " 8   income_verification_status  93174 non-null  object \n",
            " 9   loan_purpose                93174 non-null  object \n",
            " 10  state_code                  93174 non-null  object \n",
            " 11  debt_to_income              93174 non-null  float64\n",
            " 12  delinq_2yrs                 93172 non-null  float64\n",
            " 13  public_records              93172 non-null  float64\n",
            " 14  revolving_balance           93174 non-null  int64  \n",
            " 15  total_acc                   93172 non-null  float64\n",
            " 16  interest_receive            93174 non-null  float64\n",
            " 17  application_type            93174 non-null  object \n",
            " 18  last_week_pay               91250 non-null  float64\n",
            " 19  total_current_balance       85788 non-null  float64\n",
            " 20  total_revolving_limit       85788 non-null  float64\n",
            " 21  default                     93174 non-null  int64  \n",
            "dtypes: float64(10), int64(3), object(9)\n",
            "memory usage: 15.6+ MB\n"
          ]
        }
      ],
      "source": [
        "loan.info()"
      ]
    },
    {
      "cell_type": "markdown",
      "metadata": {
        "id": "SDMsvS32tHO7"
      },
      "source": [
        "**Observations -**\n",
        "* default is the dependent variable - type float64.\n",
        "* The dependent variables are a mix of objects and numerical values.\n",
        "* job_experience, public_records, revolving_balance, total_acc, interest_receive, application_type, last_week_pay, total_current_balance and total_revolving_limit are missing values."
      ]
    },
    {
      "cell_type": "markdown",
      "metadata": {
        "id": "7E1orwlJhU20"
      },
      "source": [
        "### Summary of the dataset\n",
        "\n"
      ]
    },
    {
      "cell_type": "code",
      "execution_count": null,
      "metadata": {
        "colab": {
          "base_uri": "https://localhost:8080/",
          "height": 458
        },
        "id": "RrfvCV5rtHO7",
        "outputId": "08fbcb24-2a24-492c-c658-d18f7b542b13"
      },
      "outputs": [
        {
          "output_type": "execute_result",
          "data": {
            "text/plain": [
              "                  ID     loan_amnt loan_term  interest_rate loan_grade  \\\n",
              "count   9.317400e+04  93174.000000     93174   93174.000000      93174   \n",
              "unique           NaN           NaN         2            NaN          7   \n",
              "top              NaN           NaN   3 years            NaN          B   \n",
              "freq             NaN           NaN     65211            NaN      26865   \n",
              "mean    3.505021e+07  14733.861378       NaN      13.233433        NaN   \n",
              "std     2.414926e+07   8428.184858       NaN       4.368728        NaN   \n",
              "min     7.073500e+04    500.000000       NaN       5.320000        NaN   \n",
              "25%     1.085983e+07   8000.000000       NaN       9.990000        NaN   \n",
              "50%     3.710751e+07  13000.000000       NaN      12.990000        NaN   \n",
              "75%     5.859895e+07  20000.000000       NaN      16.200000        NaN   \n",
              "max     7.351975e+07  35000.000000       NaN      28.990000        NaN   \n",
              "\n",
              "       loan_subgrade job_experience home_ownership  annual_income  \\\n",
              "count          93174          88472          93174   9.317300e+04   \n",
              "unique            35              3              5            NaN   \n",
              "top               B3       <5 Years       MORTGAGE            NaN   \n",
              "freq            5879          40610          46445            NaN   \n",
              "mean             NaN            NaN            NaN   7.502826e+04   \n",
              "std              NaN            NaN            NaN   6.945478e+04   \n",
              "min              NaN            NaN            NaN   1.200000e+03   \n",
              "25%              NaN            NaN            NaN   4.500000e+04   \n",
              "50%              NaN            NaN            NaN   6.400000e+04   \n",
              "75%              NaN            NaN            NaN   9.000000e+04   \n",
              "max              NaN            NaN            NaN   9.500000e+06   \n",
              "\n",
              "       income_verification_status        loan_purpose state_code  \\\n",
              "count                       93174               93174      93174   \n",
              "unique                          3                   4         50   \n",
              "top               Source Verified  debt_consolidation         CA   \n",
              "freq                        34487               55241      13744   \n",
              "mean                          NaN                 NaN        NaN   \n",
              "std                           NaN                 NaN        NaN   \n",
              "min                           NaN                 NaN        NaN   \n",
              "25%                           NaN                 NaN        NaN   \n",
              "50%                           NaN                 NaN        NaN   \n",
              "75%                           NaN                 NaN        NaN   \n",
              "max                           NaN                 NaN        NaN   \n",
              "\n",
              "        debt_to_income   delinq_2yrs  public_records  revolving_balance  \\\n",
              "count     93174.000000  93172.000000    93172.000000       9.317400e+04   \n",
              "unique             NaN           NaN             NaN                NaN   \n",
              "top                NaN           NaN             NaN                NaN   \n",
              "freq               NaN           NaN             NaN                NaN   \n",
              "mean         18.127623      0.316994        0.196121       1.685447e+04   \n",
              "std           8.563084      0.880859        0.581188       2.368907e+04   \n",
              "min           0.000000      0.000000        0.000000       0.000000e+00   \n",
              "25%          11.930000      0.000000        0.000000       6.433000e+03   \n",
              "50%          17.640000      0.000000        0.000000       1.185600e+04   \n",
              "75%          23.890000      0.000000        0.000000       2.074500e+04   \n",
              "max         672.520000     22.000000       49.000000       2.560703e+06   \n",
              "\n",
              "           total_acc  interest_receive application_type  last_week_pay  \\\n",
              "count   93172.000000      93174.000000            93174   91250.000000   \n",
              "unique           NaN               NaN                2            NaN   \n",
              "top              NaN               NaN       INDIVIDUAL            NaN   \n",
              "freq             NaN               NaN            93118            NaN   \n",
              "mean       25.248905       1747.263530              NaN      58.154882   \n",
              "std        11.855061       2088.236141              NaN      44.326560   \n",
              "min         1.000000          0.000000              NaN       0.000000   \n",
              "25%        17.000000        439.880000              NaN      22.000000   \n",
              "50%        24.000000       1070.755000              NaN      48.000000   \n",
              "75%        32.000000       2219.612500              NaN      83.000000   \n",
              "max       119.000000      23172.310000              NaN     291.000000   \n",
              "\n",
              "        total_current_balance  total_revolving_limit       default  \n",
              "count            8.578800e+04           8.578800e+04  93174.000000  \n",
              "unique                    NaN                    NaN           NaN  \n",
              "top                       NaN                    NaN           NaN  \n",
              "freq                      NaN                    NaN           NaN  \n",
              "mean             1.392529e+05           3.208590e+04      0.237502  \n",
              "std              1.576868e+05           4.705251e+04      0.425555  \n",
              "min              0.000000e+00           0.000000e+00      0.000000  \n",
              "25%              2.964200e+04           1.400000e+04      0.000000  \n",
              "50%              7.936350e+04           2.370000e+04      0.000000  \n",
              "75%              2.071600e+05           3.970000e+04      0.000000  \n",
              "max              8.000078e+06           9.999999e+06      1.000000  "
            ],
            "text/html": [
              "\n",
              "  <div id=\"df-871c2cd2-e188-42c7-a139-136c56e231db\">\n",
              "    <div class=\"colab-df-container\">\n",
              "      <div>\n",
              "<style scoped>\n",
              "    .dataframe tbody tr th:only-of-type {\n",
              "        vertical-align: middle;\n",
              "    }\n",
              "\n",
              "    .dataframe tbody tr th {\n",
              "        vertical-align: top;\n",
              "    }\n",
              "\n",
              "    .dataframe thead th {\n",
              "        text-align: right;\n",
              "    }\n",
              "</style>\n",
              "<table border=\"1\" class=\"dataframe\">\n",
              "  <thead>\n",
              "    <tr style=\"text-align: right;\">\n",
              "      <th></th>\n",
              "      <th>ID</th>\n",
              "      <th>loan_amnt</th>\n",
              "      <th>loan_term</th>\n",
              "      <th>interest_rate</th>\n",
              "      <th>loan_grade</th>\n",
              "      <th>loan_subgrade</th>\n",
              "      <th>job_experience</th>\n",
              "      <th>home_ownership</th>\n",
              "      <th>annual_income</th>\n",
              "      <th>income_verification_status</th>\n",
              "      <th>loan_purpose</th>\n",
              "      <th>state_code</th>\n",
              "      <th>debt_to_income</th>\n",
              "      <th>delinq_2yrs</th>\n",
              "      <th>public_records</th>\n",
              "      <th>revolving_balance</th>\n",
              "      <th>total_acc</th>\n",
              "      <th>interest_receive</th>\n",
              "      <th>application_type</th>\n",
              "      <th>last_week_pay</th>\n",
              "      <th>total_current_balance</th>\n",
              "      <th>total_revolving_limit</th>\n",
              "      <th>default</th>\n",
              "    </tr>\n",
              "  </thead>\n",
              "  <tbody>\n",
              "    <tr>\n",
              "      <th>count</th>\n",
              "      <td>9.317400e+04</td>\n",
              "      <td>93174.000000</td>\n",
              "      <td>93174</td>\n",
              "      <td>93174.000000</td>\n",
              "      <td>93174</td>\n",
              "      <td>93174</td>\n",
              "      <td>88472</td>\n",
              "      <td>93174</td>\n",
              "      <td>9.317300e+04</td>\n",
              "      <td>93174</td>\n",
              "      <td>93174</td>\n",
              "      <td>93174</td>\n",
              "      <td>93174.000000</td>\n",
              "      <td>93172.000000</td>\n",
              "      <td>93172.000000</td>\n",
              "      <td>9.317400e+04</td>\n",
              "      <td>93172.000000</td>\n",
              "      <td>93174.000000</td>\n",
              "      <td>93174</td>\n",
              "      <td>91250.000000</td>\n",
              "      <td>8.578800e+04</td>\n",
              "      <td>8.578800e+04</td>\n",
              "      <td>93174.000000</td>\n",
              "    </tr>\n",
              "    <tr>\n",
              "      <th>unique</th>\n",
              "      <td>NaN</td>\n",
              "      <td>NaN</td>\n",
              "      <td>2</td>\n",
              "      <td>NaN</td>\n",
              "      <td>7</td>\n",
              "      <td>35</td>\n",
              "      <td>3</td>\n",
              "      <td>5</td>\n",
              "      <td>NaN</td>\n",
              "      <td>3</td>\n",
              "      <td>4</td>\n",
              "      <td>50</td>\n",
              "      <td>NaN</td>\n",
              "      <td>NaN</td>\n",
              "      <td>NaN</td>\n",
              "      <td>NaN</td>\n",
              "      <td>NaN</td>\n",
              "      <td>NaN</td>\n",
              "      <td>2</td>\n",
              "      <td>NaN</td>\n",
              "      <td>NaN</td>\n",
              "      <td>NaN</td>\n",
              "      <td>NaN</td>\n",
              "    </tr>\n",
              "    <tr>\n",
              "      <th>top</th>\n",
              "      <td>NaN</td>\n",
              "      <td>NaN</td>\n",
              "      <td>3 years</td>\n",
              "      <td>NaN</td>\n",
              "      <td>B</td>\n",
              "      <td>B3</td>\n",
              "      <td>&lt;5 Years</td>\n",
              "      <td>MORTGAGE</td>\n",
              "      <td>NaN</td>\n",
              "      <td>Source Verified</td>\n",
              "      <td>debt_consolidation</td>\n",
              "      <td>CA</td>\n",
              "      <td>NaN</td>\n",
              "      <td>NaN</td>\n",
              "      <td>NaN</td>\n",
              "      <td>NaN</td>\n",
              "      <td>NaN</td>\n",
              "      <td>NaN</td>\n",
              "      <td>INDIVIDUAL</td>\n",
              "      <td>NaN</td>\n",
              "      <td>NaN</td>\n",
              "      <td>NaN</td>\n",
              "      <td>NaN</td>\n",
              "    </tr>\n",
              "    <tr>\n",
              "      <th>freq</th>\n",
              "      <td>NaN</td>\n",
              "      <td>NaN</td>\n",
              "      <td>65211</td>\n",
              "      <td>NaN</td>\n",
              "      <td>26865</td>\n",
              "      <td>5879</td>\n",
              "      <td>40610</td>\n",
              "      <td>46445</td>\n",
              "      <td>NaN</td>\n",
              "      <td>34487</td>\n",
              "      <td>55241</td>\n",
              "      <td>13744</td>\n",
              "      <td>NaN</td>\n",
              "      <td>NaN</td>\n",
              "      <td>NaN</td>\n",
              "      <td>NaN</td>\n",
              "      <td>NaN</td>\n",
              "      <td>NaN</td>\n",
              "      <td>93118</td>\n",
              "      <td>NaN</td>\n",
              "      <td>NaN</td>\n",
              "      <td>NaN</td>\n",
              "      <td>NaN</td>\n",
              "    </tr>\n",
              "    <tr>\n",
              "      <th>mean</th>\n",
              "      <td>3.505021e+07</td>\n",
              "      <td>14733.861378</td>\n",
              "      <td>NaN</td>\n",
              "      <td>13.233433</td>\n",
              "      <td>NaN</td>\n",
              "      <td>NaN</td>\n",
              "      <td>NaN</td>\n",
              "      <td>NaN</td>\n",
              "      <td>7.502826e+04</td>\n",
              "      <td>NaN</td>\n",
              "      <td>NaN</td>\n",
              "      <td>NaN</td>\n",
              "      <td>18.127623</td>\n",
              "      <td>0.316994</td>\n",
              "      <td>0.196121</td>\n",
              "      <td>1.685447e+04</td>\n",
              "      <td>25.248905</td>\n",
              "      <td>1747.263530</td>\n",
              "      <td>NaN</td>\n",
              "      <td>58.154882</td>\n",
              "      <td>1.392529e+05</td>\n",
              "      <td>3.208590e+04</td>\n",
              "      <td>0.237502</td>\n",
              "    </tr>\n",
              "    <tr>\n",
              "      <th>std</th>\n",
              "      <td>2.414926e+07</td>\n",
              "      <td>8428.184858</td>\n",
              "      <td>NaN</td>\n",
              "      <td>4.368728</td>\n",
              "      <td>NaN</td>\n",
              "      <td>NaN</td>\n",
              "      <td>NaN</td>\n",
              "      <td>NaN</td>\n",
              "      <td>6.945478e+04</td>\n",
              "      <td>NaN</td>\n",
              "      <td>NaN</td>\n",
              "      <td>NaN</td>\n",
              "      <td>8.563084</td>\n",
              "      <td>0.880859</td>\n",
              "      <td>0.581188</td>\n",
              "      <td>2.368907e+04</td>\n",
              "      <td>11.855061</td>\n",
              "      <td>2088.236141</td>\n",
              "      <td>NaN</td>\n",
              "      <td>44.326560</td>\n",
              "      <td>1.576868e+05</td>\n",
              "      <td>4.705251e+04</td>\n",
              "      <td>0.425555</td>\n",
              "    </tr>\n",
              "    <tr>\n",
              "      <th>min</th>\n",
              "      <td>7.073500e+04</td>\n",
              "      <td>500.000000</td>\n",
              "      <td>NaN</td>\n",
              "      <td>5.320000</td>\n",
              "      <td>NaN</td>\n",
              "      <td>NaN</td>\n",
              "      <td>NaN</td>\n",
              "      <td>NaN</td>\n",
              "      <td>1.200000e+03</td>\n",
              "      <td>NaN</td>\n",
              "      <td>NaN</td>\n",
              "      <td>NaN</td>\n",
              "      <td>0.000000</td>\n",
              "      <td>0.000000</td>\n",
              "      <td>0.000000</td>\n",
              "      <td>0.000000e+00</td>\n",
              "      <td>1.000000</td>\n",
              "      <td>0.000000</td>\n",
              "      <td>NaN</td>\n",
              "      <td>0.000000</td>\n",
              "      <td>0.000000e+00</td>\n",
              "      <td>0.000000e+00</td>\n",
              "      <td>0.000000</td>\n",
              "    </tr>\n",
              "    <tr>\n",
              "      <th>25%</th>\n",
              "      <td>1.085983e+07</td>\n",
              "      <td>8000.000000</td>\n",
              "      <td>NaN</td>\n",
              "      <td>9.990000</td>\n",
              "      <td>NaN</td>\n",
              "      <td>NaN</td>\n",
              "      <td>NaN</td>\n",
              "      <td>NaN</td>\n",
              "      <td>4.500000e+04</td>\n",
              "      <td>NaN</td>\n",
              "      <td>NaN</td>\n",
              "      <td>NaN</td>\n",
              "      <td>11.930000</td>\n",
              "      <td>0.000000</td>\n",
              "      <td>0.000000</td>\n",
              "      <td>6.433000e+03</td>\n",
              "      <td>17.000000</td>\n",
              "      <td>439.880000</td>\n",
              "      <td>NaN</td>\n",
              "      <td>22.000000</td>\n",
              "      <td>2.964200e+04</td>\n",
              "      <td>1.400000e+04</td>\n",
              "      <td>0.000000</td>\n",
              "    </tr>\n",
              "    <tr>\n",
              "      <th>50%</th>\n",
              "      <td>3.710751e+07</td>\n",
              "      <td>13000.000000</td>\n",
              "      <td>NaN</td>\n",
              "      <td>12.990000</td>\n",
              "      <td>NaN</td>\n",
              "      <td>NaN</td>\n",
              "      <td>NaN</td>\n",
              "      <td>NaN</td>\n",
              "      <td>6.400000e+04</td>\n",
              "      <td>NaN</td>\n",
              "      <td>NaN</td>\n",
              "      <td>NaN</td>\n",
              "      <td>17.640000</td>\n",
              "      <td>0.000000</td>\n",
              "      <td>0.000000</td>\n",
              "      <td>1.185600e+04</td>\n",
              "      <td>24.000000</td>\n",
              "      <td>1070.755000</td>\n",
              "      <td>NaN</td>\n",
              "      <td>48.000000</td>\n",
              "      <td>7.936350e+04</td>\n",
              "      <td>2.370000e+04</td>\n",
              "      <td>0.000000</td>\n",
              "    </tr>\n",
              "    <tr>\n",
              "      <th>75%</th>\n",
              "      <td>5.859895e+07</td>\n",
              "      <td>20000.000000</td>\n",
              "      <td>NaN</td>\n",
              "      <td>16.200000</td>\n",
              "      <td>NaN</td>\n",
              "      <td>NaN</td>\n",
              "      <td>NaN</td>\n",
              "      <td>NaN</td>\n",
              "      <td>9.000000e+04</td>\n",
              "      <td>NaN</td>\n",
              "      <td>NaN</td>\n",
              "      <td>NaN</td>\n",
              "      <td>23.890000</td>\n",
              "      <td>0.000000</td>\n",
              "      <td>0.000000</td>\n",
              "      <td>2.074500e+04</td>\n",
              "      <td>32.000000</td>\n",
              "      <td>2219.612500</td>\n",
              "      <td>NaN</td>\n",
              "      <td>83.000000</td>\n",
              "      <td>2.071600e+05</td>\n",
              "      <td>3.970000e+04</td>\n",
              "      <td>0.000000</td>\n",
              "    </tr>\n",
              "    <tr>\n",
              "      <th>max</th>\n",
              "      <td>7.351975e+07</td>\n",
              "      <td>35000.000000</td>\n",
              "      <td>NaN</td>\n",
              "      <td>28.990000</td>\n",
              "      <td>NaN</td>\n",
              "      <td>NaN</td>\n",
              "      <td>NaN</td>\n",
              "      <td>NaN</td>\n",
              "      <td>9.500000e+06</td>\n",
              "      <td>NaN</td>\n",
              "      <td>NaN</td>\n",
              "      <td>NaN</td>\n",
              "      <td>672.520000</td>\n",
              "      <td>22.000000</td>\n",
              "      <td>49.000000</td>\n",
              "      <td>2.560703e+06</td>\n",
              "      <td>119.000000</td>\n",
              "      <td>23172.310000</td>\n",
              "      <td>NaN</td>\n",
              "      <td>291.000000</td>\n",
              "      <td>8.000078e+06</td>\n",
              "      <td>9.999999e+06</td>\n",
              "      <td>1.000000</td>\n",
              "    </tr>\n",
              "  </tbody>\n",
              "</table>\n",
              "</div>\n",
              "      <button class=\"colab-df-convert\" onclick=\"convertToInteractive('df-871c2cd2-e188-42c7-a139-136c56e231db')\"\n",
              "              title=\"Convert this dataframe to an interactive table.\"\n",
              "              style=\"display:none;\">\n",
              "        \n",
              "  <svg xmlns=\"http://www.w3.org/2000/svg\" height=\"24px\"viewBox=\"0 0 24 24\"\n",
              "       width=\"24px\">\n",
              "    <path d=\"M0 0h24v24H0V0z\" fill=\"none\"/>\n",
              "    <path d=\"M18.56 5.44l.94 2.06.94-2.06 2.06-.94-2.06-.94-.94-2.06-.94 2.06-2.06.94zm-11 1L8.5 8.5l.94-2.06 2.06-.94-2.06-.94L8.5 2.5l-.94 2.06-2.06.94zm10 10l.94 2.06.94-2.06 2.06-.94-2.06-.94-.94-2.06-.94 2.06-2.06.94z\"/><path d=\"M17.41 7.96l-1.37-1.37c-.4-.4-.92-.59-1.43-.59-.52 0-1.04.2-1.43.59L10.3 9.45l-7.72 7.72c-.78.78-.78 2.05 0 2.83L4 21.41c.39.39.9.59 1.41.59.51 0 1.02-.2 1.41-.59l7.78-7.78 2.81-2.81c.8-.78.8-2.07 0-2.86zM5.41 20L4 18.59l7.72-7.72 1.47 1.35L5.41 20z\"/>\n",
              "  </svg>\n",
              "      </button>\n",
              "      \n",
              "  <style>\n",
              "    .colab-df-container {\n",
              "      display:flex;\n",
              "      flex-wrap:wrap;\n",
              "      gap: 12px;\n",
              "    }\n",
              "\n",
              "    .colab-df-convert {\n",
              "      background-color: #E8F0FE;\n",
              "      border: none;\n",
              "      border-radius: 50%;\n",
              "      cursor: pointer;\n",
              "      display: none;\n",
              "      fill: #1967D2;\n",
              "      height: 32px;\n",
              "      padding: 0 0 0 0;\n",
              "      width: 32px;\n",
              "    }\n",
              "\n",
              "    .colab-df-convert:hover {\n",
              "      background-color: #E2EBFA;\n",
              "      box-shadow: 0px 1px 2px rgba(60, 64, 67, 0.3), 0px 1px 3px 1px rgba(60, 64, 67, 0.15);\n",
              "      fill: #174EA6;\n",
              "    }\n",
              "\n",
              "    [theme=dark] .colab-df-convert {\n",
              "      background-color: #3B4455;\n",
              "      fill: #D2E3FC;\n",
              "    }\n",
              "\n",
              "    [theme=dark] .colab-df-convert:hover {\n",
              "      background-color: #434B5C;\n",
              "      box-shadow: 0px 1px 3px 1px rgba(0, 0, 0, 0.15);\n",
              "      filter: drop-shadow(0px 1px 2px rgba(0, 0, 0, 0.3));\n",
              "      fill: #FFFFFF;\n",
              "    }\n",
              "  </style>\n",
              "\n",
              "      <script>\n",
              "        const buttonEl =\n",
              "          document.querySelector('#df-871c2cd2-e188-42c7-a139-136c56e231db button.colab-df-convert');\n",
              "        buttonEl.style.display =\n",
              "          google.colab.kernel.accessAllowed ? 'block' : 'none';\n",
              "\n",
              "        async function convertToInteractive(key) {\n",
              "          const element = document.querySelector('#df-871c2cd2-e188-42c7-a139-136c56e231db');\n",
              "          const dataTable =\n",
              "            await google.colab.kernel.invokeFunction('convertToInteractive',\n",
              "                                                     [key], {});\n",
              "          if (!dataTable) return;\n",
              "\n",
              "          const docLinkHtml = 'Like what you see? Visit the ' +\n",
              "            '<a target=\"_blank\" href=https://colab.research.google.com/notebooks/data_table.ipynb>data table notebook</a>'\n",
              "            + ' to learn more about interactive tables.';\n",
              "          element.innerHTML = '';\n",
              "          dataTable['output_type'] = 'display_data';\n",
              "          await google.colab.output.renderOutput(dataTable, element);\n",
              "          const docLink = document.createElement('div');\n",
              "          docLink.innerHTML = docLinkHtml;\n",
              "          element.appendChild(docLink);\n",
              "        }\n",
              "      </script>\n",
              "    </div>\n",
              "  </div>\n",
              "  "
            ]
          },
          "metadata": {},
          "execution_count": 196
        }
      ],
      "source": [
        "loan.describe(include=\"all\")"
      ]
    },
    {
      "cell_type": "markdown",
      "metadata": {
        "id": "-MomekrUtHO8"
      },
      "source": [
        "**Observations-**   \n",
        "\n",
        "* Most of the loans are for a 36-month term loan.\n",
        "* Most loan applications are for debt consolidation.\n",
        "* Most customers have mortgaged their houses.\n",
        "* On average customers seek a loan of about 15,000 USD.\n"
      ]
    },
    {
      "cell_type": "code",
      "execution_count": null,
      "metadata": {
        "colab": {
          "base_uri": "https://localhost:8080/"
        },
        "id": "K5bC8uDNtHO8",
        "outputId": "fc9d57d9-5e5d-4d5e-abea-99628a1f53de"
      },
      "outputs": [
        {
          "output_type": "execute_result",
          "data": {
            "text/plain": [
              "93174"
            ]
          },
          "metadata": {},
          "execution_count": 197
        }
      ],
      "source": [
        "# checking for unique values in ID column\n",
        "loan[\"ID\"].nunique()"
      ]
    },
    {
      "cell_type": "markdown",
      "metadata": {
        "id": "vdb7DtkctHO8"
      },
      "source": [
        "* Since all the values in ID column are unique we can drop it"
      ]
    },
    {
      "cell_type": "code",
      "execution_count": null,
      "metadata": {
        "id": "NSKqLutstHO8"
      },
      "outputs": [],
      "source": [
        "loan.drop([\"ID\"], axis=1, inplace=True)"
      ]
    },
    {
      "cell_type": "markdown",
      "metadata": {
        "id": "Ie6gSJh8hU28"
      },
      "source": [
        "### Check for missing values"
      ]
    },
    {
      "cell_type": "markdown",
      "metadata": {
        "id": "VY8bugwftHO9"
      },
      "source": [
        "* There are missing values in the dataset"
      ]
    },
    {
      "cell_type": "code",
      "source": [
        "loan.isnull().sum()"
      ],
      "metadata": {
        "colab": {
          "base_uri": "https://localhost:8080/"
        },
        "id": "fjk4CShiyVwM",
        "outputId": "3a7a47b6-b8a7-4e5a-a55d-b126744e7780"
      },
      "execution_count": null,
      "outputs": [
        {
          "output_type": "execute_result",
          "data": {
            "text/plain": [
              "loan_amnt                        0\n",
              "loan_term                        0\n",
              "interest_rate                    0\n",
              "loan_grade                       0\n",
              "loan_subgrade                    0\n",
              "job_experience                4702\n",
              "home_ownership                   0\n",
              "annual_income                    1\n",
              "income_verification_status       0\n",
              "loan_purpose                     0\n",
              "state_code                       0\n",
              "debt_to_income                   0\n",
              "delinq_2yrs                      2\n",
              "public_records                   2\n",
              "revolving_balance                0\n",
              "total_acc                        2\n",
              "interest_receive                 0\n",
              "application_type                 0\n",
              "last_week_pay                 1924\n",
              "total_current_balance         7386\n",
              "total_revolving_limit         7386\n",
              "default                          0\n",
              "dtype: int64"
            ]
          },
          "metadata": {},
          "execution_count": 201
        }
      ]
    },
    {
      "cell_type": "code",
      "source": [
        "round(loan.isnull().sum() / loan.isnull().count() * 100, 2)"
      ],
      "metadata": {
        "colab": {
          "base_uri": "https://localhost:8080/"
        },
        "id": "RTm4p-LRx9Gh",
        "outputId": "9be99222-92e4-40e8-eeb7-c1b3b7f4aadb"
      },
      "execution_count": null,
      "outputs": [
        {
          "output_type": "execute_result",
          "data": {
            "text/plain": [
              "loan_amnt                     0.00\n",
              "loan_term                     0.00\n",
              "interest_rate                 0.00\n",
              "loan_grade                    0.00\n",
              "loan_subgrade                 0.00\n",
              "job_experience                5.05\n",
              "home_ownership                0.00\n",
              "annual_income                 0.00\n",
              "income_verification_status    0.00\n",
              "loan_purpose                  0.00\n",
              "state_code                    0.00\n",
              "debt_to_income                0.00\n",
              "delinq_2yrs                   0.00\n",
              "public_records                0.00\n",
              "revolving_balance             0.00\n",
              "total_acc                     0.00\n",
              "interest_receive              0.00\n",
              "application_type              0.00\n",
              "last_week_pay                 2.06\n",
              "total_current_balance         7.93\n",
              "total_revolving_limit         7.93\n",
              "default                       0.00\n",
              "dtype: float64"
            ]
          },
          "metadata": {},
          "execution_count": 199
        }
      ]
    },
    {
      "cell_type": "code",
      "source": [
        "loan[\"last_week_pay\"] = loan[\"last_week_pay\"].fillna(loan[\"last_week_pay\"].mean()) \n",
        "loan[\"total_current_balance\"] = loan[\"total_current_balance\"].fillna(loan[\"total_current_balance\"].mean())\n",
        "loan[\"total_revolving_limit\"] = loan[\"total_revolving_limit\"].fillna(loan[\"total_revolving_limit\"].mean())"
      ],
      "metadata": {
        "id": "H-5JDRH4XWC_"
      },
      "execution_count": null,
      "outputs": []
    },
    {
      "cell_type": "code",
      "source": [
        "#loan['job_experience'] = loan['job_experience'].fillna(loan['job_experience'].mode())"
      ],
      "metadata": {
        "id": "-xstjxA3d2FI"
      },
      "execution_count": null,
      "outputs": []
    },
    {
      "cell_type": "code",
      "source": [
        "#loan2 = loan.dropna(axis=0, how='any')"
      ],
      "metadata": {
        "id": "v3kakQr39IYe"
      },
      "execution_count": null,
      "outputs": []
    },
    {
      "cell_type": "code",
      "source": [
        "#loan = loan.dropna(how='all',\n",
        "                    subset=['annual_income', 'delinq_2yrs', 'public_records', 'total_acc'])"
      ],
      "metadata": {
        "id": "gg3df7oN-yPd"
      },
      "execution_count": null,
      "outputs": []
    },
    {
      "cell_type": "code",
      "source": [
        "loan[\"duration\"] = loan[\"duration\"].fillna(\n",
        "    value=loan.groupby([\"genre\", \"mediaType\"])[\"duration\"].transform(\"mode\")"
      ],
      "metadata": {
        "id": "goHgVOtbWP0U"
      },
      "execution_count": null,
      "outputs": []
    },
    {
      "cell_type": "code",
      "source": [
        "loan.isnull().sum()"
      ],
      "metadata": {
        "colab": {
          "base_uri": "https://localhost:8080/"
        },
        "id": "AS2MQZduYb5F",
        "outputId": "0c12ba57-6e84-489d-913d-61d9f7bd48ea"
      },
      "execution_count": null,
      "outputs": [
        {
          "output_type": "execute_result",
          "data": {
            "text/plain": [
              "loan_amnt                        0\n",
              "loan_term                        0\n",
              "interest_rate                    0\n",
              "loan_grade                       0\n",
              "loan_subgrade                    0\n",
              "job_experience                4702\n",
              "home_ownership                   0\n",
              "annual_income                    0\n",
              "income_verification_status       0\n",
              "loan_purpose                     0\n",
              "state_code                       0\n",
              "debt_to_income                   0\n",
              "delinq_2yrs                      1\n",
              "public_records                   1\n",
              "revolving_balance                0\n",
              "total_acc                        1\n",
              "interest_receive                 0\n",
              "application_type                 0\n",
              "last_week_pay                    0\n",
              "total_current_balance            0\n",
              "total_revolving_limit            0\n",
              "default                          0\n",
              "dtype: int64"
            ]
          },
          "metadata": {},
          "execution_count": 88
        }
      ]
    },
    {
      "cell_type": "code",
      "source": [
        "# for each column, get value counts in decreasing order and take the index (value) of most common class\n",
        "loan2 = loan.apply(lambda x: x.fillna(x.value_counts().index[0]))"
      ],
      "metadata": {
        "id": "xULnSFF1owia"
      },
      "execution_count": null,
      "outputs": []
    },
    {
      "cell_type": "code",
      "source": [
        "loan2.isnull().sum()"
      ],
      "metadata": {
        "colab": {
          "base_uri": "https://localhost:8080/"
        },
        "id": "zp0RxAbDo9yz",
        "outputId": "05371c12-7051-40c8-9a0d-9754d2271703"
      },
      "execution_count": null,
      "outputs": [
        {
          "output_type": "execute_result",
          "data": {
            "text/plain": [
              "loan_amnt                     0\n",
              "loan_term                     0\n",
              "interest_rate                 0\n",
              "loan_grade                    0\n",
              "loan_subgrade                 0\n",
              "job_experience                0\n",
              "home_ownership                0\n",
              "annual_income                 0\n",
              "income_verification_status    0\n",
              "loan_purpose                  0\n",
              "state_code                    0\n",
              "debt_to_income                0\n",
              "delinq_2yrs                   0\n",
              "public_records                0\n",
              "revolving_balance             0\n",
              "total_acc                     0\n",
              "interest_receive              0\n",
              "application_type              0\n",
              "last_week_pay                 0\n",
              "total_current_balance         0\n",
              "total_revolving_limit         0\n",
              "default                       0\n",
              "dtype: int64"
            ]
          },
          "metadata": {},
          "execution_count": 145
        }
      ]
    },
    {
      "cell_type": "code",
      "source": [
        "loan.info()"
      ],
      "metadata": {
        "colab": {
          "base_uri": "https://localhost:8080/"
        },
        "id": "e0tu1dQVzHTj",
        "outputId": "fdf6a2b1-027a-4f37-85ed-54d32f3e6a21"
      },
      "execution_count": null,
      "outputs": [
        {
          "output_type": "stream",
          "name": "stdout",
          "text": [
            "<class 'pandas.core.frame.DataFrame'>\n",
            "RangeIndex: 93174 entries, 0 to 93173\n",
            "Data columns (total 22 columns):\n",
            " #   Column                      Non-Null Count  Dtype  \n",
            "---  ------                      --------------  -----  \n",
            " 0   loan_amnt                   93174 non-null  int64  \n",
            " 1   loan_term                   93174 non-null  object \n",
            " 2   interest_rate               93174 non-null  float64\n",
            " 3   loan_grade                  93174 non-null  object \n",
            " 4   loan_subgrade               93174 non-null  object \n",
            " 5   job_experience              88472 non-null  object \n",
            " 6   home_ownership              93174 non-null  object \n",
            " 7   annual_income               93173 non-null  float64\n",
            " 8   income_verification_status  93174 non-null  object \n",
            " 9   loan_purpose                93174 non-null  object \n",
            " 10  state_code                  93174 non-null  object \n",
            " 11  debt_to_income              93174 non-null  float64\n",
            " 12  delinq_2yrs                 93172 non-null  float64\n",
            " 13  public_records              93172 non-null  float64\n",
            " 14  revolving_balance           93174 non-null  int64  \n",
            " 15  total_acc                   93172 non-null  float64\n",
            " 16  interest_receive            93174 non-null  float64\n",
            " 17  application_type            93174 non-null  object \n",
            " 18  last_week_pay               91250 non-null  float64\n",
            " 19  total_current_balance       85788 non-null  float64\n",
            " 20  total_revolving_limit       85788 non-null  float64\n",
            " 21  default                     93174 non-null  int64  \n",
            "dtypes: float64(10), int64(3), object(9)\n",
            "memory usage: 15.6+ MB\n"
          ]
        }
      ]
    },
    {
      "cell_type": "code",
      "source": [
        "# Making a list of all categorical variables\n",
        "cat_col = [\n",
        "    \"loan_term\",\n",
        "    \"loan_grade\",\n",
        "    \"loan_subgrade\",\n",
        "    \"job_experience\",\n",
        "    \"home_ownership\",\n",
        "    \"income_verification_status\",\n",
        "    \"loan_purpose\",\n",
        "    \"state_code\",\n",
        "    \"application_type\"\n",
        "]\n",
        "\n",
        "# Printing number of count of each unique value in each column\n",
        "for column in cat_col:\n",
        "    print(loan[column].value_counts())\n",
        "    print(\"-\" * 40)"
      ],
      "metadata": {
        "colab": {
          "base_uri": "https://localhost:8080/"
        },
        "id": "-cqq4fy8zEXf",
        "outputId": "3ccd12da-9596-40ea-d6e2-9301358c3a19"
      },
      "execution_count": null,
      "outputs": [
        {
          "output_type": "stream",
          "name": "stdout",
          "text": [
            "3 years    65211\n",
            "5 years    27963\n",
            "Name: loan_term, dtype: int64\n",
            "----------------------------------------\n",
            "B    26865\n",
            "C    25787\n",
            "A    15534\n",
            "D    14715\n",
            "E     7378\n",
            "F     2344\n",
            "G      551\n",
            "Name: loan_grade, dtype: int64\n",
            "----------------------------------------\n",
            "B3    5879\n",
            "B4    5879\n",
            "C2    5479\n",
            "C1    5443\n",
            "C3    5270\n",
            "C4    5182\n",
            "B2    5169\n",
            "B5    5095\n",
            "B1    4843\n",
            "A5    4723\n",
            "C5    4413\n",
            "D1    3716\n",
            "A4    3631\n",
            "D2    3239\n",
            "D3    2759\n",
            "D4    2717\n",
            "A3    2450\n",
            "A1    2377\n",
            "A2    2353\n",
            "D5    2284\n",
            "E1    1924\n",
            "E2    1736\n",
            "E3    1513\n",
            "E4    1228\n",
            "E5     977\n",
            "F1     745\n",
            "F2     545\n",
            "F3     465\n",
            "F4     355\n",
            "F5     234\n",
            "G1     174\n",
            "G2     146\n",
            "G3     105\n",
            "G5      66\n",
            "G4      60\n",
            "Name: loan_subgrade, dtype: int64\n",
            "----------------------------------------\n",
            "<5 Years      40610\n",
            "10+ years     30362\n",
            "6-10 years    17500\n",
            "Name: job_experience, dtype: int64\n",
            "----------------------------------------\n",
            "MORTGAGE    46445\n",
            "RENT        37449\n",
            "OWN          9254\n",
            "OTHER          18\n",
            "NONE            8\n",
            "Name: home_ownership, dtype: int64\n",
            "----------------------------------------\n",
            "Source Verified    34487\n",
            "Verified           30450\n",
            "Not Verified       28237\n",
            "Name: income_verification_status, dtype: int64\n",
            "----------------------------------------\n",
            "debt_consolidation    55241\n",
            "credit_card           21571\n",
            "other                 10971\n",
            "home_improvement       5391\n",
            "Name: loan_purpose, dtype: int64\n",
            "----------------------------------------\n",
            "CA    13744\n",
            "NY     7782\n",
            "TX     7467\n",
            "FL     6360\n",
            "IL     3699\n",
            "NJ     3464\n",
            "PA     3321\n",
            "OH     3104\n",
            "GA     2998\n",
            "VA     2793\n",
            "NC     2669\n",
            "MI     2415\n",
            "MD     2279\n",
            "MA     2232\n",
            "AZ     2115\n",
            "WA     2038\n",
            "CO     1924\n",
            "MN     1638\n",
            "MO     1485\n",
            "IN     1420\n",
            "CT     1402\n",
            "TN     1365\n",
            "NV     1326\n",
            "WI     1206\n",
            "AL     1188\n",
            "LA     1112\n",
            "SC     1108\n",
            "OR     1102\n",
            "KY      933\n",
            "OK      851\n",
            "KS      800\n",
            "AR      694\n",
            "UT      658\n",
            "NM      507\n",
            "WV      460\n",
            "HI      451\n",
            "NH      447\n",
            "RI      412\n",
            "MS      389\n",
            "DC      271\n",
            "MT      253\n",
            "DE      246\n",
            "AK      231\n",
            "WY      212\n",
            "SD      198\n",
            "VT      174\n",
            "NE      126\n",
            "ME       59\n",
            "ND       45\n",
            "ID        1\n",
            "Name: state_code, dtype: int64\n",
            "----------------------------------------\n",
            "INDIVIDUAL    93118\n",
            "JOINT            56\n",
            "Name: application_type, dtype: int64\n",
            "----------------------------------------\n"
          ]
        }
      ]
    },
    {
      "cell_type": "markdown",
      "metadata": {
        "id": "spLcUitLEWx4"
      },
      "source": [
        "## Exploratory Data Analysis (EDA)"
      ]
    },
    {
      "cell_type": "markdown",
      "metadata": {
        "id": "-VHCTLmzEl8C"
      },
      "source": [
        "**The below functions need to be defined to carry out the EDA.**"
      ]
    },
    {
      "cell_type": "code",
      "source": [
        "# We create a function to plot a boxplot and a histogram along the same scale.\n",
        "\n",
        "def histogram_boxplot(data, feature, figsize=(15, 10), kde=False, bins=None):\n",
        "    \"\"\"\n",
        "    Boxplot and histogram combined\n",
        "\n",
        "    data: dataframe\n",
        "    feature: dataframe column\n",
        "    figsize: size of figure (default (15,10))\n",
        "    kde: whether to show the density curve (default False)\n",
        "    bins: number of bins for histogram (default None)\n",
        "    \"\"\"\n",
        "    f2, (ax_box2, ax_hist2) = plt.subplots(\n",
        "        nrows=2,  # Number of rows of the subplot grid= 2\n",
        "        sharex=True,  # x-axis will be shared among all subplots\n",
        "        gridspec_kw={\"height_ratios\": (0.25, 0.75)},\n",
        "        figsize=figsize,\n",
        "    )  # creating the 2 subplots\n",
        "    sns.boxplot(\n",
        "        data=data, x=feature, ax=ax_box2, showmeans=True, color=\"violet\"\n",
        "    )  # boxplot will be created and a triangle will indicate the mean value of the column\n",
        "    sns.histplot(\n",
        "        data=data, x=feature, kde=kde, ax=ax_hist2, bins=bins\n",
        "    ) if bins else sns.histplot(\n",
        "        data=data, x=feature, kde=kde, ax=ax_hist2\n",
        "    )  # For histogram\n",
        "    ax_hist2.axvline(\n",
        "        data[feature].mean(), color=\"green\", linestyle=\"--\"\n",
        "    )  # Add mean to the histogram\n",
        "    ax_hist2.axvline(\n",
        "        data[feature].median(), color=\"black\", linestyle=\"-\"\n",
        "    )  # Add median to the histogram"
      ],
      "metadata": {
        "id": "tXSvFu1DTUIX"
      },
      "execution_count": null,
      "outputs": []
    },
    {
      "cell_type": "code",
      "execution_count": null,
      "metadata": {
        "id": "ViCl1agjtHO-"
      },
      "outputs": [],
      "source": [
        "# function to create labeled barplots\n",
        "\n",
        "\n",
        "def labeled_barplot(data, feature, perc=False, n=None):\n",
        "    \"\"\"\n",
        "    Barplot with percentage at the top\n",
        "\n",
        "    data: dataframe\n",
        "    feature: dataframe column\n",
        "    perc: whether to display percentages instead of count (default is False)\n",
        "    n: displays the top n category levels (default is None, i.e., display all levels)\n",
        "    \"\"\"\n",
        "\n",
        "    total = len(data[feature])  # length of the column\n",
        "    count = data[feature].nunique()\n",
        "    if n is None:\n",
        "        plt.figure(figsize=(count + 2, 6))\n",
        "    else:\n",
        "        plt.figure(figsize=(n + 2, 6))\n",
        "\n",
        "    plt.xticks(rotation=90, fontsize=15)\n",
        "    ax = sns.countplot(\n",
        "        data=data,\n",
        "        x=feature,\n",
        "        palette=\"Paired\",\n",
        "        order=data[feature].value_counts().index[:n],\n",
        "    )\n",
        "\n",
        "    for p in ax.patches:\n",
        "        if perc == True:\n",
        "            label = \"{:.1f}%\".format(\n",
        "                100 * p.get_height() / total\n",
        "            )  # percentage of each class of the category\n",
        "        else:\n",
        "            label = p.get_height()  # count of each level of the category\n",
        "\n",
        "        x = p.get_x() + p.get_width() / 2  # width of the plot\n",
        "        y = p.get_height()  # height of the plot\n",
        "\n",
        "        ax.annotate(\n",
        "            label,\n",
        "            (x, y),\n",
        "            ha=\"center\",\n",
        "            va=\"center\",\n",
        "            size=12,\n",
        "            xytext=(0, 5),\n",
        "            textcoords=\"offset points\",\n",
        "        )  # annotate the percentage\n",
        "\n",
        "    plt.show()  # show the plot"
      ]
    },
    {
      "cell_type": "code",
      "execution_count": null,
      "metadata": {
        "id": "1Xsb6bN4tHPs"
      },
      "outputs": [],
      "source": [
        "# function to plot stacked bar chart\n",
        "\n",
        "\n",
        "def stacked_barplot(data, predictor, target):\n",
        "    \"\"\"\n",
        "    Print the category counts and plot a stacked bar chart\n",
        "\n",
        "    data: dataframe\n",
        "    predictor: independent variable\n",
        "    target: target variable\n",
        "    \"\"\"\n",
        "    count = data[predictor].nunique()\n",
        "    sorter = data[target].value_counts().index[-1]\n",
        "    tab1 = pd.crosstab(data[predictor], data[target], margins=True).sort_values(\n",
        "        by=sorter, ascending=False\n",
        "    )\n",
        "    print(tab1)\n",
        "    print(\"-\" * 120)\n",
        "    tab = pd.crosstab(data[predictor], data[target], normalize=\"index\").sort_values(\n",
        "        by=sorter, ascending=False\n",
        "    )\n",
        "    tab.plot(kind=\"bar\", stacked=True, figsize=(count + 5, 6))\n",
        "    plt.legend(\n",
        "        loc=\"lower left\", frameon=False,\n",
        "    )\n",
        "    plt.legend(loc=\"upper left\", bbox_to_anchor=(1, 1))\n",
        "    plt.show()"
      ]
    },
    {
      "cell_type": "markdown",
      "metadata": {
        "id": "7Rwx-1ZuhU3D"
      },
      "source": [
        "### Univariate analysis"
      ]
    },
    {
      "cell_type": "markdown",
      "metadata": {
        "id": "vXoQOPsVhU3h"
      },
      "source": [
        "#### Observations on default"
      ]
    },
    {
      "cell_type": "code",
      "source": [
        "histogram_boxplot(loan2, \"loan_amnt\")"
      ],
      "metadata": {
        "colab": {
          "base_uri": "https://localhost:8080/",
          "height": 606
        },
        "id": "pE61f512PgFL",
        "outputId": "56d8816d-c15a-4d6a-cbcc-72496ff4c169"
      },
      "execution_count": null,
      "outputs": [
        {
          "output_type": "display_data",
          "data": {
            "text/plain": [
              "<Figure size 1080x720 with 2 Axes>"
            ],
            "image/png": "[encoded data removed]"
          },
          "metadata": {
            "needs_background": "light"
          }
        }
      ]
    },
    {
      "cell_type": "code",
      "source": [
        "histogram_boxplot(loan2, \"annual_income\", bins=100)"
      ],
      "metadata": {
        "colab": {
          "base_uri": "https://localhost:8080/",
          "height": 606
        },
        "id": "olkqsYUXQrpl",
        "outputId": "70097dc5-0787-4f6d-f3f5-5635e715f7cf"
      },
      "execution_count": null,
      "outputs": [
        {
          "output_type": "display_data",
          "data": {
            "text/plain": [
              "<Figure size 1080x720 with 2 Axes>"
            ],
            "image/png": "[encoded data removed]"
          },
          "metadata": {
            "needs_background": "light"
          }
        }
      ]
    },
    {
      "cell_type": "code",
      "execution_count": null,
      "metadata": {
        "id": "iUEVb9gNtHO-",
        "outputId": "eb03bf3b-16dc-45bf-df9b-44c7c84d1b2f",
        "colab": {
          "base_uri": "https://localhost:8080/",
          "height": 388
        }
      },
      "outputs": [
        {
          "output_type": "display_data",
          "data": {
            "text/plain": [
              "<Figure size 288x432 with 1 Axes>"
            ],
            "image/png": "[encoded data removed]"
          },
          "metadata": {
            "needs_background": "light"
          }
        }
      ],
      "source": [
        "labeled_barplot(loan2, \"default\", perc=True)"
      ]
    },
    {
      "cell_type": "markdown",
      "metadata": {
        "id": "k3arHJXAtHO_"
      },
      "source": [
        "* 23.7% of the customers default"
      ]
    },
    {
      "cell_type": "markdown",
      "metadata": {
        "id": "wuL-aB65tHO_"
      },
      "source": [
        "#### Observations on term"
      ]
    },
    {
      "cell_type": "code",
      "execution_count": null,
      "metadata": {
        "id": "3TQG2YnatHO_",
        "outputId": "4f24c66a-723c-40cc-cbb1-6b81e75954f4",
        "colab": {
          "base_uri": "https://localhost:8080/",
          "height": 435
        }
      },
      "outputs": [
        {
          "output_type": "display_data",
          "data": {
            "text/plain": [
              "<Figure size 288x432 with 1 Axes>"
            ],
            "image/png": "[encoded data removed]"
          },
          "metadata": {
            "needs_background": "light"
          }
        }
      ],
      "source": [
        "labeled_barplot(loan2, \"loan_term\", perc=True)"
      ]
    },
    {
      "cell_type": "markdown",
      "metadata": {
        "id": "cgaqtBwWtHO_"
      },
      "source": [
        "* 70% of the loans are for a 36-month term."
      ]
    },
    {
      "cell_type": "markdown",
      "metadata": {
        "id": "rsaxyjL7tHO_"
      },
      "source": [
        "#### Observations on grade"
      ]
    },
    {
      "cell_type": "code",
      "execution_count": null,
      "metadata": {
        "id": "8XUq_BXttHPA",
        "outputId": "d478f3c0-b07f-48fb-a705-f7db4714d1a9",
        "colab": {
          "base_uri": "https://localhost:8080/",
          "height": 391
        }
      },
      "outputs": [
        {
          "output_type": "display_data",
          "data": {
            "text/plain": [
              "<Figure size 648x432 with 1 Axes>"
            ],
            "image/png": "[encoded data removed]"
          },
          "metadata": {
            "needs_background": "light"
          }
        }
      ],
      "source": [
        "labeled_barplot(loan2, \"loan_grade\", perc=True)"
      ]
    },
    {
      "cell_type": "markdown",
      "metadata": {
        "id": "4jZY1C4ctHPA"
      },
      "source": [
        "* Loans are graded from A to G.\n",
        "* Most loan applications are graded B (28.8%) followed by A loans (27.6%)\n",
        "* The lowest grade level is G at 0.6%."
      ]
    },
    {
      "cell_type": "markdown",
      "metadata": {
        "id": "QkXGt6lVtHPA"
      },
      "source": [
        "#### Observations on sub-grade"
      ]
    },
    {
      "cell_type": "code",
      "execution_count": null,
      "metadata": {
        "id": "uZTnBQuutHPA",
        "outputId": "b42b8a4a-26bd-44df-c767-820115fe49b0",
        "colab": {
          "base_uri": "https://localhost:8080/",
          "height": 399
        }
      },
      "outputs": [
        {
          "output_type": "display_data",
          "data": {
            "text/plain": [
              "<Figure size 864x432 with 1 Axes>"
            ],
            "image/png": "[encoded data removed]"
          },
          "metadata": {
            "needs_background": "light"
          }
        }
      ],
      "source": [
        "labeled_barplot(loan2, \"loan_subgrade\", perc=True, n=10)"
      ]
    },
    {
      "cell_type": "markdown",
      "metadata": {
        "id": "cBj58r0ZtHPA"
      },
      "source": [
        "* Loans are sub-graded from A1-A5 down to G1-G5.  \n",
        "* Most sub-graded loans are for B1-B5 (28.9%). "
      ]
    },
    {
      "cell_type": "markdown",
      "metadata": {
        "id": "IQ59IaDXtHPB"
      },
      "source": [
        "#### Observations on Job Experience"
      ]
    },
    {
      "cell_type": "code",
      "execution_count": null,
      "metadata": {
        "id": "npY1U3pntHPo",
        "outputId": "c84d6433-a8ff-4bcd-92f3-9883563aa9bb",
        "colab": {
          "base_uri": "https://localhost:8080/",
          "height": 459
        }
      },
      "outputs": [
        {
          "output_type": "display_data",
          "data": {
            "text/plain": [
              "<Figure size 360x432 with 1 Axes>"
            ],
            "image/png": "[encoded data removed]"
          },
          "metadata": {
            "needs_background": "light"
          }
        }
      ],
      "source": [
        "labeled_barplot(loan2, \"job_experience\", perc=True)"
      ]
    },
    {
      "cell_type": "markdown",
      "metadata": {
        "id": "7xVaz0QqtHPq"
      },
      "source": [
        "* Most applicants (48.6%) have less than 5 years of job experience.\n",
        "* Just under one third of applicants have over 10 years of job experience."
      ]
    },
    {
      "cell_type": "markdown",
      "metadata": {
        "id": "UbZDB3TGtHPq"
      },
      "source": [
        "#### Observations on home ownership"
      ]
    },
    {
      "cell_type": "code",
      "execution_count": null,
      "metadata": {
        "id": "2DjqaV2otHPq",
        "outputId": "56c36ce9-bff2-422e-8526-26dd400438d4",
        "colab": {
          "base_uri": "https://localhost:8080/",
          "height": 465
        }
      },
      "outputs": [
        {
          "output_type": "display_data",
          "data": {
            "text/plain": [
              "<Figure size 432x432 with 1 Axes>"
            ],
            "image/png": "[encoded data removed]"
          },
          "metadata": {
            "needs_background": "light"
          }
        }
      ],
      "source": [
        "labeled_barplot(loan2, \"home_ownership\", perc=True)"
      ]
    },
    {
      "cell_type": "markdown",
      "metadata": {
        "id": "z4rfsYOHtHPr"
      },
      "source": [
        "* 50% of applicants have a mortgage.\n",
        "* Less than 10% of applicants own their own house. "
      ]
    },
    {
      "cell_type": "markdown",
      "metadata": {
        "id": "Lw6uFMRutHPr"
      },
      "source": [
        "#### Observations on income verification status"
      ]
    },
    {
      "cell_type": "code",
      "execution_count": null,
      "metadata": {
        "id": "7w0_M8BftHPr",
        "outputId": "7c0063ab-8ed4-49cd-c0f4-ff5d428a2079",
        "colab": {
          "base_uri": "https://localhost:8080/",
          "height": 493
        }
      },
      "outputs": [
        {
          "output_type": "display_data",
          "data": {
            "text/plain": [
              "<Figure size 360x432 with 1 Axes>"
            ],
            "image/png": "[encoded data removed]"
          },
          "metadata": {
            "needs_background": "light"
          }
        }
      ],
      "source": [
        "labeled_barplot(loan2, \"income_verification_status\", perc=True)"
      ]
    },
    {
      "cell_type": "markdown",
      "metadata": {
        "id": "-N7aC7MjtHPr"
      },
      "source": [
        "* Most customers (69.7%) are either source verified or otherwise verified."
      ]
    },
    {
      "cell_type": "markdown",
      "source": [
        "#### Observations on loan purpose"
      ],
      "metadata": {
        "id": "QiNG2JrK--C1"
      }
    },
    {
      "cell_type": "code",
      "source": [
        "labeled_barplot(loan2, \"loan_purpose\", perc=True)"
      ],
      "metadata": {
        "colab": {
          "base_uri": "https://localhost:8080/",
          "height": 530
        },
        "id": "wF6ga--Y-42c",
        "outputId": "dc1835b0-c659-4ff6-a205-ef8e24b91b8a"
      },
      "execution_count": null,
      "outputs": [
        {
          "output_type": "display_data",
          "data": {
            "text/plain": [
              "<Figure size 432x432 with 1 Axes>"
            ],
            "image/png": "[encoded data removed]"
          },
          "metadata": {
            "needs_background": "light"
          }
        }
      ]
    },
    {
      "cell_type": "markdown",
      "source": [
        "* Most loans (59.3%) are taken out as a new loan arrangement under debt consolidation."
      ],
      "metadata": {
        "id": "Pk7FfWX0_pr6"
      }
    },
    {
      "cell_type": "markdown",
      "source": [
        "#### Observations on States issuing loans"
      ],
      "metadata": {
        "id": "-u3lpu0F_4fZ"
      }
    },
    {
      "cell_type": "code",
      "source": [
        "labeled_barplot(loan2, \"state_code\", perc=True, n=10)"
      ],
      "metadata": {
        "colab": {
          "base_uri": "https://localhost:8080/",
          "height": 402
        },
        "id": "ppv-JvIJ_7mT",
        "outputId": "65345803-64ce-4443-f8e8-961b47976e9b"
      },
      "execution_count": null,
      "outputs": [
        {
          "output_type": "display_data",
          "data": {
            "text/plain": [
              "<Figure size 864x432 with 1 Axes>"
            ],
            "image/png": "[encoded data removed]"
          },
          "metadata": {
            "needs_background": "light"
          }
        }
      ]
    },
    {
      "cell_type": "markdown",
      "source": [
        "* The top 5 States for issuing loans are:\n",
        "1. California (14.8%)\n",
        "2. New York (8.4%)\n",
        "3. Texas (8.0%)\n",
        "4. Florida (6.8%)\n",
        "5. Illinois (4.0%)"
      ],
      "metadata": {
        "id": "T17Jxipr_8NB"
      }
    },
    {
      "cell_type": "markdown",
      "source": [
        "#### Observations on Application types"
      ],
      "metadata": {
        "id": "hlwpLm2HBBsg"
      }
    },
    {
      "cell_type": "code",
      "source": [
        "labeled_barplot(loan2, \"application_type\", perc=True)"
      ],
      "metadata": {
        "colab": {
          "base_uri": "https://localhost:8080/",
          "height": 466
        },
        "id": "oHqL-fKABAlP",
        "outputId": "3eb3894b-cd64-46e9-e397-be69c95416e5"
      },
      "execution_count": null,
      "outputs": [
        {
          "output_type": "display_data",
          "data": {
            "text/plain": [
              "<Figure size 288x432 with 1 Axes>"
            ],
            "image/png": "[encoded data removed]"
          },
          "metadata": {
            "needs_background": "light"
          }
        }
      ]
    },
    {
      "cell_type": "markdown",
      "source": [
        "* Almost 100 percent of applications are made by individuals."
      ],
      "metadata": {
        "id": "-iUd9qLsBCYI"
      }
    },
    {
      "cell_type": "markdown",
      "metadata": {
        "id": "ah0R9IkjtHPr"
      },
      "source": [
        "### Data Cleaning"
      ]
    },
    {
      "cell_type": "code",
      "execution_count": null,
      "metadata": {
        "id": "MB5uqPpDtHPr",
        "outputId": "97bf76df-41de-44e0-bb08-201ceb85f9b8",
        "colab": {
          "base_uri": "https://localhost:8080/"
        }
      },
      "outputs": [
        {
          "output_type": "execute_result",
          "data": {
            "text/plain": [
              "array(['OWN', 'MORTGAGE', 'RENT', 'OTHER'], dtype=object)"
            ]
          },
          "metadata": {},
          "execution_count": 159
        }
      ],
      "source": [
        "loan2[\"home_ownership\"].unique()"
      ]
    },
    {
      "cell_type": "markdown",
      "metadata": {
        "id": "ii36hlj9tHPr"
      },
      "source": [
        "#### We can merge the ownership -  'NONE' and 'OTHER' together"
      ]
    },
    {
      "cell_type": "code",
      "execution_count": null,
      "metadata": {
        "id": "bZDtY6-ytHPr"
      },
      "outputs": [],
      "source": [
        "loan2[\"home_ownership\"].replace(\"NONE\", \"OTHER\", inplace=True)"
      ]
    },
    {
      "cell_type": "code",
      "execution_count": null,
      "metadata": {
        "id": "EORQgVsUtHPr",
        "outputId": "6fcc2d1b-7973-4187-c7f1-bc396ca0236a",
        "colab": {
          "base_uri": "https://localhost:8080/"
        }
      },
      "outputs": [
        {
          "output_type": "execute_result",
          "data": {
            "text/plain": [
              "array(['OWN', 'MORTGAGE', 'RENT', 'OTHER'], dtype=object)"
            ]
          },
          "metadata": {},
          "execution_count": 161
        }
      ],
      "source": [
        "loan2[\"home_ownership\"].unique()"
      ]
    },
    {
      "cell_type": "markdown",
      "metadata": {
        "id": "vmbZNXkAtHPs"
      },
      "source": [
        "### Bivariate Analysis"
      ]
    },
    {
      "cell_type": "code",
      "source": [
        "cols_list = loan2.select_dtypes(include=np.number).columns.tolist()\n",
        "\n",
        "plt.figure(figsize=(20, 8))\n",
        "sns.heatmap(\n",
        "    loan[cols_list].corr(), annot=True, vmin=-1, vmax=1, fmt=\".2f\", cmap=\"Spectral\"\n",
        ")\n",
        "plt.show()"
      ],
      "metadata": {
        "colab": {
          "base_uri": "https://localhost:8080/",
          "height": 585
        },
        "id": "mS2tHy5fRTHC",
        "outputId": "f7b57f63-f05e-4636-e907-3f697d417a10"
      },
      "execution_count": null,
      "outputs": [
        {
          "output_type": "display_data",
          "data": {
            "text/plain": [
              "<Figure size 1440x576 with 2 Axes>"
            ],
            "image/png": "[encoded data removed]"
          },
          "metadata": {
            "needs_background": "light"
          }
        }
      ]
    },
    {
      "cell_type": "code",
      "source": [
        "plt.figure(figsize=(15, 5))\n",
        "sns.boxplot(data=loan2, x=\"job_experience\", y=\"annual_income\")\n",
        "plt.show()"
      ],
      "metadata": {
        "colab": {
          "base_uri": "https://localhost:8080/",
          "height": 346
        },
        "id": "64wS3ffRXIt1",
        "outputId": "1c9e517e-1b08-4d6f-c94c-ea50c3e48411"
      },
      "execution_count": null,
      "outputs": [
        {
          "output_type": "display_data",
          "data": {
            "text/plain": [
              "<Figure size 1080x360 with 1 Axes>"
            ],
            "image/png": "[encoded data removed]"
          },
          "metadata": {
            "needs_background": "light"
          }
        }
      ]
    },
    {
      "cell_type": "markdown",
      "metadata": {
        "id": "tDysrZPiPSBS"
      },
      "source": [
        "#### term vs default"
      ]
    },
    {
      "cell_type": "code",
      "execution_count": null,
      "metadata": {
        "id": "Ug59MX2LtHPs",
        "outputId": "e4c037b4-3546-4a9f-d06b-931f3604e88b",
        "colab": {
          "base_uri": "https://localhost:8080/",
          "height": 520
        }
      },
      "outputs": [
        {
          "output_type": "stream",
          "name": "stdout",
          "text": [
            "default        0      1    All\n",
            "loan_term                     \n",
            "All        71045  22128  93173\n",
            "3 years    47345  17865  65210\n",
            "5 years    23700   4263  27963\n",
            "------------------------------------------------------------------------------------------------------------------------\n"
          ]
        },
        {
          "output_type": "display_data",
          "data": {
            "text/plain": [
              "<Figure size 504x432 with 1 Axes>"
            ],
            "image/png": "[encoded data removed]"
          },
          "metadata": {
            "needs_background": "light"
          }
        }
      ],
      "source": [
        "stacked_barplot(loan2, \"loan_term\", \"default\")"
      ]
    },
    {
      "cell_type": "markdown",
      "metadata": {
        "id": "4l3Qyz2AtHPs"
      },
      "source": [
        "* Most loan delinquent customers have taken loan for 36 months."
      ]
    },
    {
      "cell_type": "markdown",
      "metadata": {
        "id": "T5FLmNgIF3JH"
      },
      "source": [
        "#### loangrade vs default"
      ]
    },
    {
      "cell_type": "code",
      "execution_count": null,
      "metadata": {
        "id": "Z4auwn2WtHPs",
        "outputId": "fb1ae91f-a84c-4db5-f90b-13a3155e938f",
        "colab": {
          "base_uri": "https://localhost:8080/",
          "height": 578
        }
      },
      "outputs": [
        {
          "output_type": "stream",
          "name": "stdout",
          "text": [
            "default         0      1    All\n",
            "loan_grade                     \n",
            "All         71045  22128  93173\n",
            "B           19787   7078  26865\n",
            "C           20203   5584  25787\n",
            "A           11281   4252  15533\n",
            "D           11478   3237  14715\n",
            "E            6003   1375   7378\n",
            "F            1862    482   2344\n",
            "G             431    120    551\n",
            "------------------------------------------------------------------------------------------------------------------------\n"
          ]
        },
        {
          "output_type": "display_data",
          "data": {
            "text/plain": [
              "<Figure size 864x432 with 1 Axes>"
            ],
            "image/png": "[encoded data removed]"
          },
          "metadata": {
            "needs_background": "light"
          }
        }
      ],
      "source": [
        "stacked_barplot(loan2, \"loan_grade\", \"default\")"
      ]
    },
    {
      "cell_type": "markdown",
      "metadata": {
        "id": "r7tr1lRatHPs"
      },
      "source": [
        "* Most applicants default on Grade A (25%) and B loans (24%). "
      ]
    },
    {
      "cell_type": "markdown",
      "metadata": {
        "id": "eaerBFkXGA1j"
      },
      "source": [
        "#### Purpose vs default"
      ]
    },
    {
      "cell_type": "code",
      "execution_count": null,
      "metadata": {
        "id": "YtE0kDsytHPs",
        "outputId": "eedd271b-fdda-4abb-b9ab-faba283b4f7a",
        "colab": {
          "base_uri": "https://localhost:8080/",
          "height": 618
        }
      },
      "outputs": [
        {
          "output_type": "stream",
          "name": "stdout",
          "text": [
            "default                 0      1    All\n",
            "loan_purpose                           \n",
            "All                 71045  22128  93173\n",
            "debt_consolidation  42408  12833  55241\n",
            "credit_card         17006   4565  21571\n",
            "other                7563   3407  10970\n",
            "home_improvement     4068   1323   5391\n",
            "------------------------------------------------------------------------------------------------------------------------\n"
          ]
        },
        {
          "output_type": "display_data",
          "data": {
            "text/plain": [
              "<Figure size 648x432 with 1 Axes>"
            ],
            "image/png": "[encoded data removed]"
          },
          "metadata": {
            "needs_background": "light"
          }
        }
      ],
      "source": [
        "stacked_barplot(loan2, \"loan_purpose\", \"default\")"
      ]
    },
    {
      "cell_type": "markdown",
      "metadata": {
        "id": "sf8dUvPEtHPt"
      },
      "source": [
        "* Most loan delinquent customers are those who have applied for other loans, then home improvement loans, followed by debt consolidation, and credit card loans."
      ]
    },
    {
      "cell_type": "markdown",
      "metadata": {
        "id": "mJFTb4EpGHCo"
      },
      "source": [
        "#### home_ownership vs default"
      ]
    },
    {
      "cell_type": "code",
      "execution_count": null,
      "metadata": {
        "id": "LVvce26UtHPt",
        "outputId": "721481fa-712a-488e-cf31-6be532d68778",
        "colab": {
          "base_uri": "https://localhost:8080/",
          "height": 575
        }
      },
      "outputs": [
        {
          "output_type": "stream",
          "name": "stdout",
          "text": [
            "default             0      1    All\n",
            "home_ownership                     \n",
            "All             71045  22128  93173\n",
            "MORTGAGE        35316  11129  46445\n",
            "RENT            28401   9048  37449\n",
            "OWN              7323   1931   9254\n",
            "OTHER               5     20     25\n",
            "------------------------------------------------------------------------------------------------------------------------\n"
          ]
        },
        {
          "output_type": "display_data",
          "data": {
            "text/plain": [
              "<Figure size 648x432 with 1 Axes>"
            ],
            "image/png": "[encoded data removed]"
          },
          "metadata": {
            "needs_background": "light"
          }
        }
      ],
      "source": [
        "stacked_barplot(loan2, \"home_ownership\", \"default\")"
      ]
    },
    {
      "cell_type": "markdown",
      "metadata": {
        "id": "kXmXU3T_tHPt"
      },
      "source": [
        "* Those customers who have their own house are less delinquent than the ones who live in a rented place or have mortgaged their home."
      ]
    },
    {
      "cell_type": "markdown",
      "metadata": {
        "id": "3qkCgN9DGMR_"
      },
      "source": [
        "#### job experience vs default"
      ]
    },
    {
      "cell_type": "code",
      "execution_count": null,
      "metadata": {
        "id": "ZXoFz2r3tHPt",
        "outputId": "a22f57e1-18f3-498f-bc93-c3fe8bb78dee",
        "colab": {
          "base_uri": "https://localhost:8080/",
          "height": 554
        }
      },
      "outputs": [
        {
          "output_type": "stream",
          "name": "stdout",
          "text": [
            "default             0      1    All\n",
            "job_experience                     \n",
            "All             71045  22128  93173\n",
            "<5 Years        34282  11029  45311\n",
            "10+ years       23656   6706  30362\n",
            "6-10 years      13107   4393  17500\n",
            "------------------------------------------------------------------------------------------------------------------------\n"
          ]
        },
        {
          "output_type": "display_data",
          "data": {
            "text/plain": [
              "<Figure size 576x432 with 1 Axes>"
            ],
            "image/png": "[encoded data removed]"
          },
          "metadata": {
            "needs_background": "light"
          }
        }
      ],
      "source": [
        "stacked_barplot(loan2, \"job_experience\", \"default\")"
      ]
    },
    {
      "cell_type": "markdown",
      "metadata": {
        "id": "Yto_FghYtHPt"
      },
      "source": [
        "* Customers with between 6-10 years of job experience are more delinquent."
      ]
    },
    {
      "cell_type": "markdown",
      "metadata": {
        "id": "rvhPlCr1GPm_"
      },
      "source": [
        "#### Income verification status vs Default"
      ]
    },
    {
      "cell_type": "code",
      "execution_count": null,
      "metadata": {
        "id": "DLcDAFUYtHPt",
        "outputId": "a7a5f6ee-b282-48a9-e898-50ec2a6a9a85",
        "scrolled": false,
        "colab": {
          "base_uri": "https://localhost:8080/",
          "height": 576
        }
      },
      "outputs": [
        {
          "output_type": "stream",
          "name": "stdout",
          "text": [
            "default                         0      1    All\n",
            "income_verification_status                     \n",
            "All                         71045  22128  93173\n",
            "Not Verified                20329   7907  28236\n",
            "Verified                    22654   7796  30450\n",
            "Source Verified             28062   6425  34487\n",
            "------------------------------------------------------------------------------------------------------------------------\n"
          ]
        },
        {
          "output_type": "display_data",
          "data": {
            "text/plain": [
              "<Figure size 576x432 with 1 Axes>"
            ],
            "image/png": "[encoded data removed]"
          },
          "metadata": {
            "needs_background": "light"
          }
        }
      ],
      "source": [
        "stacked_barplot(loan2, \"income_verification_status\", \"default\")"
      ]
    },
    {
      "cell_type": "markdown",
      "metadata": {
        "id": "1TDNOwpbtHPt"
      },
      "source": [
        "* If not verified, the chances of delinquency increase a bit compared to when verified."
      ]
    },
    {
      "cell_type": "markdown",
      "metadata": {
        "id": "Y7V4EE9oHfU_"
      },
      "source": [
        "## Data Preprocessing"
      ]
    },
    {
      "cell_type": "markdown",
      "metadata": {
        "id": "vsWZMSgPtHPw"
      },
      "source": [
        "### Data Preparation for Modeling"
      ]
    },
    {
      "cell_type": "code",
      "execution_count": null,
      "metadata": {
        "id": "ZcWhB12vtHPw"
      },
      "outputs": [],
      "source": [
        "X = loan2.drop([\"default\"], axis=1)\n",
        "y = loan2[\"default\"]"
      ]
    },
    {
      "cell_type": "code",
      "source": [
        "import statsmodels.api as sm\n",
        "# Add the intercept to data\n",
        "X = sm.add_constant(X)"
      ],
      "metadata": {
        "id": "i7kwwjXbrQio"
      },
      "execution_count": null,
      "outputs": []
    },
    {
      "cell_type": "code",
      "execution_count": null,
      "metadata": {
        "id": "cRj3dOgItHPx",
        "outputId": "25557a42-fb8a-4100-b06b-6ebc8e3a2c09",
        "colab": {
          "base_uri": "https://localhost:8080/",
          "height": 288
        }
      },
      "outputs": [
        {
          "output_type": "execute_result",
          "data": {
            "text/plain": [
              "   const  loan_amnt  interest_rate  annual_income  debt_to_income  \\\n",
              "0    1.0       9000           9.17        85000.0           26.68   \n",
              "1    1.0      18000          13.65        64000.0           31.67   \n",
              "2    1.0      16000           7.26       150000.0           19.70   \n",
              "3    1.0      25000          13.99        59800.0           37.39   \n",
              "4    1.0      17000           6.39        72000.0            8.92   \n",
              "\n",
              "   delinq_2yrs  public_records  revolving_balance  total_acc  \\\n",
              "0          0.0             0.0              39519       20.0   \n",
              "1          0.0             1.0               9783       24.0   \n",
              "2          2.0             0.0              13641       27.0   \n",
              "3          0.0             0.0              35020       35.0   \n",
              "4          0.0             0.0              23990       26.0   \n",
              "\n",
              "   interest_receive  last_week_pay  total_current_balance  \\\n",
              "0             59.60            4.0                95493.0   \n",
              "1           3348.25           95.0               185433.0   \n",
              "2            276.69           13.0               180519.0   \n",
              "3           1106.72           17.0               183208.0   \n",
              "4            725.29           39.0                23990.0   \n",
              "\n",
              "   total_revolving_limit  loan_term_5 years  loan_grade_B  loan_grade_C  \\\n",
              "0                84100.0                  0             1             0   \n",
              "1                13500.0                  0             0             1   \n",
              "2                19300.0                  0             0             0   \n",
              "3                55400.0                  0             0             1   \n",
              "4                81300.0                  0             0             0   \n",
              "\n",
              "   loan_grade_D  loan_grade_E  loan_grade_F  loan_grade_G  loan_subgrade_A2  \\\n",
              "0             0             0             0             0                 0   \n",
              "1             0             0             0             0                 0   \n",
              "2             0             0             0             0                 0   \n",
              "3             0             0             0             0                 0   \n",
              "4             0             0             0             0                 1   \n",
              "\n",
              "   loan_subgrade_A3  loan_subgrade_A4  loan_subgrade_A5  loan_subgrade_B1  \\\n",
              "0                 0                 0                 0                 0   \n",
              "1                 0                 0                 0                 0   \n",
              "2                 0                 1                 0                 0   \n",
              "3                 0                 0                 0                 0   \n",
              "4                 0                 0                 0                 0   \n",
              "\n",
              "   loan_subgrade_B2  loan_subgrade_B3  loan_subgrade_B4  loan_subgrade_B5  \\\n",
              "0                 1                 0                 0                 0   \n",
              "1                 0                 0                 0                 0   \n",
              "2                 0                 0                 0                 0   \n",
              "3                 0                 0                 0                 0   \n",
              "4                 0                 0                 0                 0   \n",
              "\n",
              "   loan_subgrade_C1  loan_subgrade_C2  loan_subgrade_C3  loan_subgrade_C4  \\\n",
              "0                 0                 0                 0                 0   \n",
              "1                 1                 0                 0                 0   \n",
              "2                 0                 0                 0                 0   \n",
              "3                 0                 0                 0                 1   \n",
              "4                 0                 0                 0                 0   \n",
              "\n",
              "   loan_subgrade_C5  loan_subgrade_D1  loan_subgrade_D2  loan_subgrade_D3  \\\n",
              "0                 0                 0                 0                 0   \n",
              "1                 0                 0                 0                 0   \n",
              "2                 0                 0                 0                 0   \n",
              "3                 0                 0                 0                 0   \n",
              "4                 0                 0                 0                 0   \n",
              "\n",
              "   loan_subgrade_D4  loan_subgrade_D5  loan_subgrade_E1  loan_subgrade_E2  \\\n",
              "0                 0                 0                 0                 0   \n",
              "1                 0                 0                 0                 0   \n",
              "2                 0                 0                 0                 0   \n",
              "3                 0                 0                 0                 0   \n",
              "4                 0                 0                 0                 0   \n",
              "\n",
              "   loan_subgrade_E3  loan_subgrade_E4  loan_subgrade_E5  loan_subgrade_F1  \\\n",
              "0                 0                 0                 0                 0   \n",
              "1                 0                 0                 0                 0   \n",
              "2                 0                 0                 0                 0   \n",
              "3                 0                 0                 0                 0   \n",
              "4                 0                 0                 0                 0   \n",
              "\n",
              "   loan_subgrade_F2  loan_subgrade_F3  loan_subgrade_F4  loan_subgrade_F5  \\\n",
              "0                 0                 0                 0                 0   \n",
              "1                 0                 0                 0                 0   \n",
              "2                 0                 0                 0                 0   \n",
              "3                 0                 0                 0                 0   \n",
              "4                 0                 0                 0                 0   \n",
              "\n",
              "   loan_subgrade_G1  loan_subgrade_G2  loan_subgrade_G3  loan_subgrade_G4  \\\n",
              "0                 0                 0                 0                 0   \n",
              "1                 0                 0                 0                 0   \n",
              "2                 0                 0                 0                 0   \n",
              "3                 0                 0                 0                 0   \n",
              "4                 0                 0                 0                 0   \n",
              "\n",
              "   loan_subgrade_G5  job_experience_6-10 years  job_experience_<5 Years  \\\n",
              "0                 0                          0                        1   \n",
              "1                 0                          0                        1   \n",
              "2                 0                          0                        1   \n",
              "3                 0                          0                        1   \n",
              "4                 0                          0                        0   \n",
              "\n",
              "   home_ownership_OTHER  home_ownership_OWN  home_ownership_RENT  \\\n",
              "0                     0                   1                    0   \n",
              "1                     0                   1                    0   \n",
              "2                     0                   0                    0   \n",
              "3                     0                   0                    0   \n",
              "4                     0                   0                    0   \n",
              "\n",
              "   income_verification_status_Source Verified  \\\n",
              "0                                           0   \n",
              "1                                           0   \n",
              "2                                           1   \n",
              "3                                           0   \n",
              "4                                           1   \n",
              "\n",
              "   income_verification_status_Verified  loan_purpose_debt_consolidation  \\\n",
              "0                                    0                                1   \n",
              "1                                    1                                1   \n",
              "2                                    0                                1   \n",
              "3                                    1                                1   \n",
              "4                                    0                                0   \n",
              "\n",
              "   loan_purpose_home_improvement  loan_purpose_other  state_code_AL  \\\n",
              "0                              0                   0              0   \n",
              "1                              0                   0              0   \n",
              "2                              0                   0              0   \n",
              "3                              0                   0              0   \n",
              "4                              0                   0              0   \n",
              "\n",
              "   state_code_AR  state_code_AZ  state_code_CA  state_code_CO  state_code_CT  \\\n",
              "0              0              0              0              0              0   \n",
              "1              0              0              0              0              0   \n",
              "2              0              0              0              0              0   \n",
              "3              0              0              0              0              0   \n",
              "4              0              0              0              0              0   \n",
              "\n",
              "   state_code_DC  state_code_DE  state_code_FL  state_code_GA  state_code_HI  \\\n",
              "0              0              0              0              0              0   \n",
              "1              0              0              0              0              0   \n",
              "2              0              0              0              0              0   \n",
              "3              0              0              0              0              0   \n",
              "4              0              0              0              0              0   \n",
              "\n",
              "   state_code_ID  state_code_IL  state_code_IN  state_code_KS  state_code_KY  \\\n",
              "0              0              0              0              0              0   \n",
              "1              0              0              0              0              0   \n",
              "2              0              0              0              0              0   \n",
              "3              0              0              0              0              0   \n",
              "4              0              0              0              0              0   \n",
              "\n",
              "   state_code_LA  state_code_MA  state_code_MD  state_code_ME  state_code_MI  \\\n",
              "0              0              0              0              0              0   \n",
              "1              0              0              0              0              0   \n",
              "2              0              0              0              0              0   \n",
              "3              0              0              0              0              0   \n",
              "4              0              0              0              0              0   \n",
              "\n",
              "   state_code_MN  state_code_MO  state_code_MS  state_code_MT  state_code_NC  \\\n",
              "0              0              0              0              0              1   \n",
              "1              0              0              0              0              0   \n",
              "2              0              0              0              0              0   \n",
              "3              0              1              0              0              0   \n",
              "4              0              0              0              0              0   \n",
              "\n",
              "   state_code_ND  state_code_NE  state_code_NH  state_code_NJ  state_code_NM  \\\n",
              "0              0              0              0              0              0   \n",
              "1              0              0              0              0              0   \n",
              "2              0              0              0              0              0   \n",
              "3              0              0              0              0              0   \n",
              "4              0              0              0              0              0   \n",
              "\n",
              "   state_code_NV  state_code_NY  state_code_OH  state_code_OK  state_code_OR  \\\n",
              "0              0              0              0              0              0   \n",
              "1              0              0              0              0              0   \n",
              "2              0              0              0              0              0   \n",
              "3              0              0              0              0              0   \n",
              "4              0              0              0              0              0   \n",
              "\n",
              "   state_code_PA  state_code_RI  state_code_SC  state_code_SD  state_code_TN  \\\n",
              "0              0              0              0              0              0   \n",
              "1              0              0              1              0              0   \n",
              "2              0              0              0              0              0   \n",
              "3              0              0              0              0              0   \n",
              "4              0              0              0              0              0   \n",
              "\n",
              "   state_code_TX  state_code_UT  state_code_VA  state_code_VT  state_code_WA  \\\n",
              "0              0              0              0              0              0   \n",
              "1              0              0              0              0              0   \n",
              "2              1              0              0              0              0   \n",
              "3              0              0              0              0              0   \n",
              "4              1              0              0              0              0   \n",
              "\n",
              "   state_code_WI  state_code_WV  state_code_WY  application_type_JOINT  \n",
              "0              0              0              0                       0  \n",
              "1              0              0              0                       0  \n",
              "2              0              0              0                       0  \n",
              "3              0              0              0                       0  \n",
              "4              0              0              0                       0  "
            ],
            "text/html": [
              "\n",
              "  <div id=\"df-e118ac65-bb2d-4d42-8014-eb9d4a8163ed\">\n",
              "    <div class=\"colab-df-container\">\n",
              "      <div>\n",
              "<style scoped>\n",
              "    .dataframe tbody tr th:only-of-type {\n",
              "        vertical-align: middle;\n",
              "    }\n",
              "\n",
              "    .dataframe tbody tr th {\n",
              "        vertical-align: top;\n",
              "    }\n",
              "\n",
              "    .dataframe thead th {\n",
              "        text-align: right;\n",
              "    }\n",
              "</style>\n",
              "<table border=\"1\" class=\"dataframe\">\n",
              "  <thead>\n",
              "    <tr style=\"text-align: right;\">\n",
              "      <th></th>\n",
              "      <th>const</th>\n",
              "      <th>loan_amnt</th>\n",
              "      <th>interest_rate</th>\n",
              "      <th>annual_income</th>\n",
              "      <th>debt_to_income</th>\n",
              "      <th>delinq_2yrs</th>\n",
              "      <th>public_records</th>\n",
              "      <th>revolving_balance</th>\n",
              "      <th>total_acc</th>\n",
              "      <th>interest_receive</th>\n",
              "      <th>last_week_pay</th>\n",
              "      <th>total_current_balance</th>\n",
              "      <th>total_revolving_limit</th>\n",
              "      <th>loan_term_5 years</th>\n",
              "      <th>loan_grade_B</th>\n",
              "      <th>loan_grade_C</th>\n",
              "      <th>loan_grade_D</th>\n",
              "      <th>loan_grade_E</th>\n",
              "      <th>loan_grade_F</th>\n",
              "      <th>loan_grade_G</th>\n",
              "      <th>loan_subgrade_A2</th>\n",
              "      <th>loan_subgrade_A3</th>\n",
              "      <th>loan_subgrade_A4</th>\n",
              "      <th>loan_subgrade_A5</th>\n",
              "      <th>loan_subgrade_B1</th>\n",
              "      <th>loan_subgrade_B2</th>\n",
              "      <th>loan_subgrade_B3</th>\n",
              "      <th>loan_subgrade_B4</th>\n",
              "      <th>loan_subgrade_B5</th>\n",
              "      <th>loan_subgrade_C1</th>\n",
              "      <th>loan_subgrade_C2</th>\n",
              "      <th>loan_subgrade_C3</th>\n",
              "      <th>loan_subgrade_C4</th>\n",
              "      <th>loan_subgrade_C5</th>\n",
              "      <th>loan_subgrade_D1</th>\n",
              "      <th>loan_subgrade_D2</th>\n",
              "      <th>loan_subgrade_D3</th>\n",
              "      <th>loan_subgrade_D4</th>\n",
              "      <th>loan_subgrade_D5</th>\n",
              "      <th>loan_subgrade_E1</th>\n",
              "      <th>loan_subgrade_E2</th>\n",
              "      <th>loan_subgrade_E3</th>\n",
              "      <th>loan_subgrade_E4</th>\n",
              "      <th>loan_subgrade_E5</th>\n",
              "      <th>loan_subgrade_F1</th>\n",
              "      <th>loan_subgrade_F2</th>\n",
              "      <th>loan_subgrade_F3</th>\n",
              "      <th>loan_subgrade_F4</th>\n",
              "      <th>loan_subgrade_F5</th>\n",
              "      <th>loan_subgrade_G1</th>\n",
              "      <th>loan_subgrade_G2</th>\n",
              "      <th>loan_subgrade_G3</th>\n",
              "      <th>loan_subgrade_G4</th>\n",
              "      <th>loan_subgrade_G5</th>\n",
              "      <th>job_experience_6-10 years</th>\n",
              "      <th>job_experience_&lt;5 Years</th>\n",
              "      <th>home_ownership_OTHER</th>\n",
              "      <th>home_ownership_OWN</th>\n",
              "      <th>home_ownership_RENT</th>\n",
              "      <th>income_verification_status_Source Verified</th>\n",
              "      <th>income_verification_status_Verified</th>\n",
              "      <th>loan_purpose_debt_consolidation</th>\n",
              "      <th>loan_purpose_home_improvement</th>\n",
              "      <th>loan_purpose_other</th>\n",
              "      <th>state_code_AL</th>\n",
              "      <th>state_code_AR</th>\n",
              "      <th>state_code_AZ</th>\n",
              "      <th>state_code_CA</th>\n",
              "      <th>state_code_CO</th>\n",
              "      <th>state_code_CT</th>\n",
              "      <th>state_code_DC</th>\n",
              "      <th>state_code_DE</th>\n",
              "      <th>state_code_FL</th>\n",
              "      <th>state_code_GA</th>\n",
              "      <th>state_code_HI</th>\n",
              "      <th>state_code_ID</th>\n",
              "      <th>state_code_IL</th>\n",
              "      <th>state_code_IN</th>\n",
              "      <th>state_code_KS</th>\n",
              "      <th>state_code_KY</th>\n",
              "      <th>state_code_LA</th>\n",
              "      <th>state_code_MA</th>\n",
              "      <th>state_code_MD</th>\n",
              "      <th>state_code_ME</th>\n",
              "      <th>state_code_MI</th>\n",
              "      <th>state_code_MN</th>\n",
              "      <th>state_code_MO</th>\n",
              "      <th>state_code_MS</th>\n",
              "      <th>state_code_MT</th>\n",
              "      <th>state_code_NC</th>\n",
              "      <th>state_code_ND</th>\n",
              "      <th>state_code_NE</th>\n",
              "      <th>state_code_NH</th>\n",
              "      <th>state_code_NJ</th>\n",
              "      <th>state_code_NM</th>\n",
              "      <th>state_code_NV</th>\n",
              "      <th>state_code_NY</th>\n",
              "      <th>state_code_OH</th>\n",
              "      <th>state_code_OK</th>\n",
              "      <th>state_code_OR</th>\n",
              "      <th>state_code_PA</th>\n",
              "      <th>state_code_RI</th>\n",
              "      <th>state_code_SC</th>\n",
              "      <th>state_code_SD</th>\n",
              "      <th>state_code_TN</th>\n",
              "      <th>state_code_TX</th>\n",
              "      <th>state_code_UT</th>\n",
              "      <th>state_code_VA</th>\n",
              "      <th>state_code_VT</th>\n",
              "      <th>state_code_WA</th>\n",
              "      <th>state_code_WI</th>\n",
              "      <th>state_code_WV</th>\n",
              "      <th>state_code_WY</th>\n",
              "      <th>application_type_JOINT</th>\n",
              "    </tr>\n",
              "  </thead>\n",
              "  <tbody>\n",
              "    <tr>\n",
              "      <th>0</th>\n",
              "      <td>1.0</td>\n",
              "      <td>9000</td>\n",
              "      <td>9.17</td>\n",
              "      <td>85000.0</td>\n",
              "      <td>26.68</td>\n",
              "      <td>0.0</td>\n",
              "      <td>0.0</td>\n",
              "      <td>39519</td>\n",
              "      <td>20.0</td>\n",
              "      <td>59.60</td>\n",
              "      <td>4.0</td>\n",
              "      <td>95493.0</td>\n",
              "      <td>84100.0</td>\n",
              "      <td>0</td>\n",
              "      <td>1</td>\n",
              "      <td>0</td>\n",
              "      <td>0</td>\n",
              "      <td>0</td>\n",
              "      <td>0</td>\n",
              "      <td>0</td>\n",
              "      <td>0</td>\n",
              "      <td>0</td>\n",
              "      <td>0</td>\n",
              "      <td>0</td>\n",
              "      <td>0</td>\n",
              "      <td>1</td>\n",
              "      <td>0</td>\n",
              "      <td>0</td>\n",
              "      <td>0</td>\n",
              "      <td>0</td>\n",
              "      <td>0</td>\n",
              "      <td>0</td>\n",
              "      <td>0</td>\n",
              "      <td>0</td>\n",
              "      <td>0</td>\n",
              "      <td>0</td>\n",
              "      <td>0</td>\n",
              "      <td>0</td>\n",
              "      <td>0</td>\n",
              "      <td>0</td>\n",
              "      <td>0</td>\n",
              "      <td>0</td>\n",
              "      <td>0</td>\n",
              "      <td>0</td>\n",
              "      <td>0</td>\n",
              "      <td>0</td>\n",
              "      <td>0</td>\n",
              "      <td>0</td>\n",
              "      <td>0</td>\n",
              "      <td>0</td>\n",
              "      <td>0</td>\n",
              "      <td>0</td>\n",
              "      <td>0</td>\n",
              "      <td>0</td>\n",
              "      <td>0</td>\n",
              "      <td>1</td>\n",
              "      <td>0</td>\n",
              "      <td>1</td>\n",
              "      <td>0</td>\n",
              "      <td>0</td>\n",
              "      <td>0</td>\n",
              "      <td>1</td>\n",
              "      <td>0</td>\n",
              "      <td>0</td>\n",
              "      <td>0</td>\n",
              "      <td>0</td>\n",
              "      <td>0</td>\n",
              "      <td>0</td>\n",
              "      <td>0</td>\n",
              "      <td>0</td>\n",
              "      <td>0</td>\n",
              "      <td>0</td>\n",
              "      <td>0</td>\n",
              "      <td>0</td>\n",
              "      <td>0</td>\n",
              "      <td>0</td>\n",
              "      <td>0</td>\n",
              "      <td>0</td>\n",
              "      <td>0</td>\n",
              "      <td>0</td>\n",
              "      <td>0</td>\n",
              "      <td>0</td>\n",
              "      <td>0</td>\n",
              "      <td>0</td>\n",
              "      <td>0</td>\n",
              "      <td>0</td>\n",
              "      <td>0</td>\n",
              "      <td>0</td>\n",
              "      <td>0</td>\n",
              "      <td>1</td>\n",
              "      <td>0</td>\n",
              "      <td>0</td>\n",
              "      <td>0</td>\n",
              "      <td>0</td>\n",
              "      <td>0</td>\n",
              "      <td>0</td>\n",
              "      <td>0</td>\n",
              "      <td>0</td>\n",
              "      <td>0</td>\n",
              "      <td>0</td>\n",
              "      <td>0</td>\n",
              "      <td>0</td>\n",
              "      <td>0</td>\n",
              "      <td>0</td>\n",
              "      <td>0</td>\n",
              "      <td>0</td>\n",
              "      <td>0</td>\n",
              "      <td>0</td>\n",
              "      <td>0</td>\n",
              "      <td>0</td>\n",
              "      <td>0</td>\n",
              "      <td>0</td>\n",
              "      <td>0</td>\n",
              "      <td>0</td>\n",
              "    </tr>\n",
              "    <tr>\n",
              "      <th>1</th>\n",
              "      <td>1.0</td>\n",
              "      <td>18000</td>\n",
              "      <td>13.65</td>\n",
              "      <td>64000.0</td>\n",
              "      <td>31.67</td>\n",
              "      <td>0.0</td>\n",
              "      <td>1.0</td>\n",
              "      <td>9783</td>\n",
              "      <td>24.0</td>\n",
              "      <td>3348.25</td>\n",
              "      <td>95.0</td>\n",
              "      <td>185433.0</td>\n",
              "      <td>13500.0</td>\n",
              "      <td>0</td>\n",
              "      <td>0</td>\n",
              "      <td>1</td>\n",
              "      <td>0</td>\n",
              "      <td>0</td>\n",
              "      <td>0</td>\n",
              "      <td>0</td>\n",
              "      <td>0</td>\n",
              "      <td>0</td>\n",
              "      <td>0</td>\n",
              "      <td>0</td>\n",
              "      <td>0</td>\n",
              "      <td>0</td>\n",
              "      <td>0</td>\n",
              "      <td>0</td>\n",
              "      <td>0</td>\n",
              "      <td>1</td>\n",
              "      <td>0</td>\n",
              "      <td>0</td>\n",
              "      <td>0</td>\n",
              "      <td>0</td>\n",
              "      <td>0</td>\n",
              "      <td>0</td>\n",
              "      <td>0</td>\n",
              "      <td>0</td>\n",
              "      <td>0</td>\n",
              "      <td>0</td>\n",
              "      <td>0</td>\n",
              "      <td>0</td>\n",
              "      <td>0</td>\n",
              "      <td>0</td>\n",
              "      <td>0</td>\n",
              "      <td>0</td>\n",
              "      <td>0</td>\n",
              "      <td>0</td>\n",
              "      <td>0</td>\n",
              "      <td>0</td>\n",
              "      <td>0</td>\n",
              "      <td>0</td>\n",
              "      <td>0</td>\n",
              "      <td>0</td>\n",
              "      <td>0</td>\n",
              "      <td>1</td>\n",
              "      <td>0</td>\n",
              "      <td>1</td>\n",
              "      <td>0</td>\n",
              "      <td>0</td>\n",
              "      <td>1</td>\n",
              "      <td>1</td>\n",
              "      <td>0</td>\n",
              "      <td>0</td>\n",
              "      <td>0</td>\n",
              "      <td>0</td>\n",
              "      <td>0</td>\n",
              "      <td>0</td>\n",
              "      <td>0</td>\n",
              "      <td>0</td>\n",
              "      <td>0</td>\n",
              "      <td>0</td>\n",
              "      <td>0</td>\n",
              "      <td>0</td>\n",
              "      <td>0</td>\n",
              "      <td>0</td>\n",
              "      <td>0</td>\n",
              "      <td>0</td>\n",
              "      <td>0</td>\n",
              "      <td>0</td>\n",
              "      <td>0</td>\n",
              "      <td>0</td>\n",
              "      <td>0</td>\n",
              "      <td>0</td>\n",
              "      <td>0</td>\n",
              "      <td>0</td>\n",
              "      <td>0</td>\n",
              "      <td>0</td>\n",
              "      <td>0</td>\n",
              "      <td>0</td>\n",
              "      <td>0</td>\n",
              "      <td>0</td>\n",
              "      <td>0</td>\n",
              "      <td>0</td>\n",
              "      <td>0</td>\n",
              "      <td>0</td>\n",
              "      <td>0</td>\n",
              "      <td>0</td>\n",
              "      <td>0</td>\n",
              "      <td>0</td>\n",
              "      <td>0</td>\n",
              "      <td>0</td>\n",
              "      <td>1</td>\n",
              "      <td>0</td>\n",
              "      <td>0</td>\n",
              "      <td>0</td>\n",
              "      <td>0</td>\n",
              "      <td>0</td>\n",
              "      <td>0</td>\n",
              "      <td>0</td>\n",
              "      <td>0</td>\n",
              "      <td>0</td>\n",
              "      <td>0</td>\n",
              "      <td>0</td>\n",
              "    </tr>\n",
              "    <tr>\n",
              "      <th>2</th>\n",
              "      <td>1.0</td>\n",
              "      <td>16000</td>\n",
              "      <td>7.26</td>\n",
              "      <td>150000.0</td>\n",
              "      <td>19.70</td>\n",
              "      <td>2.0</td>\n",
              "      <td>0.0</td>\n",
              "      <td>13641</td>\n",
              "      <td>27.0</td>\n",
              "      <td>276.69</td>\n",
              "      <td>13.0</td>\n",
              "      <td>180519.0</td>\n",
              "      <td>19300.0</td>\n",
              "      <td>0</td>\n",
              "      <td>0</td>\n",
              "      <td>0</td>\n",
              "      <td>0</td>\n",
              "      <td>0</td>\n",
              "      <td>0</td>\n",
              "      <td>0</td>\n",
              "      <td>0</td>\n",
              "      <td>0</td>\n",
              "      <td>1</td>\n",
              "      <td>0</td>\n",
              "      <td>0</td>\n",
              "      <td>0</td>\n",
              "      <td>0</td>\n",
              "      <td>0</td>\n",
              "      <td>0</td>\n",
              "      <td>0</td>\n",
              "      <td>0</td>\n",
              "      <td>0</td>\n",
              "      <td>0</td>\n",
              "      <td>0</td>\n",
              "      <td>0</td>\n",
              "      <td>0</td>\n",
              "      <td>0</td>\n",
              "      <td>0</td>\n",
              "      <td>0</td>\n",
              "      <td>0</td>\n",
              "      <td>0</td>\n",
              "      <td>0</td>\n",
              "      <td>0</td>\n",
              "      <td>0</td>\n",
              "      <td>0</td>\n",
              "      <td>0</td>\n",
              "      <td>0</td>\n",
              "      <td>0</td>\n",
              "      <td>0</td>\n",
              "      <td>0</td>\n",
              "      <td>0</td>\n",
              "      <td>0</td>\n",
              "      <td>0</td>\n",
              "      <td>0</td>\n",
              "      <td>0</td>\n",
              "      <td>1</td>\n",
              "      <td>0</td>\n",
              "      <td>0</td>\n",
              "      <td>0</td>\n",
              "      <td>1</td>\n",
              "      <td>0</td>\n",
              "      <td>1</td>\n",
              "      <td>0</td>\n",
              "      <td>0</td>\n",
              "      <td>0</td>\n",
              "      <td>0</td>\n",
              "      <td>0</td>\n",
              "      <td>0</td>\n",
              "      <td>0</td>\n",
              "      <td>0</td>\n",
              "      <td>0</td>\n",
              "      <td>0</td>\n",
              "      <td>0</td>\n",
              "      <td>0</td>\n",
              "      <td>0</td>\n",
              "      <td>0</td>\n",
              "      <td>0</td>\n",
              "      <td>0</td>\n",
              "      <td>0</td>\n",
              "      <td>0</td>\n",
              "      <td>0</td>\n",
              "      <td>0</td>\n",
              "      <td>0</td>\n",
              "      <td>0</td>\n",
              "      <td>0</td>\n",
              "      <td>0</td>\n",
              "      <td>0</td>\n",
              "      <td>0</td>\n",
              "      <td>0</td>\n",
              "      <td>0</td>\n",
              "      <td>0</td>\n",
              "      <td>0</td>\n",
              "      <td>0</td>\n",
              "      <td>0</td>\n",
              "      <td>0</td>\n",
              "      <td>0</td>\n",
              "      <td>0</td>\n",
              "      <td>0</td>\n",
              "      <td>0</td>\n",
              "      <td>0</td>\n",
              "      <td>0</td>\n",
              "      <td>0</td>\n",
              "      <td>0</td>\n",
              "      <td>0</td>\n",
              "      <td>0</td>\n",
              "      <td>1</td>\n",
              "      <td>0</td>\n",
              "      <td>0</td>\n",
              "      <td>0</td>\n",
              "      <td>0</td>\n",
              "      <td>0</td>\n",
              "      <td>0</td>\n",
              "      <td>0</td>\n",
              "      <td>0</td>\n",
              "    </tr>\n",
              "    <tr>\n",
              "      <th>3</th>\n",
              "      <td>1.0</td>\n",
              "      <td>25000</td>\n",
              "      <td>13.99</td>\n",
              "      <td>59800.0</td>\n",
              "      <td>37.39</td>\n",
              "      <td>0.0</td>\n",
              "      <td>0.0</td>\n",
              "      <td>35020</td>\n",
              "      <td>35.0</td>\n",
              "      <td>1106.72</td>\n",
              "      <td>17.0</td>\n",
              "      <td>183208.0</td>\n",
              "      <td>55400.0</td>\n",
              "      <td>0</td>\n",
              "      <td>0</td>\n",
              "      <td>1</td>\n",
              "      <td>0</td>\n",
              "      <td>0</td>\n",
              "      <td>0</td>\n",
              "      <td>0</td>\n",
              "      <td>0</td>\n",
              "      <td>0</td>\n",
              "      <td>0</td>\n",
              "      <td>0</td>\n",
              "      <td>0</td>\n",
              "      <td>0</td>\n",
              "      <td>0</td>\n",
              "      <td>0</td>\n",
              "      <td>0</td>\n",
              "      <td>0</td>\n",
              "      <td>0</td>\n",
              "      <td>0</td>\n",
              "      <td>1</td>\n",
              "      <td>0</td>\n",
              "      <td>0</td>\n",
              "      <td>0</td>\n",
              "      <td>0</td>\n",
              "      <td>0</td>\n",
              "      <td>0</td>\n",
              "      <td>0</td>\n",
              "      <td>0</td>\n",
              "      <td>0</td>\n",
              "      <td>0</td>\n",
              "      <td>0</td>\n",
              "      <td>0</td>\n",
              "      <td>0</td>\n",
              "      <td>0</td>\n",
              "      <td>0</td>\n",
              "      <td>0</td>\n",
              "      <td>0</td>\n",
              "      <td>0</td>\n",
              "      <td>0</td>\n",
              "      <td>0</td>\n",
              "      <td>0</td>\n",
              "      <td>0</td>\n",
              "      <td>1</td>\n",
              "      <td>0</td>\n",
              "      <td>0</td>\n",
              "      <td>0</td>\n",
              "      <td>0</td>\n",
              "      <td>1</td>\n",
              "      <td>1</td>\n",
              "      <td>0</td>\n",
              "      <td>0</td>\n",
              "      <td>0</td>\n",
              "      <td>0</td>\n",
              "      <td>0</td>\n",
              "      <td>0</td>\n",
              "      <td>0</td>\n",
              "      <td>0</td>\n",
              "      <td>0</td>\n",
              "      <td>0</td>\n",
              "      <td>0</td>\n",
              "      <td>0</td>\n",
              "      <td>0</td>\n",
              "      <td>0</td>\n",
              "      <td>0</td>\n",
              "      <td>0</td>\n",
              "      <td>0</td>\n",
              "      <td>0</td>\n",
              "      <td>0</td>\n",
              "      <td>0</td>\n",
              "      <td>0</td>\n",
              "      <td>0</td>\n",
              "      <td>0</td>\n",
              "      <td>0</td>\n",
              "      <td>1</td>\n",
              "      <td>0</td>\n",
              "      <td>0</td>\n",
              "      <td>0</td>\n",
              "      <td>0</td>\n",
              "      <td>0</td>\n",
              "      <td>0</td>\n",
              "      <td>0</td>\n",
              "      <td>0</td>\n",
              "      <td>0</td>\n",
              "      <td>0</td>\n",
              "      <td>0</td>\n",
              "      <td>0</td>\n",
              "      <td>0</td>\n",
              "      <td>0</td>\n",
              "      <td>0</td>\n",
              "      <td>0</td>\n",
              "      <td>0</td>\n",
              "      <td>0</td>\n",
              "      <td>0</td>\n",
              "      <td>0</td>\n",
              "      <td>0</td>\n",
              "      <td>0</td>\n",
              "      <td>0</td>\n",
              "      <td>0</td>\n",
              "      <td>0</td>\n",
              "      <td>0</td>\n",
              "      <td>0</td>\n",
              "    </tr>\n",
              "    <tr>\n",
              "      <th>4</th>\n",
              "      <td>1.0</td>\n",
              "      <td>17000</td>\n",
              "      <td>6.39</td>\n",
              "      <td>72000.0</td>\n",
              "      <td>8.92</td>\n",
              "      <td>0.0</td>\n",
              "      <td>0.0</td>\n",
              "      <td>23990</td>\n",
              "      <td>26.0</td>\n",
              "      <td>725.29</td>\n",
              "      <td>39.0</td>\n",
              "      <td>23990.0</td>\n",
              "      <td>81300.0</td>\n",
              "      <td>0</td>\n",
              "      <td>0</td>\n",
              "      <td>0</td>\n",
              "      <td>0</td>\n",
              "      <td>0</td>\n",
              "      <td>0</td>\n",
              "      <td>0</td>\n",
              "      <td>1</td>\n",
              "      <td>0</td>\n",
              "      <td>0</td>\n",
              "      <td>0</td>\n",
              "      <td>0</td>\n",
              "      <td>0</td>\n",
              "      <td>0</td>\n",
              "      <td>0</td>\n",
              "      <td>0</td>\n",
              "      <td>0</td>\n",
              "      <td>0</td>\n",
              "      <td>0</td>\n",
              "      <td>0</td>\n",
              "      <td>0</td>\n",
              "      <td>0</td>\n",
              "      <td>0</td>\n",
              "      <td>0</td>\n",
              "      <td>0</td>\n",
              "      <td>0</td>\n",
              "      <td>0</td>\n",
              "      <td>0</td>\n",
              "      <td>0</td>\n",
              "      <td>0</td>\n",
              "      <td>0</td>\n",
              "      <td>0</td>\n",
              "      <td>0</td>\n",
              "      <td>0</td>\n",
              "      <td>0</td>\n",
              "      <td>0</td>\n",
              "      <td>0</td>\n",
              "      <td>0</td>\n",
              "      <td>0</td>\n",
              "      <td>0</td>\n",
              "      <td>0</td>\n",
              "      <td>0</td>\n",
              "      <td>0</td>\n",
              "      <td>0</td>\n",
              "      <td>0</td>\n",
              "      <td>0</td>\n",
              "      <td>1</td>\n",
              "      <td>0</td>\n",
              "      <td>0</td>\n",
              "      <td>0</td>\n",
              "      <td>0</td>\n",
              "      <td>0</td>\n",
              "      <td>0</td>\n",
              "      <td>0</td>\n",
              "      <td>0</td>\n",
              "      <td>0</td>\n",
              "      <td>0</td>\n",
              "      <td>0</td>\n",
              "      <td>0</td>\n",
              "      <td>0</td>\n",
              "      <td>0</td>\n",
              "      <td>0</td>\n",
              "      <td>0</td>\n",
              "      <td>0</td>\n",
              "      <td>0</td>\n",
              "      <td>0</td>\n",
              "      <td>0</td>\n",
              "      <td>0</td>\n",
              "      <td>0</td>\n",
              "      <td>0</td>\n",
              "      <td>0</td>\n",
              "      <td>0</td>\n",
              "      <td>0</td>\n",
              "      <td>0</td>\n",
              "      <td>0</td>\n",
              "      <td>0</td>\n",
              "      <td>0</td>\n",
              "      <td>0</td>\n",
              "      <td>0</td>\n",
              "      <td>0</td>\n",
              "      <td>0</td>\n",
              "      <td>0</td>\n",
              "      <td>0</td>\n",
              "      <td>0</td>\n",
              "      <td>0</td>\n",
              "      <td>0</td>\n",
              "      <td>0</td>\n",
              "      <td>0</td>\n",
              "      <td>0</td>\n",
              "      <td>0</td>\n",
              "      <td>0</td>\n",
              "      <td>0</td>\n",
              "      <td>1</td>\n",
              "      <td>0</td>\n",
              "      <td>0</td>\n",
              "      <td>0</td>\n",
              "      <td>0</td>\n",
              "      <td>0</td>\n",
              "      <td>0</td>\n",
              "      <td>0</td>\n",
              "      <td>0</td>\n",
              "    </tr>\n",
              "  </tbody>\n",
              "</table>\n",
              "</div>\n",
              "      <button class=\"colab-df-convert\" onclick=\"convertToInteractive('df-e118ac65-bb2d-4d42-8014-eb9d4a8163ed')\"\n",
              "              title=\"Convert this dataframe to an interactive table.\"\n",
              "              style=\"display:none;\">\n",
              "        \n",
              "  <svg xmlns=\"http://www.w3.org/2000/svg\" height=\"24px\"viewBox=\"0 0 24 24\"\n",
              "       width=\"24px\">\n",
              "    <path d=\"M0 0h24v24H0V0z\" fill=\"none\"/>\n",
              "    <path d=\"M18.56 5.44l.94 2.06.94-2.06 2.06-.94-2.06-.94-.94-2.06-.94 2.06-2.06.94zm-11 1L8.5 8.5l.94-2.06 2.06-.94-2.06-.94L8.5 2.5l-.94 2.06-2.06.94zm10 10l.94 2.06.94-2.06 2.06-.94-2.06-.94-.94-2.06-.94 2.06-2.06.94z\"/><path d=\"M17.41 7.96l-1.37-1.37c-.4-.4-.92-.59-1.43-.59-.52 0-1.04.2-1.43.59L10.3 9.45l-7.72 7.72c-.78.78-.78 2.05 0 2.83L4 21.41c.39.39.9.59 1.41.59.51 0 1.02-.2 1.41-.59l7.78-7.78 2.81-2.81c.8-.78.8-2.07 0-2.86zM5.41 20L4 18.59l7.72-7.72 1.47 1.35L5.41 20z\"/>\n",
              "  </svg>\n",
              "      </button>\n",
              "      \n",
              "  <style>\n",
              "    .colab-df-container {\n",
              "      display:flex;\n",
              "      flex-wrap:wrap;\n",
              "      gap: 12px;\n",
              "    }\n",
              "\n",
              "    .colab-df-convert {\n",
              "      background-color: #E8F0FE;\n",
              "      border: none;\n",
              "      border-radius: 50%;\n",
              "      cursor: pointer;\n",
              "      display: none;\n",
              "      fill: #1967D2;\n",
              "      height: 32px;\n",
              "      padding: 0 0 0 0;\n",
              "      width: 32px;\n",
              "    }\n",
              "\n",
              "    .colab-df-convert:hover {\n",
              "      background-color: #E2EBFA;\n",
              "      box-shadow: 0px 1px 2px rgba(60, 64, 67, 0.3), 0px 1px 3px 1px rgba(60, 64, 67, 0.15);\n",
              "      fill: #174EA6;\n",
              "    }\n",
              "\n",
              "    [theme=dark] .colab-df-convert {\n",
              "      background-color: #3B4455;\n",
              "      fill: #D2E3FC;\n",
              "    }\n",
              "\n",
              "    [theme=dark] .colab-df-convert:hover {\n",
              "      background-color: #434B5C;\n",
              "      box-shadow: 0px 1px 3px 1px rgba(0, 0, 0, 0.15);\n",
              "      filter: drop-shadow(0px 1px 2px rgba(0, 0, 0, 0.3));\n",
              "      fill: #FFFFFF;\n",
              "    }\n",
              "  </style>\n",
              "\n",
              "      <script>\n",
              "        const buttonEl =\n",
              "          document.querySelector('#df-e118ac65-bb2d-4d42-8014-eb9d4a8163ed button.colab-df-convert');\n",
              "        buttonEl.style.display =\n",
              "          google.colab.kernel.accessAllowed ? 'block' : 'none';\n",
              "\n",
              "        async function convertToInteractive(key) {\n",
              "          const element = document.querySelector('#df-e118ac65-bb2d-4d42-8014-eb9d4a8163ed');\n",
              "          const dataTable =\n",
              "            await google.colab.kernel.invokeFunction('convertToInteractive',\n",
              "                                                     [key], {});\n",
              "          if (!dataTable) return;\n",
              "\n",
              "          const docLinkHtml = 'Like what you see? Visit the ' +\n",
              "            '<a target=\"_blank\" href=https://colab.research.google.com/notebooks/data_table.ipynb>data table notebook</a>'\n",
              "            + ' to learn more about interactive tables.';\n",
              "          element.innerHTML = '';\n",
              "          dataTable['output_type'] = 'display_data';\n",
              "          await google.colab.output.renderOutput(dataTable, element);\n",
              "          const docLink = document.createElement('div');\n",
              "          docLink.innerHTML = docLinkHtml;\n",
              "          element.appendChild(docLink);\n",
              "        }\n",
              "      </script>\n",
              "    </div>\n",
              "  </div>\n",
              "  "
            ]
          },
          "metadata": {},
          "execution_count": 175
        }
      ],
      "source": [
        "# encoding the categorical variables\n",
        "X = pd.get_dummies(X, drop_first=True)\n",
        "X.head()"
      ]
    },
    {
      "cell_type": "markdown",
      "metadata": {
        "id": "e5OAXKM1HQSV"
      },
      "source": [
        "**Creating training and test sets.**"
      ]
    },
    {
      "cell_type": "code",
      "source": [
        "X_train, x_test, y_train, y_test = train_test_split(X, y, test_size=0.3, random_state=1)"
      ],
      "metadata": {
        "id": "pUPB7xpErjq6"
      },
      "execution_count": null,
      "outputs": []
    },
    {
      "cell_type": "markdown",
      "metadata": {
        "id": "04FrGFZ3tHPx"
      },
      "source": [
        "## Model Building - Decision Tree Model"
      ]
    },
    {
      "cell_type": "markdown",
      "metadata": {
        "id": "U_imjVzRxLQC"
      },
      "source": [
        "### Build Decision Tree Model"
      ]
    },
    {
      "cell_type": "code",
      "execution_count": null,
      "metadata": {
        "id": "KUN_rjjmtHPy",
        "outputId": "942c47ca-7d26-4920-b852-235368e22289",
        "colab": {
          "base_uri": "https://localhost:8080/"
        }
      },
      "outputs": [
        {
          "output_type": "execute_result",
          "data": {
            "text/plain": [
              "DecisionTreeClassifier(random_state=1)"
            ]
          },
          "metadata": {},
          "execution_count": 179
        }
      ],
      "source": [
        "model = DecisionTreeClassifier(criterion=\"gini\", random_state=1)\n",
        "model.fit(X_train, y_train)"
      ]
    },
    {
      "cell_type": "markdown",
      "metadata": {
        "id": "pv7tdUl_tHPx"
      },
      "source": [
        "### Model performance evaluation\n",
        "\n",
        "### Model can make wrong predictions as:\n",
        " \n",
        "1. Predicting a customer will not be behind on payments (Non-Delinquent) but in reality the customer would be behind on payments.\n",
        "\n",
        "2. Predicting a customer will be behind on payments (Delinquent) but in reality the customer would not be behind on payments (Non-Delinquent). \n",
        "\n",
        "\n",
        "### Which case is more important? \n",
        "\n",
        "* If we predict a non-delinquent customer as a delinquent customer bank would lose an opportunity of providing loan to a potential customer.\n",
        "\n",
        "### How to reduce this loss i.e need to reduce False Negatives?\n",
        "*  `recall` should be maximized, the greater the recall higher the chances of minimizing the false negatives."
      ]
    },
    {
      "cell_type": "markdown",
      "metadata": {
        "id": "fld-ppK9tHPx"
      },
      "source": [
        "#### First, let's create functions to calculate different metrics and confusion matrix so that we don't have to use the same code repeatedly for each model.\n",
        "* The model_performance_classification_sklearn function will be used to check the model performance of models. \n",
        "* The make_confusion_matrix function will be used to plot confusion matrix."
      ]
    },
    {
      "cell_type": "code",
      "execution_count": null,
      "metadata": {
        "id": "AM0byVj8tHPx"
      },
      "outputs": [],
      "source": [
        "# defining a function to compute different metrics to check performance of a classification model built using sklearn\n",
        "def model_performance_classification_sklearn(model, predictors, target):\n",
        "    \"\"\"\n",
        "    Function to compute different metrics to check classification model performance\n",
        "\n",
        "    model: classifier\n",
        "    predictors: independent variables\n",
        "    target: dependent variable\n",
        "    \"\"\"\n",
        "\n",
        "    # predicting using the independent variables\n",
        "    pred = model.predict(predictors)\n",
        "\n",
        "    acc = accuracy_score(target, pred)  # to compute Accuracy\n",
        "    recall = recall_score(target, pred)  # to compute Recall\n",
        "    precision = precision_score(target, pred)  # to compute Precision\n",
        "    f1 = f1_score(target, pred)  # to compute F1-score\n",
        "\n",
        "    # creating a dataframe of metrics\n",
        "    df_perf = pd.DataFrame(\n",
        "        {\"Accuracy\": acc, \"Recall\": recall, \"Precision\": precision, \"F1\": f1,},\n",
        "        index=[0],\n",
        "    )\n",
        "\n",
        "    return df_perf"
      ]
    },
    {
      "cell_type": "code",
      "execution_count": null,
      "metadata": {
        "id": "3NDu-tX7tHPy"
      },
      "outputs": [],
      "source": [
        "def confusion_matrix_sklearn(model, predictors, target):\n",
        "    \"\"\"\n",
        "    To plot the confusion_matrix with percentages\n",
        "\n",
        "    model: classifier\n",
        "    predictors: independent variables\n",
        "    target: dependent variable\n",
        "    \"\"\"\n",
        "    y_pred = model.predict(predictors)\n",
        "    cm = confusion_matrix(target, y_pred)\n",
        "    labels = np.asarray(\n",
        "        [\n",
        "            [\"{0:0.0f}\".format(item) + \"\\n{0:.2%}\".format(item / cm.flatten().sum())]\n",
        "            for item in cm.flatten()\n",
        "        ]\n",
        "    ).reshape(2, 2)\n",
        "\n",
        "    plt.figure(figsize=(6, 4))\n",
        "    sns.heatmap(cm, annot=labels, fmt=\"\")\n",
        "    plt.ylabel(\"True label\")\n",
        "    plt.xlabel(\"Predicted label\")"
      ]
    },
    {
      "cell_type": "markdown",
      "metadata": {
        "id": "d8XDDQvitHPy"
      },
      "source": [
        "### Checking model performance on training set"
      ]
    },
    {
      "cell_type": "code",
      "execution_count": null,
      "metadata": {
        "id": "aUmC_rULtHPy",
        "outputId": "fab4c0dc-a57c-4923-d8d6-1a99246614c9",
        "colab": {
          "base_uri": "https://localhost:8080/",
          "height": 81
        }
      },
      "outputs": [
        {
          "output_type": "execute_result",
          "data": {
            "text/plain": [
              "   Accuracy  Recall  Precision   F1\n",
              "0       1.0     1.0        1.0  1.0"
            ],
            "text/html": [
              "\n",
              "  <div id=\"df-6a99c3ea-586d-41c4-af65-94aaf7f69959\">\n",
              "    <div class=\"colab-df-container\">\n",
              "      <div>\n",
              "<style scoped>\n",
              "    .dataframe tbody tr th:only-of-type {\n",
              "        vertical-align: middle;\n",
              "    }\n",
              "\n",
              "    .dataframe tbody tr th {\n",
              "        vertical-align: top;\n",
              "    }\n",
              "\n",
              "    .dataframe thead th {\n",
              "        text-align: right;\n",
              "    }\n",
              "</style>\n",
              "<table border=\"1\" class=\"dataframe\">\n",
              "  <thead>\n",
              "    <tr style=\"text-align: right;\">\n",
              "      <th></th>\n",
              "      <th>Accuracy</th>\n",
              "      <th>Recall</th>\n",
              "      <th>Precision</th>\n",
              "      <th>F1</th>\n",
              "    </tr>\n",
              "  </thead>\n",
              "  <tbody>\n",
              "    <tr>\n",
              "      <th>0</th>\n",
              "      <td>1.0</td>\n",
              "      <td>1.0</td>\n",
              "      <td>1.0</td>\n",
              "      <td>1.0</td>\n",
              "    </tr>\n",
              "  </tbody>\n",
              "</table>\n",
              "</div>\n",
              "      <button class=\"colab-df-convert\" onclick=\"convertToInteractive('df-6a99c3ea-586d-41c4-af65-94aaf7f69959')\"\n",
              "              title=\"Convert this dataframe to an interactive table.\"\n",
              "              style=\"display:none;\">\n",
              "        \n",
              "  <svg xmlns=\"http://www.w3.org/2000/svg\" height=\"24px\"viewBox=\"0 0 24 24\"\n",
              "       width=\"24px\">\n",
              "    <path d=\"M0 0h24v24H0V0z\" fill=\"none\"/>\n",
              "    <path d=\"M18.56 5.44l.94 2.06.94-2.06 2.06-.94-2.06-.94-.94-2.06-.94 2.06-2.06.94zm-11 1L8.5 8.5l.94-2.06 2.06-.94-2.06-.94L8.5 2.5l-.94 2.06-2.06.94zm10 10l.94 2.06.94-2.06 2.06-.94-2.06-.94-.94-2.06-.94 2.06-2.06.94z\"/><path d=\"M17.41 7.96l-1.37-1.37c-.4-.4-.92-.59-1.43-.59-.52 0-1.04.2-1.43.59L10.3 9.45l-7.72 7.72c-.78.78-.78 2.05 0 2.83L4 21.41c.39.39.9.59 1.41.59.51 0 1.02-.2 1.41-.59l7.78-7.78 2.81-2.81c.8-.78.8-2.07 0-2.86zM5.41 20L4 18.59l7.72-7.72 1.47 1.35L5.41 20z\"/>\n",
              "  </svg>\n",
              "      </button>\n",
              "      \n",
              "  <style>\n",
              "    .colab-df-container {\n",
              "      display:flex;\n",
              "      flex-wrap:wrap;\n",
              "      gap: 12px;\n",
              "    }\n",
              "\n",
              "    .colab-df-convert {\n",
              "      background-color: #E8F0FE;\n",
              "      border: none;\n",
              "      border-radius: 50%;\n",
              "      cursor: pointer;\n",
              "      display: none;\n",
              "      fill: #1967D2;\n",
              "      height: 32px;\n",
              "      padding: 0 0 0 0;\n",
              "      width: 32px;\n",
              "    }\n",
              "\n",
              "    .colab-df-convert:hover {\n",
              "      background-color: #E2EBFA;\n",
              "      box-shadow: 0px 1px 2px rgba(60, 64, 67, 0.3), 0px 1px 3px 1px rgba(60, 64, 67, 0.15);\n",
              "      fill: #174EA6;\n",
              "    }\n",
              "\n",
              "    [theme=dark] .colab-df-convert {\n",
              "      background-color: #3B4455;\n",
              "      fill: #D2E3FC;\n",
              "    }\n",
              "\n",
              "    [theme=dark] .colab-df-convert:hover {\n",
              "      background-color: #434B5C;\n",
              "      box-shadow: 0px 1px 3px 1px rgba(0, 0, 0, 0.15);\n",
              "      filter: drop-shadow(0px 1px 2px rgba(0, 0, 0, 0.3));\n",
              "      fill: #FFFFFF;\n",
              "    }\n",
              "  </style>\n",
              "\n",
              "      <script>\n",
              "        const buttonEl =\n",
              "          document.querySelector('#df-6a99c3ea-586d-41c4-af65-94aaf7f69959 button.colab-df-convert');\n",
              "        buttonEl.style.display =\n",
              "          google.colab.kernel.accessAllowed ? 'block' : 'none';\n",
              "\n",
              "        async function convertToInteractive(key) {\n",
              "          const element = document.querySelector('#df-6a99c3ea-586d-41c4-af65-94aaf7f69959');\n",
              "          const dataTable =\n",
              "            await google.colab.kernel.invokeFunction('convertToInteractive',\n",
              "                                                     [key], {});\n",
              "          if (!dataTable) return;\n",
              "\n",
              "          const docLinkHtml = 'Like what you see? Visit the ' +\n",
              "            '<a target=\"_blank\" href=https://colab.research.google.com/notebooks/data_table.ipynb>data table notebook</a>'\n",
              "            + ' to learn more about interactive tables.';\n",
              "          element.innerHTML = '';\n",
              "          dataTable['output_type'] = 'display_data';\n",
              "          await google.colab.output.renderOutput(dataTable, element);\n",
              "          const docLink = document.createElement('div');\n",
              "          docLink.innerHTML = docLinkHtml;\n",
              "          element.appendChild(docLink);\n",
              "        }\n",
              "      </script>\n",
              "    </div>\n",
              "  </div>\n",
              "  "
            ]
          },
          "metadata": {},
          "execution_count": 182
        }
      ],
      "source": [
        "decision_tree_perf_train = model_performance_classification_sklearn(\n",
        "    model, X_train, y_train\n",
        ")\n",
        "decision_tree_perf_train"
      ]
    },
    {
      "cell_type": "code",
      "execution_count": null,
      "metadata": {
        "id": "k9ubPxHptHPy",
        "outputId": "cd321901-5681-49d5-a4b8-801dd784b476",
        "colab": {
          "base_uri": "https://localhost:8080/",
          "height": 279
        }
      },
      "outputs": [
        {
          "output_type": "display_data",
          "data": {
            "text/plain": [
              "<Figure size 432x288 with 2 Axes>"
            ],
            "image/png": "[encoded data removed]"
          },
          "metadata": {
            "needs_background": "light"
          }
        }
      ],
      "source": [
        "confusion_matrix_sklearn(model, X_train, y_train)"
      ]
    },
    {
      "cell_type": "markdown",
      "metadata": {
        "id": "SRz5Aks1tHPy"
      },
      "source": [
        "### Checking model performance on test set"
      ]
    },
    {
      "cell_type": "code",
      "source": [
        "model = DecisionTreeClassifier(criterion=\"gini\", random_state=1)\n",
        "model.fit(X_train, y_train)"
      ],
      "metadata": {
        "id": "TMTrv6KwsX9g"
      },
      "execution_count": null,
      "outputs": []
    },
    {
      "cell_type": "code",
      "execution_count": null,
      "metadata": {
        "id": "SwP_yAlAtHPz",
        "outputId": "4678d7fe-d1bf-43d5-f97d-33255d899036",
        "colab": {
          "base_uri": "https://localhost:8080/",
          "height": 218
        }
      },
      "outputs": [
        {
          "output_type": "error",
          "ename": "NameError",
          "evalue": "ignored",
          "traceback": [
            "\u001b[0;31m---------------------------------------------------------------------------\u001b[0m",
            "\u001b[0;31mNameError\u001b[0m                                 Traceback (most recent call last)",
            "\u001b[0;32m<ipython-input-184-2551f84a06b7>\u001b[0m in \u001b[0;36m<module>\u001b[0;34m\u001b[0m\n\u001b[1;32m      1\u001b[0m decision_tree_perf_test = model_performance_classification_sklearn(\n\u001b[0;32m----> 2\u001b[0;31m     \u001b[0mmodel\u001b[0m\u001b[0;34m,\u001b[0m \u001b[0mX_test\u001b[0m\u001b[0;34m,\u001b[0m \u001b[0my_test\u001b[0m\u001b[0;34m\u001b[0m\u001b[0;34m\u001b[0m\u001b[0m\n\u001b[0m\u001b[1;32m      3\u001b[0m )\n\u001b[1;32m      4\u001b[0m \u001b[0mdecision_tree_perf_test\u001b[0m\u001b[0;34m\u001b[0m\u001b[0;34m\u001b[0m\u001b[0m\n",
            "\u001b[0;31mNameError\u001b[0m: name 'X_test' is not defined"
          ]
        }
      ],
      "source": [
        "decision_tree_perf_test = model_performance_classification_sklearn(\n",
        "    model, X_test, y_test\n",
        ")\n",
        "decision_tree_perf_test"
      ]
    },
    {
      "cell_type": "code",
      "execution_count": null,
      "metadata": {
        "id": "GG-ZCnjitHPz"
      },
      "outputs": [],
      "source": [
        "confusion_matrix_sklearn(model, X_test, y_test)"
      ]
    },
    {
      "cell_type": "markdown",
      "metadata": {
        "id": "xS--AHAOtHPz"
      },
      "source": [
        "* Model is giving good and generalized results on training and test set."
      ]
    },
    {
      "cell_type": "markdown",
      "metadata": {
        "id": "WGn7w06uxLQP"
      },
      "source": [
        "### Visualizing the Decision Tree"
      ]
    },
    {
      "cell_type": "code",
      "execution_count": null,
      "metadata": {
        "id": "Np3yrTbktHPz"
      },
      "outputs": [],
      "source": [
        "column_names = list(X.columns)\n",
        "feature_names = column_names\n",
        "print(feature_names)"
      ]
    },
    {
      "cell_type": "code",
      "execution_count": null,
      "metadata": {
        "id": "RYaMUYz4tHPz"
      },
      "outputs": [],
      "source": [
        "plt.figure(figsize=(20, 30))\n",
        "\n",
        "out = tree.plot_tree(\n",
        "    model,\n",
        "    feature_names=feature_names,\n",
        "    filled=True,\n",
        "    fontsize=9,\n",
        "    node_ids=True,\n",
        "    class_names=True,\n",
        ")\n",
        "for o in out:\n",
        "    arrow = o.arrow_patch\n",
        "    if arrow is not None:\n",
        "        arrow.set_edgecolor(\"black\")\n",
        "        arrow.set_linewidth(1)\n",
        "plt.show()"
      ]
    },
    {
      "cell_type": "code",
      "execution_count": null,
      "metadata": {
        "id": "nGQ9ICqctHPz"
      },
      "outputs": [],
      "source": [
        "# Text report showing the rules of a decision tree -\n",
        "\n",
        "print(tree.export_text(model, feature_names=feature_names, show_weights=True))"
      ]
    },
    {
      "cell_type": "code",
      "execution_count": null,
      "metadata": {
        "id": "4qiT3x-WtHP0"
      },
      "outputs": [],
      "source": [
        "importances = model.feature_importances_\n",
        "indices = np.argsort(importances)\n",
        "\n",
        "plt.figure(figsize=(12, 12))\n",
        "plt.title(\"Feature Importances\")\n",
        "plt.barh(range(len(indices)), importances[indices], color=\"violet\", align=\"center\")\n",
        "plt.yticks(range(len(indices)), [feature_names[i] for i in indices])\n",
        "plt.xlabel(\"Relative Importance\")\n",
        "plt.show()"
      ]
    },
    {
      "cell_type": "markdown",
      "metadata": {
        "id": "oXIWGor5tHP0"
      },
      "source": [
        "* FICO score, duration of loan and gender are the top 3 important features."
      ]
    },
    {
      "cell_type": "markdown",
      "metadata": {
        "id": "WUfIDKYkJHqv"
      },
      "source": [
        "### Decision Tree (Pre-pruning)"
      ]
    },
    {
      "cell_type": "markdown",
      "metadata": {
        "id": "QMt62ns9tHP0"
      },
      "source": [
        "#### Using GridSearch for Hyperparameter tuning of our tree model \n",
        "* Let's see if we can improve our model performance even more."
      ]
    },
    {
      "cell_type": "code",
      "execution_count": null,
      "metadata": {
        "id": "EGJOqdZUxLQu"
      },
      "outputs": [],
      "source": [
        "# Choose the type of classifier.\n",
        "estimator = DecisionTreeClassifier(random_state=1)\n",
        "\n",
        "# Grid of parameters to choose from\n",
        "\n",
        "parameters = {\n",
        "    \"max_depth\": [np.arange(2, 50, 5), None],\n",
        "    \"criterion\": [\"entropy\", \"gini\"],\n",
        "    \"splitter\": [\"best\", \"random\"],\n",
        "    \"min_impurity_decrease\": [0.000001, 0.00001, 0.0001],\n",
        "}\n",
        "\n",
        "# Type of scoring used to compare parameter combinations\n",
        "acc_scorer = make_scorer(recall_score)\n",
        "\n",
        "# Run the grid search\n",
        "grid_obj = GridSearchCV(estimator, parameters, scoring=acc_scorer, cv=5)\n",
        "grid_obj = grid_obj.fit(X_train, y_train)\n",
        "\n",
        "# Set the clf to the best combination of parameters\n",
        "estimator = grid_obj.best_estimator_\n",
        "\n",
        "# Fit the best algorithm to the data.\n",
        "estimator.fit(X_train, y_train)"
      ]
    },
    {
      "cell_type": "markdown",
      "metadata": {
        "id": "TbY1Lz1otHP1"
      },
      "source": [
        "### Checking performance on training set"
      ]
    },
    {
      "cell_type": "code",
      "execution_count": null,
      "metadata": {
        "id": "6NZkFW9ttHP1"
      },
      "outputs": [],
      "source": [
        "decision_tree_tune_perf_train = model_performance_classification_sklearn(\n",
        "    estimator, X_train, y_train\n",
        ")\n",
        "decision_tree_tune_perf_train"
      ]
    },
    {
      "cell_type": "code",
      "execution_count": null,
      "metadata": {
        "id": "pjNK6TqrtHP2"
      },
      "outputs": [],
      "source": [
        "confusion_matrix_sklearn(estimator, X_train, y_train)"
      ]
    },
    {
      "cell_type": "markdown",
      "metadata": {
        "id": "fmBH275dtHP2"
      },
      "source": [
        "* The Recall has improved on the training set as compared to the initial model."
      ]
    },
    {
      "cell_type": "markdown",
      "metadata": {
        "id": "2YgsRY9ktHP2"
      },
      "source": [
        "### Checking model performance on test set"
      ]
    },
    {
      "cell_type": "code",
      "execution_count": null,
      "metadata": {
        "id": "v6RFHum3tHP2"
      },
      "outputs": [],
      "source": [
        "decision_tree_tune_perf_test = model_performance_classification_sklearn(\n",
        "    estimator, X_test, y_test\n",
        ")\n",
        "\n",
        "decision_tree_tune_perf_test"
      ]
    },
    {
      "cell_type": "code",
      "execution_count": null,
      "metadata": {
        "id": "NksQp24YtHP2"
      },
      "outputs": [],
      "source": [
        "confusion_matrix_sklearn(estimator, X_test, y_test)"
      ]
    },
    {
      "cell_type": "markdown",
      "metadata": {
        "id": "I5bvkueUtHP2"
      },
      "source": [
        "* After hyperparameter tuning the model has performance has remained same and the model has become simpler."
      ]
    },
    {
      "cell_type": "code",
      "execution_count": null,
      "metadata": {
        "id": "d40H3OM6tHP2"
      },
      "outputs": [],
      "source": [
        "plt.figure(figsize=(15, 12))\n",
        "\n",
        "tree.plot_tree(\n",
        "    estimator,\n",
        "    feature_names=feature_names,\n",
        "    filled=True,\n",
        "    fontsize=9,\n",
        "    node_ids=True,\n",
        "    class_names=True,\n",
        ")\n",
        "plt.show()"
      ]
    },
    {
      "cell_type": "markdown",
      "metadata": {
        "id": "fHdG69b1tHP3"
      },
      "source": [
        "* We are getting a simplified tree after pre-pruning."
      ]
    },
    {
      "cell_type": "markdown",
      "metadata": {
        "id": "guc7EuIJxLQ-"
      },
      "source": [
        "### Cost Complexity Pruning"
      ]
    },
    {
      "cell_type": "code",
      "execution_count": null,
      "metadata": {
        "id": "498-a5xCxLQ_"
      },
      "outputs": [],
      "source": [
        "clf = DecisionTreeClassifier(random_state=1)\n",
        "path = clf.cost_complexity_pruning_path(X_train, y_train)\n",
        "ccp_alphas, impurities = path.ccp_alphas, path.impurities"
      ]
    },
    {
      "cell_type": "code",
      "execution_count": null,
      "metadata": {
        "id": "J4XkCPSWxLRB"
      },
      "outputs": [],
      "source": [
        "pd.DataFrame(path)"
      ]
    },
    {
      "cell_type": "code",
      "execution_count": null,
      "metadata": {
        "id": "i_Wed1SXxLRE"
      },
      "outputs": [],
      "source": [
        "fig, ax = plt.subplots(figsize=(15, 5))\n",
        "ax.plot(ccp_alphas[:-1], impurities[:-1], marker=\"o\", drawstyle=\"steps-post\")\n",
        "ax.set_xlabel(\"effective alpha\")\n",
        "ax.set_ylabel(\"total impurity of leaves\")\n",
        "ax.set_title(\"Total Impurity vs effective alpha for training set\")\n",
        "plt.show()"
      ]
    },
    {
      "cell_type": "markdown",
      "metadata": {
        "id": "-QsO1CYIxLRG"
      },
      "source": [
        "Next, we train a decision tree using the effective alphas. The last value\n",
        "in ``ccp_alphas`` is the alpha value that prunes the whole tree,\n",
        "leaving the tree, ``clfs[-1]``, with one node."
      ]
    },
    {
      "cell_type": "code",
      "execution_count": null,
      "metadata": {
        "id": "4L-P50vSxLRH"
      },
      "outputs": [],
      "source": [
        "clfs = []\n",
        "for ccp_alpha in ccp_alphas:\n",
        "    clf = DecisionTreeClassifier(random_state=1, ccp_alpha=ccp_alpha)\n",
        "    clf.fit(X_train, y_train)\n",
        "    clfs.append(clf)\n",
        "print(\n",
        "    \"Number of nodes in the last tree is: {} with ccp_alpha: {}\".format(\n",
        "        clfs[-1].tree_.node_count, ccp_alphas[-1]\n",
        "    )\n",
        ")"
      ]
    },
    {
      "cell_type": "markdown",
      "metadata": {
        "id": "WKsOMwt2xLRJ"
      },
      "source": [
        "\n",
        "For the remainder, we remove the last element in\n",
        "``clfs`` and ``ccp_alphas``, because it is the trivial tree with only one\n",
        "node. Here we show that the number of nodes and tree depth decreases as alpha\n",
        "increases."
      ]
    },
    {
      "cell_type": "code",
      "execution_count": null,
      "metadata": {
        "id": "QU2un6_sxLRJ"
      },
      "outputs": [],
      "source": [
        "clfs = clfs[:-1]\n",
        "ccp_alphas = ccp_alphas[:-1]\n",
        "\n",
        "node_counts = [clf.tree_.node_count for clf in clfs]\n",
        "depth = [clf.tree_.max_depth for clf in clfs]\n",
        "fig, ax = plt.subplots(2, 1, figsize=(10, 7))\n",
        "ax[0].plot(ccp_alphas, node_counts, marker=\"o\", drawstyle=\"steps-post\")\n",
        "ax[0].set_xlabel(\"alpha\")\n",
        "ax[0].set_ylabel(\"number of nodes\")\n",
        "ax[0].set_title(\"Number of nodes vs alpha\")\n",
        "ax[1].plot(ccp_alphas, depth, marker=\"o\", drawstyle=\"steps-post\")\n",
        "ax[1].set_xlabel(\"alpha\")\n",
        "ax[1].set_ylabel(\"depth of tree\")\n",
        "ax[1].set_title(\"Depth vs alpha\")\n",
        "fig.tight_layout()"
      ]
    },
    {
      "cell_type": "markdown",
      "metadata": {
        "id": "62dQ0wu5xLRL"
      },
      "source": [
        "### Recall vs alpha for training and testing sets"
      ]
    },
    {
      "cell_type": "code",
      "execution_count": null,
      "metadata": {
        "id": "kFy56kcixLRS"
      },
      "outputs": [],
      "source": [
        "recall_train = []\n",
        "for clf in clfs:\n",
        "    pred_train = clf.predict(X_train)\n",
        "    values_train = recall_score(y_train, pred_train)\n",
        "    recall_train.append(values_train)"
      ]
    },
    {
      "cell_type": "code",
      "execution_count": null,
      "metadata": {
        "id": "E5VEnQ8pxLRT"
      },
      "outputs": [],
      "source": [
        "recall_test = []\n",
        "for clf in clfs:\n",
        "    pred_test = clf.predict(X_test)\n",
        "    values_test = recall_score(y_test, pred_test)\n",
        "    recall_test.append(values_test)"
      ]
    },
    {
      "cell_type": "code",
      "execution_count": null,
      "metadata": {
        "id": "eB0uDF0GxLRW"
      },
      "outputs": [],
      "source": [
        "fig, ax = plt.subplots(figsize=(15, 5))\n",
        "ax.set_xlabel(\"alpha\")\n",
        "ax.set_ylabel(\"Recall\")\n",
        "ax.set_title(\"Recall vs alpha for training and testing sets\")\n",
        "ax.plot(ccp_alphas, recall_train, marker=\"o\", label=\"train\", drawstyle=\"steps-post\")\n",
        "ax.plot(ccp_alphas, recall_test, marker=\"o\", label=\"test\", drawstyle=\"steps-post\")\n",
        "ax.legend()\n",
        "plt.show()"
      ]
    },
    {
      "cell_type": "code",
      "execution_count": null,
      "metadata": {
        "id": "_uIVrmaGxLRZ",
        "scrolled": true
      },
      "outputs": [],
      "source": [
        "# creating the model where we get highest train and test recall\n",
        "index_best_model = np.argmax(recall_test)\n",
        "best_model = clfs[index_best_model]\n",
        "print(best_model)"
      ]
    },
    {
      "cell_type": "markdown",
      "metadata": {
        "id": "rW3G9W8PtHP6"
      },
      "source": [
        "### Checking model performance on training set"
      ]
    },
    {
      "cell_type": "code",
      "execution_count": null,
      "metadata": {
        "id": "FJcEFBnatHP6"
      },
      "outputs": [],
      "source": [
        "decision_tree_postpruned_perf_train = model_performance_classification_sklearn(\n",
        "    best_model, X_train, y_train\n",
        ")\n",
        "decision_tree_postpruned_perf_train"
      ]
    },
    {
      "cell_type": "code",
      "execution_count": null,
      "metadata": {
        "id": "x5hlHtRxtHP7"
      },
      "outputs": [],
      "source": [
        "confusion_matrix_sklearn(best_model, X_train, y_train)"
      ]
    },
    {
      "cell_type": "markdown",
      "metadata": {
        "id": "JLZDokvTtHP7"
      },
      "source": [
        "### Checking model performance on test set"
      ]
    },
    {
      "cell_type": "code",
      "execution_count": null,
      "metadata": {
        "id": "rXI5QL_BtHP7"
      },
      "outputs": [],
      "source": [
        "decision_tree_postpruned_perf_test = model_performance_classification_sklearn(\n",
        "    best_model, X_test, y_test\n",
        ")\n",
        "decision_tree_postpruned_perf_test"
      ]
    },
    {
      "cell_type": "code",
      "execution_count": null,
      "metadata": {
        "id": "Rwy4PB4QtHP7"
      },
      "outputs": [],
      "source": [
        "confusion_matrix_sklearn(best_model, X_train, y_train)"
      ]
    },
    {
      "cell_type": "markdown",
      "metadata": {
        "id": "Mf83_7MwtHP7"
      },
      "source": [
        "* With post-pruning we are getting good and generalized model performance on both training and test set.\n",
        "* The recall has improved further."
      ]
    },
    {
      "cell_type": "markdown",
      "metadata": {
        "id": "UvvLsO1qtHP7"
      },
      "source": [
        "### Visualizing the Decision Tree"
      ]
    },
    {
      "cell_type": "code",
      "execution_count": null,
      "metadata": {
        "id": "cRRrogVyxLRg"
      },
      "outputs": [],
      "source": [
        "plt.figure(figsize=(10, 10))\n",
        "\n",
        "out = tree.plot_tree(\n",
        "    best_model,\n",
        "    feature_names=feature_names,\n",
        "    filled=True,\n",
        "    fontsize=9,\n",
        "    node_ids=True,\n",
        "    class_names=True,\n",
        ")\n",
        "for o in out:\n",
        "    arrow = o.arrow_patch\n",
        "    if arrow is not None:\n",
        "        arrow.set_edgecolor(\"black\")\n",
        "        arrow.set_linewidth(1)\n",
        "plt.show()\n",
        "plt.show()"
      ]
    },
    {
      "cell_type": "code",
      "execution_count": null,
      "metadata": {
        "id": "jDZUOj5BxLRi"
      },
      "outputs": [],
      "source": [
        "# Text report showing the rules of a decision tree -\n",
        "\n",
        "print(tree.export_text(best_model, feature_names=feature_names, show_weights=True))"
      ]
    },
    {
      "cell_type": "code",
      "execution_count": null,
      "metadata": {
        "id": "DSCypYd3xLRj"
      },
      "outputs": [],
      "source": [
        "# importance of features in the tree building ( The importance of a feature is computed as the\n",
        "# (normalized) total reduction of the 'criterion' brought by that feature. It is also known as the Gini importance )\n",
        "\n",
        "print(\n",
        "    pd.DataFrame(\n",
        "        best_model.feature_importances_, columns=[\"Imp\"], index=X_train.columns\n",
        "    ).sort_values(by=\"Imp\", ascending=False)\n",
        ")"
      ]
    },
    {
      "cell_type": "code",
      "execution_count": null,
      "metadata": {
        "id": "n_nDT7r8xLRl"
      },
      "outputs": [],
      "source": [
        "importances = best_model.feature_importances_\n",
        "indices = np.argsort(importances)\n",
        "\n",
        "plt.figure(figsize=(12, 12))\n",
        "plt.title(\"Feature Importances\")\n",
        "plt.barh(range(len(indices)), importances[indices], color=\"violet\", align=\"center\")\n",
        "plt.yticks(range(len(indices)), [feature_names[i] for i in indices])\n",
        "plt.xlabel(\"Relative Importance\")\n",
        "plt.show()"
      ]
    },
    {
      "cell_type": "markdown",
      "metadata": {
        "id": "dTPfo2UBtHP9"
      },
      "source": [
        "* FICO score, duration of the loan, and gender remain the most important feature with post-pruning too."
      ]
    },
    {
      "cell_type": "markdown",
      "metadata": {
        "id": "qzHfpcXUtHP9"
      },
      "source": [
        "## Comparison of Models and Final Model Selection"
      ]
    },
    {
      "cell_type": "code",
      "execution_count": null,
      "metadata": {
        "id": "jNKZjubGtHP9"
      },
      "outputs": [],
      "source": [
        "# training performance comparison\n",
        "\n",
        "models_train_comp_df = pd.concat(\n",
        "    [\n",
        "        decision_tree_perf_train.T,\n",
        "        decision_tree_tune_perf_train.T,\n",
        "        decision_tree_postpruned_perf_train.T,\n",
        "    ],\n",
        "    axis=1,\n",
        ")\n",
        "models_train_comp_df.columns = [\n",
        "    \"Decision Tree sklearn\",\n",
        "    \"Decision Tree (Pre-Pruning)\",\n",
        "    \"Decision Tree (Post-Pruning)\",\n",
        "]\n",
        "print(\"Training performance comparison:\")\n",
        "models_train_comp_df"
      ]
    },
    {
      "cell_type": "code",
      "execution_count": null,
      "metadata": {
        "id": "iHBf96DmtHP9"
      },
      "outputs": [],
      "source": [
        "# test performance comparison\n",
        "\n",
        "models_train_comp_df = pd.concat(\n",
        "    [\n",
        "        decision_tree_perf_test.T,\n",
        "        decision_tree_tune_perf_test.T,\n",
        "        decision_tree_postpruned_perf_test.T,\n",
        "    ],\n",
        "    axis=1,\n",
        ")\n",
        "models_train_comp_df.columns = [\n",
        "    \"Decision Tree sklearn\",\n",
        "    \"Decision Tree (Pre-Pruning)\",\n",
        "    \"Decision Tree (Post-Pruning)\",\n",
        "]\n",
        "print(\"Test set performance comparison:\")\n",
        "models_train_comp_df"
      ]
    },
    {
      "cell_type": "markdown",
      "metadata": {
        "id": "qiJe6244tHP-"
      },
      "source": [
        "* Decision tree with post-pruning is giving the highest recall on the test set.\n",
        "* The tree with post pruning is not complex and easy to interpret."
      ]
    },
    {
      "cell_type": "markdown",
      "metadata": {
        "id": "LpNPJwjHtHP-"
      },
      "source": [
        "## Conclusions and Recommendations"
      ]
    },
    {
      "cell_type": "markdown",
      "metadata": {
        "id": "xVhpDi2hKZAz"
      },
      "source": [
        "* FICO, term and gender (in that order) are the most important variables in determining if a borrower will get into a delinquent stage \n",
        "* No borrower shall be given a loan if they are applying for a 36 month term loan and \n",
        "have a FICO score in the range 300-500.\n",
        "* Female borrowers with a FICO score greater than 500 should be our target customers.\n",
        "* Criteria to approve loan according to decision tree model should depend on three main factors - FICO score, duration of loan and gender that is - If the FICO score is less than 500 and the duration of loan is less than 60 months then the customer will not be able to repay the loans. If the customer has greater than 500 FICO score and is a female higher chances that they will repay the loans."
      ]
    }
  ],
  "metadata": {
    "colab": {
      "collapsed_sections": [
        "5KIc3T1j5fK5",
        "tC574UFUD4A4",
        "a9ZMNfUNhU14",
        "2bPpyK_cEHzq",
        "r8omfzv0tHOz",
        "dEuSu6e4hU2e",
        "mwAu-vEwhU2m",
        "7E1orwlJhU20",
        "Ie6gSJh8hU28",
        "spLcUitLEWx4",
        "vXoQOPsVhU3h",
        "wuL-aB65tHO_",
        "rsaxyjL7tHO_",
        "QkXGt6lVtHPA",
        "IQ59IaDXtHPB",
        "UbZDB3TGtHPq",
        "Lw6uFMRutHPr",
        "ah0R9IkjtHPr",
        "ii36hlj9tHPr",
        "vmbZNXkAtHPs",
        "tDysrZPiPSBS",
        "T5FLmNgIF3JH",
        "eaerBFkXGA1j",
        "mJFTb4EpGHCo",
        "3qkCgN9DGMR_",
        "rvhPlCr1GPm_",
        "rvrz5DE9tHPt",
        "BLE5c1NDGewb",
        "Ru3sSmGYGkm1",
        "s-vKvMEYGoZQ",
        "_2KSmhKxtHPv",
        "Y7V4EE9oHfU_",
        "vsWZMSgPtHPw",
        "04FrGFZ3tHPx",
        "U_imjVzRxLQC",
        "fld-ppK9tHPx",
        "d8XDDQvitHPy",
        "SRz5Aks1tHPy",
        "WGn7w06uxLQP",
        "WUfIDKYkJHqv",
        "QMt62ns9tHP0",
        "TbY1Lz1otHP1",
        "2YgsRY9ktHP2",
        "guc7EuIJxLQ-",
        "62dQ0wu5xLRL",
        "rW3G9W8PtHP6",
        "JLZDokvTtHP7",
        "UvvLsO1qtHP7",
        "qzHfpcXUtHP9",
        "LpNPJwjHtHP-"
      ],
      "provenance": [],
      "include_colab_link": true
    },
    "kernelspec": {
      "display_name": "Python 3",
      "language": "python",
      "name": "python3"
    },
    "language_info": {
      "codemirror_mode": {
        "name": "ipython",
        "version": 3
      },
      "file_extension": ".py",
      "mimetype": "text/x-python",
      "name": "python",
      "nbconvert_exporter": "python",
      "pygments_lexer": "ipython3",
      "version": "3.8.8"
    }
  },
  "nbformat": 4,
  "nbformat_minor": 0
}